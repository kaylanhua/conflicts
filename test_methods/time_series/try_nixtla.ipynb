{
 "cells": [
  {
   "cell_type": "markdown",
   "metadata": {},
   "source": [
    "# NIXTLA NEURALFORECAST\n",
    "linked [here](https://github.com/Nixtla/neuralforecast)\n",
    "\n",
    "### transformers\n",
    "https://nixtlaverse.nixtla.io/neuralforecast/examples/longhorizon_with_transformers.html"
   ]
  },
  {
   "cell_type": "code",
   "execution_count": 3,
   "metadata": {},
   "outputs": [],
   "source": [
    "import pandas as pd\n",
    "df = pd.read_csv('../data/ucdp/south_sudan.csv')"
   ]
  },
  {
   "cell_type": "code",
   "execution_count": null,
   "metadata": {},
   "outputs": [],
   "source": [
    "from neuralforecast import NeuralForecast\n",
    "from neuralforecast.models import NBEATS, LSTM, NHITS, RNN\n",
    "\n",
    "nf = NeuralForecast(\n",
    "    models = [NBEATS(input_size=24, h=12, max_steps=100)],\n",
    "    freq = 'M'\n",
    ")\n",
    "\n",
    "nf.fit(df=)\n",
    "nf.predict()"
   ]
  }
 ],
 "metadata": {
  "kernelspec": {
   "display_name": "c-network",
   "language": "python",
   "name": "python3"
  },
  "language_info": {
   "codemirror_mode": {
    "name": "ipython",
    "version": 3
   },
   "file_extension": ".py",
   "mimetype": "text/x-python",
   "name": "python",
   "nbconvert_exporter": "python",
   "pygments_lexer": "ipython3",
   "version": "3.12.0"
  }
 },
 "nbformat": 4,
 "nbformat_minor": 2
}
