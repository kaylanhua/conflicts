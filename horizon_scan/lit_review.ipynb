{
 "cells": [
  {
   "cell_type": "markdown",
   "metadata": {},
   "source": [
    "# literature generator\n",
    "generat lit review from a json blob"
   ]
  },
  {
   "cell_type": "code",
   "execution_count": 1,
   "metadata": {},
   "outputs": [
    {
     "name": "stdout",
     "output_type": "stream",
     "text": [
      "True\n"
     ]
    }
   ],
   "source": [
    "import os\n",
    "import openai\n",
    "from openai import OpenAI\n",
    "openai.organization = \"org-raWgaVqCbuR9YlP1CIjclYHk\" # Harvard\n",
    "openai.api_key = os.getenv(\"OPENAI_API_KEY\")\n",
    "\n",
    "print(True if openai.api_key else False)"
   ]
  },
  {
   "cell_type": "code",
   "execution_count": 5,
   "metadata": {},
   "outputs": [],
   "source": [
    "def create_url(id, is_doi=False, full_details=True):\n",
    "    endpoint = \"https://api.semanticscholar.org/graph/v1/paper/\"\n",
    "    fields = '?fields=title,abstract,url,year,authors,referenceCount,citationCount'\n",
    "    if full_details:\n",
    "        fields += ',citations,references'\n",
    "    \n",
    "    if is_doi:\n",
    "        return endpoint + \"DOI:\" + id + fields\n",
    "    else: \n",
    "        return endpoint + id + fields"
   ]
  },
  {
   "cell_type": "code",
   "execution_count": 6,
   "metadata": {},
   "outputs": [],
   "source": [
    "import requests\n",
    "import time\n",
    "\n",
    "# calling the semantic scholar api\n",
    "def api_call(api_endpoint):\n",
    "    response = requests.get(api_endpoint)\n",
    "\n",
    "    # Check if the request was successful\n",
    "    if response.status_code == 200:\n",
    "        data = response.json()\n",
    "        return data\n",
    "    else:\n",
    "        print(api_endpoint)\n",
    "        return None\n",
    "\n",
    "# a lot of error handling, hasn't broken so far\n",
    "def try_api_call(api_endpoint):\n",
    "    try:\n",
    "        response = requests.get(api_endpoint)\n",
    "        if response.status_code == 429:\n",
    "            print(\"Rate limit reached. Waiting before retrying...\")\n",
    "            time.sleep(20)  # Sleep for a sec\n",
    "            return api_call(api_endpoint)  # Retry the request\n",
    "        response.raise_for_status()  # Will raise an HTTPError for other bad status codes\n",
    "        return response.json()\n",
    "        ## code to keep only the first 3 authors\n",
    "        # if 'authors' in data and len(data['authors']) > 3:\n",
    "        #         data['authors'] = data['authors'][:3]  \n",
    "    except requests.exceptions.HTTPError as http_err:\n",
    "        print(f\"HTTP error occurred: {http_err} - {api_endpoint}\")\n",
    "        return None\n",
    "    except Exception as err:\n",
    "        print(f\"An error occurred: {err} - {api_endpoint}\")\n",
    "        return None\n"
   ]
  },
  {
   "cell_type": "code",
   "execution_count": 7,
   "metadata": {},
   "outputs": [
    {
     "name": "stdout",
     "output_type": "stream",
     "text": [
      "number of papers:  9\n",
      "dict_keys(['5642a582b9a9a238e0211ca85e796e9238cd6057', '257cb4317665951b77aa52d4510c31c06c11de87', '40a41644bf3682f9153b717e898c0e5364363618', 'b4fdbc2ba5d4278f39538cc1ad87048c3e2b84c6', '612de74da35f0270f7c56267c7313483df78ac6a', 'adf93e726f33066c6d9ac53332274b287878786d', '0a737f9ccd28a2409471388fedac2c07e95ae5c9', 'e3004293f727e6cfaa0b5e3cd918efbf4310a9f6', '5aad2cf82e1717ab101786f14571bb318399da64'])\n"
     ]
    }
   ],
   "source": [
    "# prepare information from json blob\n",
    "import json\n",
    "\n",
    "# Read the JSON data from file\n",
    "filename = './seminal/small.json'\n",
    "with open(filename, 'r') as file:\n",
    "    papers = json.load(file)\n",
    "\n",
    "print(\"number of papers: \", len(papers))\n",
    "\n",
    "basics = {}\n",
    "\n",
    "for id, info in papers.items():\n",
    "    paper_info = try_api_call(create_url(id))\n",
    "    basics[paper_info['paperId']] = {\n",
    "        'title': paper_info['title'],\n",
    "        'abstract': paper_info['abstract'],\n",
    "        'year': paper_info['year'],\n",
    "        'author': paper_info['authors'][0]['name'] if paper_info['authors'][0] else None\n",
    "    }\n",
    "\n",
    "print(basics.keys())"
   ]
  },
  {
   "cell_type": "code",
   "execution_count": 9,
   "metadata": {},
   "outputs": [
    {
     "name": "stdout",
     "output_type": "stream",
     "text": [
      "final string\n",
      "Title: A Global Model for Forecasting Political Instability\n",
      "Abstract: Examining onsets of political instability in countries worldwide from 1955 to 2003, we develop a model that distinguishes countries that experienced instability from those that remained stable with a two-year lead time and over 80% accuracy. Intriguingly, the model uses few variables and a simple specification. The model is accurate in forecasting the onsets of both violent civil wars and nonviolent democratic reversals, suggesting common factors in both types of change. Whereas regime type is typically measured using linear or binary indicators of democracy/autocracy derived from the 21-point Polity scale, the model uses a nonlinear five-category measure of regime type based on the Polity components. This new measure of regime type emerges as the most powerful predictor of instability onsets, leading us to conclude that political institutions, properly specified, and not economic conditions, demography, or geography, are the most important predictors of the onset of political instability.\n",
      "Author and year: (J. Goldstone, 2010)\n",
      "\n",
      "Title: The perils of policy by p-value: Predicting civil conflicts\n",
      "Abstract: Large-n studies of conflict have produced a large number of statistically significant results but little accurate guidance in terms of anticipating the onset of conflict. The authors argue that too much attention has been paid to finding statistically significant relationships, while too little attention has been paid to finding variables that improve our ability to predict civil wars. The result can be a distorted view of what matters most to the onset of conflict. Although these models may not be intended to be predictive models, prescriptions based on these models are generally based on statistical significance, and the predictive attributes of the underlying models are generally ignored. These predictions should not be ignored, but rather need to be heuristically evaluated because they may shed light on the veracity of the models. In this study, the authors conduct a side-by-side comparison of the statistical significance and predictive power of the different variables used in two of the most influential models of civil war. The results provide a clear demonstration of how potentially misleading the traditional focus on statistical significance can be. Until out-of-sample heuristics — especially including predictions — are part of the normal evaluative tools in conflict research, we are unlikely to make sufficient theoretical progress beyond broad statements that point to GDP per capita and population as the major causal factors accounting for civil war onset.\n",
      "Author and year: (M. Ward, 2010)\n",
      "\n",
      "Title: Modelling Transitions To and From Democracy\n",
      "Abstract: This article describes the results of a broad reanalysis of factors shaping the prospects of countries making a transition to or from democracy using a new measure of regime type. While some of the results are consistent with prior quantitative and comparative research, others are not. For example, in line with other studies, the article finds that autocracies are more likely to make a transition to democracy when they offer broader protections for civil liberties, experience a change in political leadership, or suffer an economic downturn. At the same time, the analysis does not support the claim that transitions in neighbouring countries directly improve prospects for a transition to democracy, or that economic decline and presidential systems heighten the risk of democratic breakdown. Perhaps most intriguing, our model of transitions to democracy also identifies a new twist on old stories linking economic development to democratization. For countries under authoritarian rule that have attempted democracy before, the research here indicates that development does improve prospects for another attempt, as modernization theory suggests. For countries with no democratic experience, however, affluence conveys no direct democratizing benefit and appears, if anything, to help sustain authoritarian rule.\n",
      "Author and year: (Jay Ulfelder, 2007)\n",
      "\n",
      "Title: Greed, Grievance, and Mobilization in Civil Wars\n",
      "Abstract: Greed, grievances, and mobilization are generally offered as explanations for rebellion and civilwar. The authors extend arguments about the precursors to nonviolent protest, violent rebellion, and civil war. These arguments motivate a series of hypotheses that are tested against data from the Minorities at Risk project. The results of the analysis suggest, first, that the factors that predict antistate activity at one level of violence do not always hold at other levels; second, the response by the state has a large impact on the subsequent behavior of the rebels; and third, the popular notion of diamonds fueling civil unrest is generally not supported. The authors draw inferences from their results to future theoretical and policy development.\n",
      "Author and year: (P. Regan, 2005)\n",
      "\n",
      "Title: On the Incidence of Civil War in Africa\n",
      "Abstract: An econometric model of civil war is applied to the analysis of conflict in sub-Saharan Africa. Results show that Africa has had a similar incidence of civil conflict to other developing regions, and, with minor exceptions, its conflicts are consistent with the global pattern of behavior. However, the structure of risk differs considerably from other regions. Africa's economic characteristics have made it more vulnerable to conflict, but this has been offset by social characteristics that make its societies atypically safe. The contrasting trends of conflict are analyzed: rising in Africa and declining in other regions. Results show that these trends are predicted by the model. Africa's rising trend of conflict is due to its atypically poor economic performance.\n",
      "Author and year: (P. Collier, 2002)\n",
      "\n",
      "Title: Improving Forecasts of State Failure\n",
      "Abstract: We offer the first independent scholarly evaluation of the claims, forecasts, and causal inferences of the State Failure Task Force and their efforts to forecast when states will fail. State failure refers to the collapse of the authority of the central government to impose order, as in civil wars, revolutionary wars, genocides, politicides, and adverse or disruptive regime transitions. This task force, set up at the behest of Vice President Gore in 1994, has been led by a group of distinguished academics working as consultants to the U.S. Central Intelligence Agency. State Failure Task Force reports and publications have received attention in the media, in academia, and from public policy decision-makers. In this article, we identify several methodological errors in the task force work that cause their reported forecast probabilities of conflict to be too large, their causal inferences to be biased in unpredictable directions, and their claims of forecasting performance to be exaggerated. However, we also find that the task force has amassed the best and most carefully collected data on state failure in existence, and the required corrections which we provide, although very large in effect, are easy to implement. We also reanalyze their data with better statistical procedures and demonstrate how to improve forecasting performance to levels significantly greater than even corrected versions of their models. Although still a highly uncertain endeavor, we are as a consequence able to offer the first accurate forecasts of state failure, along with procedures and results that may be of practical use in informing foreign policy decision making. We also describe a number of strong empirical regularities that may help in ascertaining the causes of state failure.\n",
      "Author and year: (Gary King, 2001)\n",
      "\n",
      "Title: Why are There so Many Civil Wars in Africa? Understanding and Preventing Violent Conflict\n",
      "Abstract: Contrary to popular belief, Africa's civil wars are not due to its ethnic and religious diversity. Using recently developed models of the overall prevalence of civil wars in 161 countries between 1960-1999, we draw lessons with special reference to Africa, showing that the relatively higher prevalence of war in Africa is not due to the ethno-linguistic fragmentation of its countries, but rather to high levels of poverty, failed political institutions, and economic dependence on natural resources. We argue that the best and fastest strategy to reduce the prevalence of civil war in Africa and prevent future civil wars is to institute democratic reforms that effectively manage the challenges facing Africa's diverse societies. To promote inter-group cooperation in Africa, specially tailored political governance and economic management institutions are needed and we advance some hypotheses on the nature of such institutions. We suggest that Africa's ethnic diversity in fact helps --it does not impede-- the emergence of stable development as it necessitates inter-group bargaining processes. These processes can be peaceful if ethnic groups feel adequately represented by their national political institutions and if the economy provides opportunity for productive activity.\n",
      "Author and year: (Ibrahim A. Elbadawi, 2000)\n",
      "\n",
      "Title: Improving Quantitative Studies of International Conflict: A Conjecture\n",
      "Abstract: We address a well-known but infrequently discussed problem in the quantitative study of international conflict: Despite immense data collections, prestigious journals, and sophisticated analyses, empirical findings in the literature on international conflict are often unsatisfying. Many statistical results change from article to article and specification to specification. Accurate forecasts are nonexistent. In this article we offer a conjecture about one source of this problem: The causes of conflict, theorized to be important but often found to be small or ephemeral, are indeed tiny for the vast majority of dyads, but they are large, stable, and replicable wherever the ex ante probability of conflict is large. This simple idea has an unexpectedly rich array of observable implications, all consistent with the literature. We directly test our conjecture by formulating a statistical model that includes its critical features. Our approach, a version of a “neural network” model, uncovers some interesting structural features of international conflict and, as one evaluative measure, forecasts substantially better than any previous effort. Moreover, this improvement comes at little cost, and it is easy to evaluate whether the model is a statistical improvement over the simpler models commonly used.\n",
      "Author and year: (Nathaniel N. Beck, 2000)\n",
      "\n",
      "Title: Logistic Regression in Rare Events Data\n",
      "Abstract: We study rare events data, binary dependent variables with dozens to thousands of times fewer ones (events, such as wars, vetoes, cases of political activism, or epidemiological infections) than zeros (“nonevents”). In many literatures, these variables have proven difficult to explain and predict, a problem that seems to have at least two sources. First, popular statistical procedures, such as logistic regression, can sharply underestimate the probability of rare events. We recommend corrections that outperform existing methods and change the estimates of absolute and relative risks by as much as some estimated effects reported in the literature. Second, commonly used data collection strategies are grossly inefficient for rare events data. The fear of collecting data with too few events has led to data collections with huge numbers of observations but relatively few, and poorly measured, explanatory variables, such as in international conflict data with more than a quarter-million dyads, only a few of which are at war. As it turns out, more efficient sampling designs exist for making valid inferences, such as sampling all available events (e.g., wars) and a tiny fraction of nonevents (peace). This enables scholars to save as much as 99% of their (nonfixed) data collection costs or to collect much more meaningful explanatory variables. We provide methods that link these two results, enabling both types of corrections to work simultaneously, and software that implements the methods developed.\n",
      "Author and year: (Gary King, 2001)\n",
      "\n",
      "\n"
     ]
    }
   ],
   "source": [
    "paper_abstracts = \"\"\n",
    "\n",
    "for id, entry in basics.items():\n",
    "    if not entry['abstract']:\n",
    "        continue\n",
    "    paper_abstracts += \"Title: \" + entry[\"title\"] + '\\n' + \"Abstract: \" + entry[\"abstract\"] + '\\n' + \"Author and year: (\" + entry[\"author\"] + ', ' + str(entry[\"year\"]) + ')\\n\\n'\n",
    "\n",
    "print(\"final string\")\n",
    "print(paper_abstracts)"
   ]
  },
  {
   "cell_type": "code",
   "execution_count": 10,
   "metadata": {},
   "outputs": [],
   "source": [
    "client = OpenAI()\n",
    "\n",
    "with open('res.txt', 'w') as txtfile:\n",
    "    completion = client.chat.completions.create(\n",
    "        # turbo (1106-preview) has 128k context window, about 300 pages of text\n",
    "        model=\"gpt-4-1106-preview\", # test with: gpt-3.5-turbo, run final: gpt-4-1106-preview\n",
    "        messages=[\n",
    "            {\"role\": \"system\", \"content\": \n",
    "                \"\"\"You are a writing a literature review to give an overview of the methodologies and history of \n",
    "                modeling, predicting, and forecasting armed civil conflicts. I will provide you with multiple existing research \n",
    "                papers on the subject with the paper title, abstract, authors, and year of publication.\n",
    "                Please provide a detailed literature review based on these papers, focusing on the \n",
    "                methodologies used, the evolution of these techniques over time, and their effectiveness \n",
    "                in conflict analysis. Please include references in the text in an (author, year) format.\"\"\"},\n",
    "            {\"role\": \"user\", \"content\": f\"Here is a list of the papers and the relevant information: {paper_abstracts}\"}\n",
    "        ]\n",
    "    )\n",
    "\n",
    "    gpt_summary = completion.choices[0].message.content\n",
    "    \n",
    "    txtfile.write(f\"{gpt_summary}\\n\")\n"
   ]
  },
  {
   "cell_type": "code",
   "execution_count": null,
   "metadata": {},
   "outputs": [],
   "source": []
  }
 ],
 "metadata": {
  "kernelspec": {
   "display_name": "c-network",
   "language": "python",
   "name": "python3"
  },
  "language_info": {
   "codemirror_mode": {
    "name": "ipython",
    "version": 3
   },
   "file_extension": ".py",
   "mimetype": "text/x-python",
   "name": "python",
   "nbconvert_exporter": "python",
   "pygments_lexer": "ipython3",
   "version": "3.12.0"
  }
 },
 "nbformat": 4,
 "nbformat_minor": 2
}
