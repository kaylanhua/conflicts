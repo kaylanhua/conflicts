{
 "cells": [
  {
   "cell_type": "markdown",
   "metadata": {},
   "source": [
    "# literature generator\n",
    "generat lit review from a json blob"
   ]
  },
  {
   "cell_type": "code",
   "execution_count": 5,
   "metadata": {},
   "outputs": [
    {
     "name": "stdout",
     "output_type": "stream",
     "text": [
      "True\n"
     ]
    }
   ],
   "source": [
    "import os\n",
    "import openai\n",
    "openai.organization = \"org-raWgaVqCbuR9YlP1CIjclYHk\" # Harvard\n",
    "openai.api_key = os.getenv(\"OPENAI_API_KEY\")\n",
    "\n",
    "print(True if openai.api_key else False)"
   ]
  },
  {
   "cell_type": "code",
   "execution_count": 27,
   "metadata": {},
   "outputs": [
    {
     "name": "stdout",
     "output_type": "stream",
     "text": [
      "number of papers:  26\n",
      "<class 'list'>\n",
      "<class 'list'>\n",
      "<class 'list'>\n",
      "<class 'list'>\n",
      "<class 'list'>\n",
      "<class 'list'>\n",
      "<class 'list'>\n",
      "<class 'list'>\n",
      "<class 'list'>\n",
      "<class 'list'>\n",
      "<class 'list'>\n",
      "<class 'list'>\n",
      "<class 'list'>\n",
      "<class 'list'>\n",
      "<class 'list'>\n",
      "<class 'list'>\n",
      "<class 'list'>\n",
      "<class 'list'>\n",
      "<class 'list'>\n",
      "<class 'list'>\n",
      "<class 'list'>\n",
      "<class 'list'>\n",
      "<class 'list'>\n",
      "<class 'list'>\n",
      "<class 'list'>\n",
      "<class 'list'>\n",
      "{}\n"
     ]
    }
   ],
   "source": [
    "# prepare information from json blob\n",
    "import json\n",
    "\n",
    "# Read the JSON data from file\n",
    "filename = './rf_jsons/rf26.json'\n",
    "with open(filename, 'r') as file:\n",
    "    papers = json.load(file)\n",
    "\n",
    "print(\"number of papers: \", len(papers))\n",
    "\n",
    "basic_info = {}\n",
    "\n",
    "for id, paper in papers.items():\n",
    "    print(type(paper))\n",
    "    # basic_info[paper['paperId']] = {\n",
    "    #     'title': paper['title'],\n",
    "    #     'abstract': paper['abstract'],\n",
    "    #     'year': paper['year']\n",
    "    # }\n",
    "\n",
    "print(basic_info)"
   ]
  },
  {
   "cell_type": "code",
   "execution_count": null,
   "metadata": {},
   "outputs": [],
   "source": [
    "with open('res.txt', 'w') as txtfile:\n",
    "    completion = openai.ChatCompletion.create(\n",
    "        model=\"gpt-3.5-turbo\",\n",
    "        messages=[\n",
    "            {\"role\": \"system\", \"content\": \"You are a writing a newsletter with technology news. Please provide a one or two sentence summary given a long quote from an article. Keep the total under 50 words.\"},\n",
    "            {\"role\": \"user\", \"content\": f\"Here is a quote to be summarized: {summary}\"}\n",
    "        ]\n",
    "    )\n",
    "\n",
    "    gpt_summary = completion.choices[0].message.content\n",
    "    \n",
    "    # txtfile.write(f\"{url}\\n\")\n",
    "    # txtfile.write(f\"{gpt_summary}\\n\")\n",
    "    # txtfile.write('\\n' * 2)  # separator line\n"
   ]
  }
 ],
 "metadata": {
  "kernelspec": {
   "display_name": "c-network",
   "language": "python",
   "name": "python3"
  },
  "language_info": {
   "codemirror_mode": {
    "name": "ipython",
    "version": 3
   },
   "file_extension": ".py",
   "mimetype": "text/x-python",
   "name": "python",
   "nbconvert_exporter": "python",
   "pygments_lexer": "ipython3",
   "version": "3.12.0"
  }
 },
 "nbformat": 4,
 "nbformat_minor": 2
}
