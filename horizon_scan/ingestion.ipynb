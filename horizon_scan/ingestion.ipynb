{
 "cells": [
  {
   "cell_type": "markdown",
   "metadata": {},
   "source": [
    "## Paper ingestion\n",
    "given a link, I want to ingest the title, abstract, doi, and the doi of the other papers it cites. \n",
    "\n",
    "will likely use [this](https://api.semanticscholar.org/api-docs/graph#tag/Paper-Data/operation/get_graph_paper_bulk_search) api from semantic scholar and sqlite for the database\n",
    "\n"
   ]
  },
  {
   "cell_type": "code",
   "execution_count": 11,
   "metadata": {},
   "outputs": [],
   "source": [
    "\n",
    "test_doi = '10.1371/journal.pone.0286404'\n",
    "test_paper_id = 'c951ac9a54bba70c6e8337ab5815f3ac45434ec5'\n",
    "\n",
    "def create_url(id, is_doi):\n",
    "    endpoint = \"https://api.semanticscholar.org/graph/v1/paper/\"\n",
    "    fields = '?fields=title,abstract,url,year,authors,references'\n",
    "    if is_doi:\n",
    "        return endpoint + \"DOI:\" + id + fields\n",
    "    else: \n",
    "        return endpoint + id + fields"
   ]
  },
  {
   "cell_type": "code",
   "execution_count": 44,
   "metadata": {},
   "outputs": [],
   "source": [
    "import requests\n",
    "\n",
    "# calling the semantic scholar api\n",
    "def api_call(api_endpoint):\n",
    "    response = requests.get(api_endpoint)\n",
    "\n",
    "    # Check if the request was successful\n",
    "    if response.status_code == 200:\n",
    "        data = response.json()\n",
    "        return data\n",
    "    else:\n",
    "        print(api_endpoint)\n",
    "        return None\n",
    "    \n"
   ]
  },
  {
   "cell_type": "code",
   "execution_count": 18,
   "metadata": {},
   "outputs": [],
   "source": [
    "import json\n",
    "\n",
    "# pretty print json object\n",
    "def pprint(data):\n",
    "    print(json.dumps(data, indent=4, sort_keys=True))\n",
    "    "
   ]
  },
  {
   "cell_type": "code",
   "execution_count": 39,
   "metadata": {},
   "outputs": [],
   "source": [
    "# keywords\n",
    "ml_keywords=[\n",
    "    'machine learning', \n",
    "    'regression', \n",
    "    'neural network', \n",
    "    'model',\n",
    "    'projecting',\n",
    "    'forecast',\n",
    "    'predict',\n",
    "    'modeling',\n",
    "    'classification', \n",
    "    'clustering', \n",
    "    'support vector machine', \n",
    "    'decision tree', \n",
    "    'random forest', \n",
    "    'learning', \n",
    "    'gradient boosting', \n",
    "    'data mining', \n",
    "    'natural language processing', \n",
    "    'computer vision', \n",
    "    'algorithm', \n",
    "    'optimization', \n",
    "]\n",
    "conflict_keywords=[\n",
    "    'armed', \n",
    "    'civil war', \n",
    "    'conflict',\n",
    "    'insurgency', \n",
    "    'terrorism', \n",
    "    'extremism', \n",
    "    'revolution', \n",
    "    'violence', \n",
    "    'warfare', \n",
    "    'battle', \n",
    "    'combat', \n",
    "    'militia', \n",
    "    'security', \n",
    "    'peacekeeping', \n",
    "    'genocide', \n",
    "    'massacre', \n",
    "    'ceasefire', \n",
    "    'rebellion', \n",
    "    'humanitarian', \n",
    "    'occupation', \n",
    "]\n",
    "all_keywords = ml_keywords + conflict_keywords"
   ]
  },
  {
   "cell_type": "code",
   "execution_count": 38,
   "metadata": {},
   "outputs": [],
   "source": [
    "def keyword_check(string):\n",
    "    string = string.lower()\n",
    "    return any(keyword in string for keyword in all_keywords)\n",
    "\n",
    "def double_keyword_check(string):\n",
    "    string = string.lower()\n",
    "    match1 = any(keyword.lower() in string for keyword in ml_keywords)\n",
    "    match2 = any(keyword.lower() in string for keyword in conflict_keywords)\n",
    "    return match1 and match2\n",
    "\n",
    "def paper_is_relevant(json_blob):\n",
    "    title = json_blob['title']\n",
    "    if double_keyword_check(title):\n",
    "        return True\n",
    "    else:\n",
    "        abstract = json_blob['abstract']\n",
    "        return double_keyword_check(abstract)\n"
   ]
  },
  {
   "cell_type": "code",
   "execution_count": 60,
   "metadata": {},
   "outputs": [],
   "source": [
    "# \"database\": will make this a sqlite later\n",
    "# key: paperId, value: [api call data object, how many times hit]\n",
    "papers = {}"
   ]
  },
  {
   "cell_type": "code",
   "execution_count": 64,
   "metadata": {},
   "outputs": [],
   "source": [
    "def filter_refs(paper_refs):\n",
    "    # first pass at filtering out references that don't pass the general keyword check\n",
    "    filtered_references = [\n",
    "        ref for ref in paper_refs\n",
    "        if keyword_check(ref['title'])\n",
    "    ]\n",
    "    return filtered_references\n",
    "\n",
    "# pprint(filter_refs(res))"
   ]
  },
  {
   "cell_type": "code",
   "execution_count": 65,
   "metadata": {},
   "outputs": [],
   "source": [
    "# testing all the helpers thus far\n",
    "def add_to_dict(url):\n",
    "    res = api_call(url)\n",
    "    if res:\n",
    "        # there was a response\n",
    "        id = res['paperId']\n",
    "        if id in papers:\n",
    "            papers[id][2] += 1\n",
    "        else:\n",
    "            # refs = filter_refs(res)\n",
    "            refs = filter_refs(res.pop('references', None))\n",
    "            papers[id] = [res, refs, 1]\n",
    "        \n"
   ]
  },
  {
   "cell_type": "code",
   "execution_count": 66,
   "metadata": {},
   "outputs": [
    {
     "name": "stdout",
     "output_type": "stream",
     "text": [
      "[{'paperId': 'c951ac9a54bba70c6e8337ab5815f3ac45434ec5', 'url': 'https://www.semanticscholar.org/paper/c951ac9a54bba70c6e8337ab5815f3ac45434ec5', 'title': 'Modeling analysis of armed conflict risk in sub-Saharan Africa, 2000–2019', 'abstract': 'Sub-Saharan Africa has suffered frequent outbreaks of armed conflict since the end of the Cold War. Although several efforts have been made to understand the underlying causes of armed conflict and establish an early warning mechanism, there is still a lack of a comprehensive assessment approach to model the incidence risk of armed conflict well. Based on a large database of armed conflict events and related spatial datasets covering the period 2000–2019, this study uses a boosted regression tree (BRT) approach to model the spatiotemporal distribution of armed conflict risk in sub-Saharan Africa. Evaluation of accuracy indicates that the simulated models obtain high performance with an area under the receiver operator characteristic curve (ROC-AUC) mean value of 0.937 and an area under the precision recall curves (PR-AUC) mean value of 0.891. The result of the relative contribution indicates that the background context factors (i.e., social welfare and the political system) are the main driving factors of armed conflict risk, with a mean relative contribution of 92.599%. By comparison, the climate change-related variables have relatively little effect on armed conflict risk, accounting for only 7.401% of the total. These results provide novel insight into modelling the incidence risk of armed conflict, which may help implement interventions to prevent and minimize the harm of armed conflict.', 'year': 2023, 'authors': [{'authorId': '2111366015', 'name': 'Xiaolan Xie'}, {'authorId': '2004912912', 'name': 'Dong Jiang'}, {'authorId': '145381688', 'name': 'Mengmeng Hao'}, {'authorId': '11258201', 'name': 'Fangyu Ding'}]}, [{'paperId': '7272b4fa037893b8d54cedd05903360528999557', 'title': 'Varying climatic-social-geographical patterns shape the conflict risk at regional and global scales'}, {'paperId': '5e2092e569a49b8404e4646eb7bfc8df51bc2fba', 'title': 'Lessons from an escalation prediction competition'}, {'paperId': '1ee89d8c4546a34238d715c073d248617d0f67ff', 'title': 'Quantifying the influence of climate variability on armed conflict in Africa, 2000–2015'}, {'paperId': '5a788a70a6b6cb35c6eaf3f335b4476c48d00b69', 'title': 'Modelling armed conflict risk under climate change with machine learning and time-series data'}, {'paperId': '01028e69dfd57d2738dcb39c057bbf952dbcb0af', 'title': 'Projecting armed conflict risk in Africa towards 2050 along the SSP-RCP scenarios: a machine learning approach'}, {'paperId': 'b8974a3094f93e59507c3b775822f3e819ead4db', 'title': 'ViEWS2020: Revising and evaluating the ViEWS political Violence Early-Warning System'}, {'paperId': '43b20758693fbd4df13f4f089d2000f3c837c7b1', 'title': 'Spatiotemporal patterns and spatial risk factors for visceral leishmaniasis from 2007 to 2017 in Western and Central China: A modelling analysis.'}, {'paperId': 'df55a75026085154d0a7cbdf794999939d372b3c', 'title': 'Temperature anomalies affect violent conflicts in African and Middle Eastern warm regions'}, {'paperId': '1e52a479cad4fedd32384aa346233203f9d19bbf', 'title': 'Climate has contrasting direct and indirect effects on armed conflicts'}, {'paperId': 'ef7a4b6f19a92290733151ecb789c9617ad7a9cf', 'title': 'Directions for Research on Climate and Conflict'}, {'paperId': 'ec64ff7c43d6742b3d372b13ddfc2db4f0733f5b', 'title': 'COVID-19 and armed conflict'}, {'paperId': '181f0578d940b6a6bb5c8613e149396709c3d4d1', 'title': 'Multi-method evidence for when and how climate-related disasters contribute to armed conflict risk'}, {'paperId': '3c71eef551cc09ca38f2578c76d315592273ab67', 'title': 'Local warming and violent armed conflict in Africa'}, {'paperId': '9a7f9d5697cb2534278676ff533fecb7b710731c', 'title': 'Risk factors and predicted distribution of visceral leishmaniasis in the Xinjiang Uygur Autonomous Region, China, 2005–2015'}, {'paperId': '49297cc1a5ecca63c34ca6c56699e3c6e6671f9e', 'title': 'Climate as a risk factor for armed conflict'}, {'paperId': 'e3239a1afb502fe194c5fda4675662772a829a1d', 'title': 'ViEWS: A political violence early-warning system'}, {'paperId': 'd80654d515d7f42f20f897893c809e782ce366a1', 'title': 'Climate War in the Middle East? Drought, the Syrian Civil War and the State of Climate-Conflict Research'}, {'paperId': 'c1258a812be1ee84be251f6455e38b1bf0169b96', 'title': 'The study of violence and social unrest in Africa: A comparative analysis of three conflict event datasets'}, {'paperId': 'e81e32f375691820ec2be837d4aed4f54d3eb11a', 'title': 'Environmental impacts and causes of conflict in the Horn of Africa: A review'}, {'paperId': '2e128cd02947725de76622dc04435b217fe4d56d', 'title': 'Predicting Conflict'}, {'paperId': 'aeac3f12ec7b2a490f1f67dcb6c13bc58faaed83', 'title': 'The shape of things to come? Expanding the inequality and grievance model for civil war forecasts with event data'}, {'paperId': '16ce39f8fd5e2036a6a347a667b543e4eef598bb', 'title': 'Climate Change and Collective Violence'}, {'paperId': '2a31dd2f126cd187cc5eb8dbbcd97ad42974ffc3', 'title': 'Civil conflict sensitivity to growing-season drought'}, {'paperId': '67d0efb80486ef0e1fd156f9c12329e15a272f20', 'title': 'An empirical comparison of classification algorithms for mortgage default prediction: evidence from a distressed mortgage market'}, {'paperId': '26acad24d7bbaea5abfe66092b11bca450d8b8ac', 'title': 'Square Pegs in Round Holes: Inequalities, Grievances, and Civil War'}, {'paperId': '7ee54020f8b279d0a82afe22b466db95c498be90', 'title': 'Quantifying the Influence of Climate on Human Conflict'}, {'paperId': '792e75d052a6fb31947b0161ded7c99c8f26a634', 'title': 'Predicting Armed Conflict, 2010–2050'}, {'paperId': '52c2bed21c279b3d31806891756c61790b2399ad', 'title': 'Climate variability and conflict risk in East Africa, 1990–2009'}, {'paperId': '3420b2e619566d5501ee705eeb217518aad1cbd9', 'title': 'Greed and grievance in civil war'}, {'paperId': '5c0155a58d7d2cdc502731769c018fda7b478c2f', 'title': 'Climate Change and Violent Conflict'}, {'paperId': '90cc83858b72542db45ed7664301c2b704bb6f5a', 'title': 'Introducing ACLED: An Armed Conflict Location and Event Dataset'}, {'paperId': 'c545ab4283787fe43cb0cf29de6b46e6bf511957', 'title': 'Political Marginalization, Climate Change, and Conflict in African Sahel States'}, {'paperId': '5642a582b9a9a238e0211ca85e796e9238cd6057', 'title': 'A Global Model for Forecasting Political Instability'}, {'paperId': '5254405a0d1000b57f32a2f6642d105e0b196caf', 'title': 'Warming increases the risk of civil war in Africa'}, {'paperId': '6ba9afd9241a5d04e2ce890f0a6f082d167968b8', 'title': 'A working guide to boosted regression trees.'}, {'paperId': '9f1037a0b5d2a47db49b34010a22b4888386b3f7', 'title': 'POLITICAL LIBERALIZATION OR ARMED CONFLICTS? POLITICAL CHANGES IN POST–COLD WAR AFRICA'}, {'paperId': '2435a02d3afb16ba00ebfa9c8f7df10b52cce80c', 'title': 'Sensitivity Analysis of Empirical Results on Civil War Onset'}, {'paperId': '0bdac412114ce931188d79922d0771a9bb5ba454', 'title': 'People vs. Malthus: Population Pressure, Environmental Degradation, and Armed Conflict Revisited'}, {'paperId': '0824070939b0db6741f032fb0cba54eb01b33ce7', 'title': 'Accounting for scale: Measuring geography in quantitative studies of civil war'}, {'paperId': 'f46c2b6b703c30f2c3684f18a205ae5c0497712e', 'title': 'Modeling the Size of Wars: From Billiard Balls to Sandpiles'}, {'paperId': '4ae60a3b82472ffa0011e086f2fa93828ddefb9a', 'title': 'Ethnicity, Insurgency, and Civil War'}, {'paperId': 'd4e1014f74c7f146be645860e66c80b9a35bf413', 'title': 'On the Duration of Civil War'}, {'paperId': '55d1396f6a53db42856cd110ba569e43316dae32', 'title': 'Modeling Social and Geopolitical Disasters as Extreme Events: A Case Study Considering the Complex Dynamics of International Armed Conflicts'}, {'paperId': '62c37991c1df1600fb4291467b9146154b65f4ff', 'title': 'Revisiting democratic civil peace: Electoral regimes and civil conflict'}, {'paperId': 'dff2ecc7375d14d9ced993e1bbe7f7deead9bc78', 'title': 'Political liberalization or armed conflicts? : Political changes in post-cold war Africa'}], 1]\n"
     ]
    }
   ],
   "source": [
    "url = create_url(test_paper_id, False)\n",
    "add_to_dict(url)\n",
    "\n",
    "# print(papers)\n",
    "print(papers[test_paper_id])"
   ]
  },
  {
   "cell_type": "code",
   "execution_count": 70,
   "metadata": {},
   "outputs": [
    {
     "name": "stdout",
     "output_type": "stream",
     "text": [
      "{\n",
      "    \"abstract\": \"Sub-Saharan Africa has suffered frequent outbreaks of armed conflict since the end of the Cold War. Although several efforts have been made to understand the underlying causes of armed conflict and establish an early warning mechanism, there is still a lack of a comprehensive assessment approach to model the incidence risk of armed conflict well. Based on a large database of armed conflict events and related spatial datasets covering the period 2000\\u20132019, this study uses a boosted regression tree (BRT) approach to model the spatiotemporal distribution of armed conflict risk in sub-Saharan Africa. Evaluation of accuracy indicates that the simulated models obtain high performance with an area under the receiver operator characteristic curve (ROC-AUC) mean value of 0.937 and an area under the precision recall curves (PR-AUC) mean value of 0.891. The result of the relative contribution indicates that the background context factors (i.e., social welfare and the political system) are the main driving factors of armed conflict risk, with a mean relative contribution of 92.599%. By comparison, the climate change-related variables have relatively little effect on armed conflict risk, accounting for only 7.401% of the total. These results provide novel insight into modelling the incidence risk of armed conflict, which may help implement interventions to prevent and minimize the harm of armed conflict.\",\n",
      "    \"authors\": [\n",
      "        {\n",
      "            \"authorId\": \"2111366015\",\n",
      "            \"name\": \"Xiaolan Xie\"\n",
      "        },\n",
      "        {\n",
      "            \"authorId\": \"2004912912\",\n",
      "            \"name\": \"Dong Jiang\"\n",
      "        },\n",
      "        {\n",
      "            \"authorId\": \"145381688\",\n",
      "            \"name\": \"Mengmeng Hao\"\n",
      "        },\n",
      "        {\n",
      "            \"authorId\": \"11258201\",\n",
      "            \"name\": \"Fangyu Ding\"\n",
      "        }\n",
      "    ],\n",
      "    \"paperId\": \"c951ac9a54bba70c6e8337ab5815f3ac45434ec5\",\n",
      "    \"title\": \"Modeling analysis of armed conflict risk in sub-Saharan Africa, 2000\\u20132019\",\n",
      "    \"url\": \"https://www.semanticscholar.org/paper/c951ac9a54bba70c6e8337ab5815f3ac45434ec5\",\n",
      "    \"year\": 2023\n",
      "}\n"
     ]
    }
   ],
   "source": [
    "pprint(papers[test_paper_id][0])"
   ]
  },
  {
   "cell_type": "code",
   "execution_count": 33,
   "metadata": {},
   "outputs": [],
   "source": [
    "import networkx as nx\n",
    "\n",
    "# Create an empty directed graph to represent citations (paper A cites paper B)\n",
    "G = nx.DiGraph()"
   ]
  },
  {
   "cell_type": "code",
   "execution_count": null,
   "metadata": {},
   "outputs": [],
   "source": []
  },
  {
   "cell_type": "code",
   "execution_count": null,
   "metadata": {},
   "outputs": [],
   "source": []
  }
 ],
 "metadata": {
  "kernelspec": {
   "display_name": "c-network",
   "language": "python",
   "name": "python3"
  },
  "language_info": {
   "codemirror_mode": {
    "name": "ipython",
    "version": 3
   },
   "file_extension": ".py",
   "mimetype": "text/x-python",
   "name": "python",
   "nbconvert_exporter": "python",
   "pygments_lexer": "ipython3",
   "version": "3.12.0"
  }
 },
 "nbformat": 4,
 "nbformat_minor": 2
}
