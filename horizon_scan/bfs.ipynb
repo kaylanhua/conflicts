{
 "cells": [
  {
   "cell_type": "code",
   "execution_count": 1,
   "metadata": {},
   "outputs": [
    {
     "ename": "ModuleNotFoundError",
     "evalue": "No module named 'ingestion'",
     "output_type": "error",
     "traceback": [
      "\u001b[0;31m---------------------------------------------------------------------------\u001b[0m",
      "\u001b[0;31mModuleNotFoundError\u001b[0m                       Traceback (most recent call last)",
      "\u001b[1;32m/Users/kaylahuang/Documents/GitHub/conflicts/horizon_scan/bfs.ipynb Cell 1\u001b[0m line \u001b[0;36m2\n\u001b[1;32m      <a href='vscode-notebook-cell:/Users/kaylahuang/Documents/GitHub/conflicts/horizon_scan/bfs.ipynb#W1sZmlsZQ%3D%3D?line=0'>1</a>\u001b[0m \u001b[39mimport\u001b[39;00m \u001b[39mnbimporter\u001b[39;00m\n\u001b[0;32m----> <a href='vscode-notebook-cell:/Users/kaylahuang/Documents/GitHub/conflicts/horizon_scan/bfs.ipynb#W1sZmlsZQ%3D%3D?line=1'>2</a>\u001b[0m \u001b[39mfrom\u001b[39;00m \u001b[39mingestion\u001b[39;00m \u001b[39mimport\u001b[39;00m paper_is_relevant\n",
      "\u001b[0;31mModuleNotFoundError\u001b[0m: No module named 'ingestion'"
     ]
    }
   ],
   "source": [
    "import nbimporter\n",
    "from ingestion import paper_is_relevant"
   ]
  },
  {
   "cell_type": "code",
   "execution_count": 8,
   "metadata": {},
   "outputs": [
    {
     "name": "stdout",
     "output_type": "stream",
     "text": [
      "/Users/kaylahuang/Documents/GitHub/conflicts/horizon_scan\n"
     ]
    }
   ],
   "source": [
    "import os\n",
    "print(os.getcwd())\n"
   ]
  },
  {
   "cell_type": "code",
   "execution_count": null,
   "metadata": {},
   "outputs": [],
   "source": [
    "def expand_graph(papers, test_paper_id, max_depth):\n",
    "    queue = [(test_paper_id, 0)]  # Start with the first paper and depth 0\n",
    "    visited = set()  # Keep track of visited papers\n",
    "\n",
    "    while queue:\n",
    "        current_id, current_depth = queue.pop(0)  # Dequeue and get current depth\n",
    "        if current_id not in visited:\n",
    "            visited.add(current_id)\n",
    "            if current_depth < max_depth:\n",
    "                # Process current paper, i.e., get citations\n",
    "                for cited_id in get_citations_of_paper(current_id):\n",
    "                    if is_relevant(cited_id) and cited_id not in visited:\n",
    "                        papers[cited_id] = ...  # Add to your papers dictionary with additional data if needed\n",
    "                        queue.append((cited_id, current_depth + 1))  # Enqueue for further expansion with incremented depth\n"
   ]
  }
 ],
 "metadata": {
  "kernelspec": {
   "display_name": "c-network",
   "language": "python",
   "name": "python3"
  },
  "language_info": {
   "codemirror_mode": {
    "name": "ipython",
    "version": 3
   },
   "file_extension": ".py",
   "mimetype": "text/x-python",
   "name": "python",
   "nbconvert_exporter": "python",
   "pygments_lexer": "ipython3",
   "version": "3.12.0"
  }
 },
 "nbformat": 4,
 "nbformat_minor": 2
}
