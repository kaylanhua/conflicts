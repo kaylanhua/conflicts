{
 "cells": [
  {
   "cell_type": "markdown",
   "metadata": {},
   "source": [
    "## Graph creation\n",
    "Given a populated papers.json, create a graphical representation."
   ]
  },
  {
   "cell_type": "code",
   "execution_count": 1,
   "metadata": {},
   "outputs": [
    {
     "data": {
      "text/plain": [
       "26"
      ]
     },
     "execution_count": 1,
     "metadata": {},
     "output_type": "execute_result"
    }
   ],
   "source": [
    "import json\n",
    "\n",
    "# Read the JSON data from file\n",
    "filename = './rf_jsons/rf_edited.json'\n",
    "with open(filename, 'r') as file:\n",
    "    papers = json.load(file)\n",
    "\n",
    "len(papers)"
   ]
  },
  {
   "cell_type": "code",
   "execution_count": 2,
   "metadata": {},
   "outputs": [],
   "source": [
    "import networkx as nx\n",
    "\n",
    "# Create an empty directed graph to represent citations (paper A cites paper B)\n",
    "G = nx.DiGraph()\n",
    "\n",
    "# Nodes\n",
    "for id, info in papers.items():\n",
    "    G.add_node(id, **info[0])\n",
    "\n",
    "# Edges\n",
    "for id, info in papers.items():\n",
    "    for cited_id in info[1]:\n",
    "        if G.has_node(cited_id):\n",
    "            G.add_edge(id, cited_id)"
   ]
  },
  {
   "cell_type": "code",
   "execution_count": 3,
   "metadata": {},
   "outputs": [
    {
     "name": "stdout",
     "output_type": "stream",
     "text": [
      "Warning: When  cdn_resources is 'local' jupyter notebook has issues displaying graphics on chrome/safari. Use cdn_resources='in_line' or cdn_resources='remote' if you have issues viewing graphics in a notebook.\n",
      "graph.html\n"
     ]
    },
    {
     "data": {
      "text/html": [
       "\n",
       "        <iframe\n",
       "            width=\"100%\"\n",
       "            height=\"750px\"\n",
       "            src=\"graph.html\"\n",
       "            frameborder=\"0\"\n",
       "            allowfullscreen\n",
       "            \n",
       "        ></iframe>\n",
       "        "
      ],
      "text/plain": [
       "<IPython.lib.display.IFrame at 0x1172a91f0>"
      ]
     },
     "execution_count": 3,
     "metadata": {},
     "output_type": "execute_result"
    }
   ],
   "source": [
    "# Dynamic graph\n",
    "from pyvis.network import Network\n",
    "import networkx as nx\n",
    "\n",
    "# Assuming 'G' is your NetworkX graph and each node has an attribute 'title'\n",
    "# Create a new Pyvis network, assuming not in a Jupyter notebook\n",
    "net = Network(notebook=True, height=\"750px\", width=\"100%\")\n",
    "\n",
    "# Add nodes and edges from NetworkX graph to Pyvis network\n",
    "for node, node_attrs in G.nodes(data=True):\n",
    "    net.add_node(node, label=node_attrs['title'], title=node_attrs['title'])\n",
    "\n",
    "for edge in G.edges():\n",
    "    net.add_edge(edge[0], edge[1], arrows='to')\n",
    "\n",
    "# Customize the visualization as needed\n",
    "net.repulsion(node_distance=420, central_gravity=0.33,\n",
    "              spring_length=110, spring_strength=0.10,\n",
    "              damping=0.95)\n",
    "\n",
    "# Save and show the graph as an HTML file\n",
    "net.show('graph.html')\n"
   ]
  },
  {
   "cell_type": "code",
   "execution_count": null,
   "metadata": {},
   "outputs": [],
   "source": []
  }
 ],
 "metadata": {
  "kernelspec": {
   "display_name": "c-network",
   "language": "python",
   "name": "python3"
  },
  "language_info": {
   "codemirror_mode": {
    "name": "ipython",
    "version": 3
   },
   "file_extension": ".py",
   "mimetype": "text/x-python",
   "name": "python",
   "nbconvert_exporter": "python",
   "pygments_lexer": "ipython3",
   "version": "3.12.0"
  }
 },
 "nbformat": 4,
 "nbformat_minor": 2
}
