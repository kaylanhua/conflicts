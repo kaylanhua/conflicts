{
 "cells": [
  {
   "cell_type": "markdown",
   "metadata": {},
   "source": [
    "# testing feature extraction\n",
    "- the goal is to extract features that pertain to the syrian civil war\n",
    "- ideas\n",
    "  - Drought (2006-2010), before the war, but still showed climate was important\n",
    "  - migration to urban areas \n",
    "  - economic hardship (prices of goods)\n",
    "  - unemployment\n",
    "  - international intervention\n",
    "  - refugee flows"
   ]
  },
  {
   "cell_type": "code",
   "execution_count": 1,
   "metadata": {},
   "outputs": [
    {
     "name": "stderr",
     "output_type": "stream",
     "text": [
      "2024-06-25 23:52:40.838 WARNING streamlit.runtime.caching.cache_data_api: No runtime found, using MemoryCacheStorageManager\n"
     ]
    },
    {
     "name": "stdout",
     "output_type": "stream",
     "text": [
      "\u001b[92mOPENAI API KEY DETECTED\u001b[0m\n"
     ]
    }
   ],
   "source": [
    "from rag_app import get_gdelt_data, scrape, create_dataset, process_articles\n",
    "import requests\n",
    "from datetime import datetime, timedelta\n"
   ]
  },
  {
   "cell_type": "code",
   "execution_count": 5,
   "metadata": {},
   "outputs": [
    {
     "name": "stdout",
     "output_type": "stream",
     "text": [
      "2024-05-26 23:53:08.577166 2024-06-25 23:53:08.577166\n",
      "['Syria drought', 'Syria climate disaster', 'Syria water scarcity', 'Syria civil war']\n",
      "Request URL: https://api.gdeltproject.org/api/v2/doc/doc?query=(Syria drought OR Syria climate disaster OR Syria water scarcity OR Syria civil war sourcelang:english)&mode=artlist&format=json&startdatetime=20240526235308&enddatetime=20240625235308&maxrecords=5\n",
      "['https://www.alanba.com.kw/1261781', 'https://www.vetogate.com/5179640', 'http://arabic.news.cn/20240618/bed9300feb0447bcb87f494de4229c11/c.html', 'https://alghad.com/Section-114/%D9%85%D9%82%D8%A7%D9%84%D8%A7%D8%AA-%D8%A7%D9%84%D9%8A%D9%88%D9%85/%D9%83%D8%A7%D8%B1%D8%AB%D8%A9-%D8%B7%D9%88%D9%8A%D9%84%D8%A9-%D8%A7%D9%84%D8%A3%D9%85%D8%AF-1725560', 'https://www.ammonnews.net/article/853821']\n"
     ]
    }
   ],
   "source": [
    "end_date = datetime.now()\n",
    "start_date = end_date - timedelta(days=30)  # Last 30 days\n",
    "\n",
    "queries = [\"Syria drought\", \"Syria climate disaster\", \"Syria water scarcity\", \"Syria civil war\"]\n",
    "\n",
    "print(start_date, end_date)\n",
    "urls, response = get_gdelt_data(queries, start_date, end_date, max_records=5)\n",
    "print(urls)"
   ]
  },
  {
   "cell_type": "code",
   "execution_count": 9,
   "metadata": {},
   "outputs": [
    {
     "name": "stdout",
     "output_type": "stream",
     "text": [
      "[(datetime.datetime(2011, 1, 1, 0, 0), datetime.datetime(2011, 1, 31, 0, 0)), (datetime.datetime(2011, 2, 1, 0, 0), datetime.datetime(2011, 2, 28, 0, 0)), (datetime.datetime(2011, 3, 1, 0, 0), datetime.datetime(2011, 3, 31, 0, 0)), (datetime.datetime(2011, 4, 1, 0, 0), datetime.datetime(2011, 4, 30, 0, 0)), (datetime.datetime(2011, 5, 1, 0, 0), datetime.datetime(2011, 5, 31, 0, 0)), (datetime.datetime(2011, 6, 1, 0, 0), datetime.datetime(2011, 6, 30, 0, 0)), (datetime.datetime(2011, 7, 1, 0, 0), datetime.datetime(2011, 7, 31, 0, 0)), (datetime.datetime(2011, 8, 1, 0, 0), datetime.datetime(2011, 8, 31, 0, 0)), (datetime.datetime(2011, 9, 1, 0, 0), datetime.datetime(2011, 9, 30, 0, 0)), (datetime.datetime(2011, 10, 1, 0, 0), datetime.datetime(2011, 10, 31, 0, 0)), (datetime.datetime(2011, 11, 1, 0, 0), datetime.datetime(2011, 11, 30, 0, 0)), (datetime.datetime(2011, 12, 1, 0, 0), datetime.datetime(2011, 12, 31, 0, 0)), (datetime.datetime(2012, 1, 1, 0, 0), datetime.datetime(2012, 1, 31, 0, 0)), (datetime.datetime(2012, 2, 1, 0, 0), datetime.datetime(2012, 2, 29, 0, 0)), (datetime.datetime(2012, 3, 1, 0, 0), datetime.datetime(2012, 3, 31, 0, 0)), (datetime.datetime(2012, 4, 1, 0, 0), datetime.datetime(2012, 4, 30, 0, 0)), (datetime.datetime(2012, 5, 1, 0, 0), datetime.datetime(2012, 5, 31, 0, 0)), (datetime.datetime(2012, 6, 1, 0, 0), datetime.datetime(2012, 6, 30, 0, 0)), (datetime.datetime(2012, 7, 1, 0, 0), datetime.datetime(2012, 7, 31, 0, 0)), (datetime.datetime(2012, 8, 1, 0, 0), datetime.datetime(2012, 8, 31, 0, 0)), (datetime.datetime(2012, 9, 1, 0, 0), datetime.datetime(2012, 9, 30, 0, 0)), (datetime.datetime(2012, 10, 1, 0, 0), datetime.datetime(2012, 10, 31, 0, 0)), (datetime.datetime(2012, 11, 1, 0, 0), datetime.datetime(2012, 11, 30, 0, 0)), (datetime.datetime(2012, 12, 1, 0, 0), datetime.datetime(2012, 12, 31, 0, 0)), (datetime.datetime(2013, 1, 1, 0, 0), datetime.datetime(2013, 1, 31, 0, 0)), (datetime.datetime(2013, 2, 1, 0, 0), datetime.datetime(2013, 2, 28, 0, 0)), (datetime.datetime(2013, 3, 1, 0, 0), datetime.datetime(2013, 3, 31, 0, 0)), (datetime.datetime(2013, 4, 1, 0, 0), datetime.datetime(2013, 4, 30, 0, 0)), (datetime.datetime(2013, 5, 1, 0, 0), datetime.datetime(2013, 5, 31, 0, 0)), (datetime.datetime(2013, 6, 1, 0, 0), datetime.datetime(2013, 6, 30, 0, 0)), (datetime.datetime(2013, 7, 1, 0, 0), datetime.datetime(2013, 7, 31, 0, 0)), (datetime.datetime(2013, 8, 1, 0, 0), datetime.datetime(2013, 8, 31, 0, 0)), (datetime.datetime(2013, 9, 1, 0, 0), datetime.datetime(2013, 9, 30, 0, 0)), (datetime.datetime(2013, 10, 1, 0, 0), datetime.datetime(2013, 10, 31, 0, 0)), (datetime.datetime(2013, 11, 1, 0, 0), datetime.datetime(2013, 11, 30, 0, 0)), (datetime.datetime(2013, 12, 1, 0, 0), datetime.datetime(2013, 12, 31, 0, 0)), (datetime.datetime(2014, 1, 1, 0, 0), datetime.datetime(2014, 1, 31, 0, 0)), (datetime.datetime(2014, 2, 1, 0, 0), datetime.datetime(2014, 2, 28, 0, 0)), (datetime.datetime(2014, 3, 1, 0, 0), datetime.datetime(2014, 3, 31, 0, 0)), (datetime.datetime(2014, 4, 1, 0, 0), datetime.datetime(2014, 4, 30, 0, 0)), (datetime.datetime(2014, 5, 1, 0, 0), datetime.datetime(2014, 5, 31, 0, 0)), (datetime.datetime(2014, 6, 1, 0, 0), datetime.datetime(2014, 6, 30, 0, 0)), (datetime.datetime(2014, 7, 1, 0, 0), datetime.datetime(2014, 7, 31, 0, 0)), (datetime.datetime(2014, 8, 1, 0, 0), datetime.datetime(2014, 8, 31, 0, 0)), (datetime.datetime(2014, 9, 1, 0, 0), datetime.datetime(2014, 9, 30, 0, 0)), (datetime.datetime(2014, 10, 1, 0, 0), datetime.datetime(2014, 10, 31, 0, 0)), (datetime.datetime(2014, 11, 1, 0, 0), datetime.datetime(2014, 11, 30, 0, 0)), (datetime.datetime(2014, 12, 1, 0, 0), datetime.datetime(2014, 12, 31, 0, 0)), (datetime.datetime(2015, 1, 1, 0, 0), datetime.datetime(2015, 1, 31, 0, 0)), (datetime.datetime(2015, 2, 1, 0, 0), datetime.datetime(2015, 2, 28, 0, 0)), (datetime.datetime(2015, 3, 1, 0, 0), datetime.datetime(2015, 3, 31, 0, 0)), (datetime.datetime(2015, 4, 1, 0, 0), datetime.datetime(2015, 4, 30, 0, 0)), (datetime.datetime(2015, 5, 1, 0, 0), datetime.datetime(2015, 5, 31, 0, 0)), (datetime.datetime(2015, 6, 1, 0, 0), datetime.datetime(2015, 6, 30, 0, 0)), (datetime.datetime(2015, 7, 1, 0, 0), datetime.datetime(2015, 7, 31, 0, 0)), (datetime.datetime(2015, 8, 1, 0, 0), datetime.datetime(2015, 8, 31, 0, 0)), (datetime.datetime(2015, 9, 1, 0, 0), datetime.datetime(2015, 9, 30, 0, 0)), (datetime.datetime(2015, 10, 1, 0, 0), datetime.datetime(2015, 10, 31, 0, 0)), (datetime.datetime(2015, 11, 1, 0, 0), datetime.datetime(2015, 11, 30, 0, 0)), (datetime.datetime(2015, 12, 1, 0, 0), datetime.datetime(2015, 12, 31, 0, 0)), (datetime.datetime(2016, 1, 1, 0, 0), datetime.datetime(2016, 1, 31, 0, 0)), (datetime.datetime(2016, 2, 1, 0, 0), datetime.datetime(2016, 2, 29, 0, 0)), (datetime.datetime(2016, 3, 1, 0, 0), datetime.datetime(2016, 3, 31, 0, 0)), (datetime.datetime(2016, 4, 1, 0, 0), datetime.datetime(2016, 4, 30, 0, 0)), (datetime.datetime(2016, 5, 1, 0, 0), datetime.datetime(2016, 5, 31, 0, 0)), (datetime.datetime(2016, 6, 1, 0, 0), datetime.datetime(2016, 6, 30, 0, 0)), (datetime.datetime(2016, 7, 1, 0, 0), datetime.datetime(2016, 7, 31, 0, 0)), (datetime.datetime(2016, 8, 1, 0, 0), datetime.datetime(2016, 8, 31, 0, 0)), (datetime.datetime(2016, 9, 1, 0, 0), datetime.datetime(2016, 9, 30, 0, 0)), (datetime.datetime(2016, 10, 1, 0, 0), datetime.datetime(2016, 10, 31, 0, 0)), (datetime.datetime(2016, 11, 1, 0, 0), datetime.datetime(2016, 11, 30, 0, 0)), (datetime.datetime(2016, 12, 1, 0, 0), datetime.datetime(2016, 12, 31, 0, 0)), (datetime.datetime(2017, 1, 1, 0, 0), datetime.datetime(2017, 1, 31, 0, 0)), (datetime.datetime(2017, 2, 1, 0, 0), datetime.datetime(2017, 2, 28, 0, 0)), (datetime.datetime(2017, 3, 1, 0, 0), datetime.datetime(2017, 3, 31, 0, 0)), (datetime.datetime(2017, 4, 1, 0, 0), datetime.datetime(2017, 4, 30, 0, 0)), (datetime.datetime(2017, 5, 1, 0, 0), datetime.datetime(2017, 5, 31, 0, 0)), (datetime.datetime(2017, 6, 1, 0, 0), datetime.datetime(2017, 6, 30, 0, 0)), (datetime.datetime(2017, 7, 1, 0, 0), datetime.datetime(2017, 7, 31, 0, 0)), (datetime.datetime(2017, 8, 1, 0, 0), datetime.datetime(2017, 8, 31, 0, 0)), (datetime.datetime(2017, 9, 1, 0, 0), datetime.datetime(2017, 9, 30, 0, 0)), (datetime.datetime(2017, 10, 1, 0, 0), datetime.datetime(2017, 10, 31, 0, 0)), (datetime.datetime(2017, 11, 1, 0, 0), datetime.datetime(2017, 11, 30, 0, 0)), (datetime.datetime(2017, 12, 1, 0, 0), datetime.datetime(2017, 12, 31, 0, 0)), (datetime.datetime(2018, 1, 1, 0, 0), datetime.datetime(2018, 1, 31, 0, 0)), (datetime.datetime(2018, 2, 1, 0, 0), datetime.datetime(2018, 2, 28, 0, 0)), (datetime.datetime(2018, 3, 1, 0, 0), datetime.datetime(2018, 3, 31, 0, 0)), (datetime.datetime(2018, 4, 1, 0, 0), datetime.datetime(2018, 4, 30, 0, 0)), (datetime.datetime(2018, 5, 1, 0, 0), datetime.datetime(2018, 5, 31, 0, 0)), (datetime.datetime(2018, 6, 1, 0, 0), datetime.datetime(2018, 6, 30, 0, 0)), (datetime.datetime(2018, 7, 1, 0, 0), datetime.datetime(2018, 7, 31, 0, 0)), (datetime.datetime(2018, 8, 1, 0, 0), datetime.datetime(2018, 8, 31, 0, 0)), (datetime.datetime(2018, 9, 1, 0, 0), datetime.datetime(2018, 9, 30, 0, 0)), (datetime.datetime(2018, 10, 1, 0, 0), datetime.datetime(2018, 10, 31, 0, 0)), (datetime.datetime(2018, 11, 1, 0, 0), datetime.datetime(2018, 11, 30, 0, 0)), (datetime.datetime(2018, 12, 1, 0, 0), datetime.datetime(2018, 12, 31, 0, 0)), (datetime.datetime(2019, 1, 1, 0, 0), datetime.datetime(2019, 1, 31, 0, 0)), (datetime.datetime(2019, 2, 1, 0, 0), datetime.datetime(2019, 2, 28, 0, 0)), (datetime.datetime(2019, 3, 1, 0, 0), datetime.datetime(2019, 3, 31, 0, 0)), (datetime.datetime(2019, 4, 1, 0, 0), datetime.datetime(2019, 4, 30, 0, 0)), (datetime.datetime(2019, 5, 1, 0, 0), datetime.datetime(2019, 5, 31, 0, 0)), (datetime.datetime(2019, 6, 1, 0, 0), datetime.datetime(2019, 6, 30, 0, 0)), (datetime.datetime(2019, 7, 1, 0, 0), datetime.datetime(2019, 7, 31, 0, 0)), (datetime.datetime(2019, 8, 1, 0, 0), datetime.datetime(2019, 8, 31, 0, 0)), (datetime.datetime(2019, 9, 1, 0, 0), datetime.datetime(2019, 9, 30, 0, 0)), (datetime.datetime(2019, 10, 1, 0, 0), datetime.datetime(2019, 10, 31, 0, 0)), (datetime.datetime(2019, 11, 1, 0, 0), datetime.datetime(2019, 11, 30, 0, 0)), (datetime.datetime(2019, 12, 1, 0, 0), datetime.datetime(2019, 12, 31, 0, 0)), (datetime.datetime(2020, 1, 1, 0, 0), datetime.datetime(2020, 1, 31, 0, 0)), (datetime.datetime(2020, 2, 1, 0, 0), datetime.datetime(2020, 2, 29, 0, 0)), (datetime.datetime(2020, 3, 1, 0, 0), datetime.datetime(2020, 3, 31, 0, 0)), (datetime.datetime(2020, 4, 1, 0, 0), datetime.datetime(2020, 4, 30, 0, 0)), (datetime.datetime(2020, 5, 1, 0, 0), datetime.datetime(2020, 5, 31, 0, 0)), (datetime.datetime(2020, 6, 1, 0, 0), datetime.datetime(2020, 6, 30, 0, 0)), (datetime.datetime(2020, 7, 1, 0, 0), datetime.datetime(2020, 7, 31, 0, 0)), (datetime.datetime(2020, 8, 1, 0, 0), datetime.datetime(2020, 8, 31, 0, 0)), (datetime.datetime(2020, 9, 1, 0, 0), datetime.datetime(2020, 9, 30, 0, 0)), (datetime.datetime(2020, 10, 1, 0, 0), datetime.datetime(2020, 10, 31, 0, 0)), (datetime.datetime(2020, 11, 1, 0, 0), datetime.datetime(2020, 11, 30, 0, 0))]\n"
     ]
    }
   ],
   "source": [
    "from dateutil.relativedelta import relativedelta\n",
    "\n",
    "def generate_monthly_ranges(start_year=2020):\n",
    "    current_date = datetime(2020, 12, 1)\n",
    "    start_date = datetime(start_year, 1, 1)\n",
    "    date_ranges = []\n",
    "\n",
    "    while start_date < current_date:\n",
    "        end_date = start_date + relativedelta(months=1) - relativedelta(days=1)\n",
    "        date_ranges.append((start_date, end_date))\n",
    "        start_date += relativedelta(months=1)\n",
    "\n",
    "    return date_ranges\n",
    "\n",
    "print(generate_monthly_ranges(2011))"
   ]
  },
  {
   "cell_type": "code",
   "execution_count": 15,
   "metadata": {},
   "outputs": [],
   "source": [
    "from langchain.llms import OpenAI\n",
    "from langchain.chains import LLMChain\n",
    "from langchain.prompts import PromptTemplate\n",
    "\n",
    "def analyze_content(db, date_range):\n",
    "    print(\"running analyze_content for \", date_range)\n",
    "    \n",
    "    query = \"drought OR 'climate disaster' OR 'water scarcity' OR 'extreme weather' OR 'climate change'\"\n",
    "    docs = db.similarity_search(query)\n",
    "    \n",
    "    content = \"\\n\".join([doc.page_content for doc in docs][:3500])\n",
    "\n",
    "    template = \"\"\"\n",
    "    Analyze the following text for mentions of drought, climate disasters, or related issues in Syria for the period {start_date} to {end_date}. \n",
    "    Rate the severity of the situation on a scale from 0 to 10, where 0 is no mention and 10 is extremely severe.\n",
    "    Provide a brief explanation for your rating.\n",
    "\n",
    "    Text: {content}\n",
    "\n",
    "    Rating (0-10):\n",
    "    Explanation:\n",
    "    \"\"\"\n",
    "\n",
    "    prompt = PromptTemplate(\n",
    "        input_variables=[\"start_date\", \"end_date\", \"content\"],\n",
    "        template=template\n",
    "    )\n",
    "\n",
    "    llm = OpenAI(temperature=0)\n",
    "    chain = LLMChain(llm=llm, prompt=prompt)\n",
    "\n",
    "    result = chain.run(start_date=date_range[0], end_date=date_range[1], content=content)\n",
    "    return result"
   ]
  },
  {
   "cell_type": "code",
   "execution_count": 16,
   "metadata": {},
   "outputs": [
    {
     "name": "stdout",
     "output_type": "stream",
     "text": [
      "2020-01-01 00:00:00 2020-01-31 00:00:00\n",
      "['Syria drought', 'Syria civil war', 'Syria climate change']\n",
      "Request URL: https://api.gdeltproject.org/api/v2/doc/doc?query=(Syria drought OR Syria civil war OR Syria climate change sourcelang:english)&mode=artlist&format=json&startdatetime=20200101000000&enddatetime=20200131000000&maxrecords=10\n",
      "urls:  ['https://earther.gizmodo.com/the-depressing-reason-more-drought-could-lead-to-less-c-1840977438', 'https://www.gizmodo.com.au/2020/01/the-depressing-reason-more-drought-could-lead-to-less-conflict/', 'https://www.gizmodo.co.uk/2020/01/the-depressing-reason-more-drought-could-lead-to-less-conflict/', 'https://lenta.ru/news/2020/01/30/foodforsyria/', 'https://military.china.com/retie/37485974.html', 'https://gizmodo.com/?startTime=1578958199999', 'https://gizmodo.com/?startTime=1578958440412', 'https://gizmodo.com/?startTime=1578953400833', 'https://gizmodo.com/?startTime=1579014044520', 'https://gizmodo.com/?startTime=1579010400994']\n",
      "['https://earther.gizmodo.com/the-depressing-reason-more-drought-could-lead-to-less-c-1840977438', 'https://www.gizmodo.com.au/2020/01/the-depressing-reason-more-drought-could-lead-to-less-conflict/', 'https://www.gizmodo.co.uk/2020/01/the-depressing-reason-more-drought-could-lead-to-less-conflict/', 'https://lenta.ru/news/2020/01/30/foodforsyria/', 'https://military.china.com/retie/37485974.html', 'https://gizmodo.com/?startTime=1578958199999', 'https://gizmodo.com/?startTime=1578958440412', 'https://gizmodo.com/?startTime=1578953400833', 'https://gizmodo.com/?startTime=1579014044520', 'https://gizmodo.com/?startTime=1579010400994']\n"
     ]
    },
    {
     "name": "stderr",
     "output_type": "stream",
     "text": [
      "urls:  10%|█         | 1/10 [00:00<00:02,  3.49it/s]"
     ]
    },
    {
     "name": "stdout",
     "output_type": "stream",
     "text": [
      "are you stuck here\n",
      "or here\n"
     ]
    },
    {
     "name": "stderr",
     "output_type": "stream",
     "text": [
      "urls:  20%|██        | 2/10 [00:00<00:03,  2.25it/s]"
     ]
    },
    {
     "name": "stdout",
     "output_type": "stream",
     "text": [
      "are you stuck here\n",
      "or here\n"
     ]
    },
    {
     "name": "stderr",
     "output_type": "stream",
     "text": [
      "urls:  30%|███       | 3/10 [00:01<00:03,  2.23it/s]"
     ]
    },
    {
     "name": "stdout",
     "output_type": "stream",
     "text": [
      "HTTP Error: 404 Client Error: Not Found for url: https://gizmodo.com/2020/01/the-depressing-reason-more-drought-could-lead-to-less-conflict\n"
     ]
    },
    {
     "name": "stderr",
     "output_type": "stream",
     "text": [
      "urls:  40%|████      | 4/10 [00:03<00:05,  1.04it/s]"
     ]
    },
    {
     "name": "stdout",
     "output_type": "stream",
     "text": [
      "are you stuck here\n",
      "or here\n"
     ]
    },
    {
     "name": "stderr",
     "output_type": "stream",
     "text": [
      "urls:  50%|█████     | 5/10 [00:03<00:04,  1.05it/s]"
     ]
    },
    {
     "name": "stdout",
     "output_type": "stream",
     "text": [
      "HTTP Error: 404 Client Error: Not Found for url: https://military.china.com/retie/37485974.html\n",
      "are you stuck here\n",
      "or here\n"
     ]
    },
    {
     "name": "stderr",
     "output_type": "stream",
     "text": [
      "urls:  60%|██████    | 6/10 [00:04<00:03,  1.31it/s]"
     ]
    },
    {
     "name": "stdout",
     "output_type": "stream",
     "text": [
      "are you stuck here\n",
      "or here\n"
     ]
    },
    {
     "name": "stderr",
     "output_type": "stream",
     "text": [
      "urls:  70%|███████   | 7/10 [00:04<00:01,  1.60it/s]"
     ]
    },
    {
     "name": "stdout",
     "output_type": "stream",
     "text": [
      "are you stuck here\n",
      "or here\n"
     ]
    },
    {
     "name": "stderr",
     "output_type": "stream",
     "text": [
      "urls:  80%|████████  | 8/10 [00:05<00:01,  1.84it/s]"
     ]
    },
    {
     "name": "stdout",
     "output_type": "stream",
     "text": [
      "are you stuck here\n",
      "or here\n"
     ]
    },
    {
     "name": "stderr",
     "output_type": "stream",
     "text": [
      "urls:  90%|█████████ | 9/10 [00:05<00:00,  2.00it/s]"
     ]
    },
    {
     "name": "stdout",
     "output_type": "stream",
     "text": [
      "are you stuck here\n",
      "or here\n"
     ]
    },
    {
     "name": "stderr",
     "output_type": "stream",
     "text": [
      "urls: 100%|██████████| 10/10 [00:05<00:00,  1.71it/s]\n",
      "Created a chunk of size 4541, which is longer than the specified 1000\n",
      "Created a chunk of size 4270, which is longer than the specified 1000\n",
      "Created a chunk of size 1745, which is longer than the specified 1000\n",
      "Created a chunk of size 1014, which is longer than the specified 1000\n",
      "Created a chunk of size 1014, which is longer than the specified 1000\n",
      "Created a chunk of size 1014, which is longer than the specified 1000\n",
      "Created a chunk of size 1014, which is longer than the specified 1000\n"
     ]
    },
    {
     "name": "stdout",
     "output_type": "stream",
     "text": [
      "running analyze_content for  (datetime.datetime(2020, 1, 1, 0, 0), datetime.datetime(2020, 1, 31, 0, 0))\n",
      "2020-02-01 00:00:00 2020-02-29 00:00:00\n",
      "['Syria drought', 'Syria civil war', 'Syria climate change']\n",
      "Request URL: https://api.gdeltproject.org/api/v2/doc/doc?query=(Syria drought OR Syria civil war OR Syria climate change sourcelang:english)&mode=artlist&format=json&startdatetime=20200201000000&enddatetime=20200229000000&maxrecords=10\n",
      "urls:  ['http://www.hnn.us/article/174191', 'http://historynewsnetwork.org/article/174191', 'http://hnn.us/article/174191', 'https://historynewsnetwork.org/article/174191', 'http://alrai.com/article/10523535', 'https://www.hpr2.org/post/no-security-solutions-world-ignores-climate-change', 'https://www.hawaiipublicradio.org/post/no-security-solutions-world-ignores-climate-change', 'https://www.delfi.lv/news/arzemes/francija-aizturets-sirijas-islamists-kuru-apsudz-kara-noziegumos.d?id=51847475', 'http://www.sohu.com/a/371089155_120270994', 'https://www.equaltimes.org/will-turkey-s-thirst-for-dam']\n",
      "['http://www.hnn.us/article/174191', 'http://historynewsnetwork.org/article/174191', 'http://hnn.us/article/174191', 'https://historynewsnetwork.org/article/174191', 'http://alrai.com/article/10523535', 'https://www.hpr2.org/post/no-security-solutions-world-ignores-climate-change', 'https://www.hawaiipublicradio.org/post/no-security-solutions-world-ignores-climate-change', 'https://www.delfi.lv/news/arzemes/francija-aizturets-sirijas-islamists-kuru-apsudz-kara-noziegumos.d?id=51847475', 'http://www.sohu.com/a/371089155_120270994', 'https://www.equaltimes.org/will-turkey-s-thirst-for-dam']\n"
     ]
    },
    {
     "name": "stderr",
     "output_type": "stream",
     "text": [
      "urls:  10%|█         | 1/10 [00:00<00:05,  1.75it/s]"
     ]
    },
    {
     "name": "stdout",
     "output_type": "stream",
     "text": [
      "are you stuck here\n",
      "or here\n"
     ]
    },
    {
     "name": "stderr",
     "output_type": "stream",
     "text": [
      "urls:  20%|██        | 2/10 [00:00<00:03,  2.33it/s]"
     ]
    },
    {
     "name": "stdout",
     "output_type": "stream",
     "text": [
      "are you stuck here\n",
      "or here\n"
     ]
    },
    {
     "name": "stderr",
     "output_type": "stream",
     "text": [
      "urls:  30%|███       | 3/10 [00:01<00:02,  2.63it/s]"
     ]
    },
    {
     "name": "stdout",
     "output_type": "stream",
     "text": [
      "are you stuck here\n",
      "or here\n"
     ]
    },
    {
     "name": "stderr",
     "output_type": "stream",
     "text": [
      "urls:  40%|████      | 4/10 [00:01<00:02,  2.36it/s]"
     ]
    },
    {
     "name": "stdout",
     "output_type": "stream",
     "text": [
      "are you stuck here\n",
      "or here\n",
      "HTTP Error: 403 Client Error: Forbidden for url: http://alrai.com/article/10523535\n"
     ]
    },
    {
     "name": "stderr",
     "output_type": "stream",
     "text": [
      "urls:  60%|██████    | 6/10 [00:02<00:01,  2.90it/s]"
     ]
    },
    {
     "name": "stdout",
     "output_type": "stream",
     "text": [
      "Error Connecting: HTTPSConnectionPool(host='www.hpr2.org', port=443): Max retries exceeded with url: /post/no-security-solutions-world-ignores-climate-change (Caused by SSLError(SSLCertVerificationError(1, \"[SSL: CERTIFICATE_VERIFY_FAILED] certificate verify failed: Hostname mismatch, certificate is not valid for 'www.hpr2.org'. (_ssl.c:1000)\")))\n"
     ]
    },
    {
     "name": "stderr",
     "output_type": "stream",
     "text": [
      "urls:  70%|███████   | 7/10 [00:03<00:01,  2.10it/s]"
     ]
    },
    {
     "name": "stdout",
     "output_type": "stream",
     "text": [
      "are you stuck here\n",
      "or here\n"
     ]
    },
    {
     "name": "stderr",
     "output_type": "stream",
     "text": [
      "urls:  80%|████████  | 8/10 [00:04<00:01,  1.32it/s]"
     ]
    },
    {
     "name": "stdout",
     "output_type": "stream",
     "text": [
      "are you stuck here\n",
      "or here\n"
     ]
    },
    {
     "name": "stderr",
     "output_type": "stream",
     "text": [
      "urls:  90%|█████████ | 9/10 [00:05<00:00,  1.12it/s]"
     ]
    },
    {
     "name": "stdout",
     "output_type": "stream",
     "text": [
      "are you stuck here\n",
      "or here\n"
     ]
    },
    {
     "name": "stderr",
     "output_type": "stream",
     "text": [
      "urls: 100%|██████████| 10/10 [00:06<00:00,  1.49it/s]\n",
      "Created a chunk of size 8867, which is longer than the specified 1000\n",
      "Created a chunk of size 8867, which is longer than the specified 1000\n",
      "Created a chunk of size 8867, which is longer than the specified 1000\n",
      "Created a chunk of size 8867, which is longer than the specified 1000\n",
      "Created a chunk of size 4505, which is longer than the specified 1000\n",
      "Created a chunk of size 1803, which is longer than the specified 1000\n",
      "Created a chunk of size 10010, which is longer than the specified 1000\n"
     ]
    },
    {
     "name": "stdout",
     "output_type": "stream",
     "text": [
      "are you stuck here\n",
      "or here\n",
      "running analyze_content for  (datetime.datetime(2020, 2, 1, 0, 0), datetime.datetime(2020, 2, 29, 0, 0))\n",
      "Analysis complete. Results saved to syria_climate_analysis.txt\n"
     ]
    }
   ],
   "source": [
    "date_ranges = generate_monthly_ranges()\n",
    "results = []\n",
    "\n",
    "for start_date, end_date in date_ranges[:2]:\n",
    "    queries = [\"Syria drought\", \"Syria civil war\", \"Syria climate change\"]\n",
    "    print(start_date, end_date)\n",
    "    urls, _ = get_gdelt_data(queries, start_date, end_date, max_records=10)\n",
    "    print(\"urls: \", urls)\n",
    "    db = process_articles(urls)\n",
    "    analysis = analyze_content(db, (start_date, end_date))\n",
    "    results.append({\n",
    "        \"period\": f\"{start_date.strftime('%Y-%m')}\",\n",
    "        \"analysis\": analysis\n",
    "    })\n",
    "\n",
    "# Save results to a file\n",
    "with open(\"syria_climate_analysis.txt\", \"w\") as f:\n",
    "    for result in results:\n",
    "        f.write(f\"Period: {result['period']}\\n\")\n",
    "        f.write(f\"Analysis: {result['analysis']}\\n\\n\")\n",
    "\n",
    "print(\"Analysis complete. Results saved to syria_climate_analysis.txt\")\n"
   ]
  },
  {
   "cell_type": "code",
   "execution_count": null,
   "metadata": {},
   "outputs": [],
   "source": []
  }
 ],
 "metadata": {
  "kernelspec": {
   "display_name": "c-network",
   "language": "python",
   "name": "python3"
  },
  "language_info": {
   "codemirror_mode": {
    "name": "ipython",
    "version": 3
   },
   "file_extension": ".py",
   "mimetype": "text/x-python",
   "name": "python",
   "nbconvert_exporter": "python",
   "pygments_lexer": "ipython3",
   "version": "3.12.0"
  }
 },
 "nbformat": 4,
 "nbformat_minor": 2
}
