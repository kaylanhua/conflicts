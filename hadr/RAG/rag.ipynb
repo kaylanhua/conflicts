{
 "cells": [
  {
   "cell_type": "code",
   "execution_count": 1,
   "metadata": {},
   "outputs": [
    {
     "name": "stdout",
     "output_type": "stream",
     "text": [
      "\u001b[92mOPENAI API KEY DETECTED\u001b[0m\n"
     ]
    }
   ],
   "source": [
    "## IMPORTS\n",
    "import streamlit as st\n",
    "import requests\n",
    "from bs4 import BeautifulSoup\n",
    "import networkx as nx\n",
    "import matplotlib.pyplot as plt\n",
    "from datetime import datetime, timedelta\n",
    "import pandas as pd\n",
    "from langchain_community.llms import OpenAI\n",
    "from langchain_core.prompts import PromptTemplate\n",
    "from langchain.chains import LLMChain\n",
    "from langchain_community.vectorstores import Chroma\n",
    "from langchain_openai import OpenAIEmbeddings\n",
    "from langchain.text_splitter import CharacterTextSplitter\n",
    "from langchain.docstore.document import Document\n",
    "\n",
    "from langchain_community.document_loaders import TextLoader\n",
    "from langchain_text_splitters.character import CharacterTextSplitter\n",
    "import os\n",
    "import json\n",
    "\n",
    "from llama_index.core import ServiceContext, PromptHelper, VectorStoreIndex, SimpleDirectoryReader, set_global_service_context \n",
    "from llama_index.llms.openai import OpenAI\n",
    "from llama_index.core.text_splitter import TokenTextSplitter\n",
    "from llama_index.core.node_parser import SimpleNodeParser\n",
    "\n",
    "from tqdm import tqdm\n",
    "from trafilatura.sitemaps import sitemap_search\n",
    "from trafilatura import extract_metadata\n",
    "\n",
    "## API KEYS\n",
    "import openai\n",
    "from openai import OpenAI\n",
    "openai.organization = \"org-raWgaVqCbuR9YlP1CIjclYHk\" # Harvard\n",
    "openai.api_key = os.getenv(\"OPENAI_API_KEY\")\n",
    "print(\"\\033[92mOPENAI API KEY DETECTED\\033[0m\" if openai.api_key else \"\\033[91mNO API KEY DETECTED\\033[0m\")\n",
    "\n",
    "# Your existing functions (create_dataset, scrape) remain unchanged\n",
    "\n",
    "def get_gdelt_data(query, start_date, end_date):\n",
    "    base_url = \"https://api.gdeltproject.org/api/v2/doc/doc\"\n",
    "    print(query)\n",
    "    lang_query = f\"{query} sourcelang:english\"\n",
    "    params = {\n",
    "        \"query\": lang_query,\n",
    "        \"mode\": \"artlist\",\n",
    "        \"format\": \"json\",\n",
    "        \"startdatetime\": start_date.strftime(\"%Y%m%d%H%M%S\"),\n",
    "        \"enddatetime\": end_date.strftime(\"%Y%m%d%H%M%S\"),\n",
    "        \"maxrecords\": 5,\n",
    "    }\n",
    "    response = requests.get(base_url, params=params).json()\n",
    "    urls = [article[\"url\"] for article in response.get(\"articles\", [])]\n",
    "    return urls, response\n",
    "\n",
    "def create_dataset(list_of_websites: list) :\n",
    "    \"\"\"\n",
    "    scrapes the data from the list of websites\n",
    "    \"\"\"\n",
    "    data = []\n",
    "    print(list_of_websites)\n",
    "    for url in tqdm(list_of_websites, desc=\"urls\"):\n",
    "        try:\n",
    "            # Send HTTP request to the URL with a timeout of 8 seconds\n",
    "            response = requests.get(url, timeout=5)\n",
    "            response.raise_for_status()  # Check for successful response\n",
    "            # Parse HTML content\n",
    "            print(\"are you stuck here\")\n",
    "            \n",
    "            soup = BeautifulSoup(response.content, \"html.parser\")\n",
    "            print(\"or here\")\n",
    "            \n",
    "            metadata = extract_metadata(response.content)\n",
    "            title = soup.title.string\n",
    "            description = metadata.description\n",
    "            # Extract text from each paragraph\n",
    "            paragraphs = [p.get_text(strip=True) for p in soup.find_all(\"p\")]\n",
    "            content = \"\\n\".join(paragraphs)\n",
    "            d = {\n",
    "                \"url\": url,\n",
    "                \"title\": title,\n",
    "                \"body\": content,\n",
    "                \"description\": description,\n",
    "            }\n",
    "            data.append(d)\n",
    "        except requests.exceptions.HTTPError as errh:\n",
    "            print(f\"HTTP Error: {errh}\")\n",
    "        except requests.exceptions.ConnectionError as errc:\n",
    "            print(f\"Error Connecting: {errc}\")\n",
    "        except requests.exceptions.Timeout as errt:\n",
    "            print(f\"Timeout Error: {errt}\")\n",
    "        except requests.RequestException as err:\n",
    "            print(f\"Error during requests to {url}: {str(err)}\")\n",
    "    return data\n",
    "\n",
    "def scrape(list_of_websites: list) -> None:\n",
    "    data = create_dataset(list_of_websites)\n",
    "\n",
    "    current_time = datetime.now().strftime(\"%d%H%M%S\")\n",
    "    dataset_filename = f\"./data/dataset_{current_time}.txt\"\n",
    "\n",
    "    with open(dataset_filename, \"w\", encoding=\"utf-8\") as file:\n",
    "        for paragraph in data:\n",
    "            file.write(\"\\n\" + paragraph[\"title\"] + \"\\n\")\n",
    "            file.write(paragraph[\"body\"]+\"\\n\\n\")\n",
    "\n",
    "\n",
    "## FRAGMENTING DOCUMENTS\n",
    "def split_documents():\n",
    "    \"\"\"Load the most recent file from the data folder, split it into chunks, embed each chunk and load it into the vector store.\"\"\"\n",
    "    data_folder = \"./data\"\n",
    "    files = os.listdir(data_folder)\n",
    "    latest_file = max([os.path.join(data_folder, f) for f in files], key=os.path.getctime)\n",
    "    raw_documents = TextLoader(latest_file).load()\n",
    "    text_splitter = CharacterTextSplitter(chunk_size=1000, chunk_overlap=0)\n",
    "    return text_splitter.split_documents(raw_documents)\n",
    "\n",
    "\n",
    "def process_articles(urls):\n",
    "    # generate documents in /data folder\n",
    "    scrape(urls)\n",
    "    # read from data folder\n",
    "    documents = split_documents()\n",
    "    # create vector store \n",
    "    embeddings = OpenAIEmbeddings()\n",
    "    db = Chroma.from_documents(documents, embeddings)\n",
    "    return db"
   ]
  },
  {
   "cell_type": "code",
   "execution_count": 2,
   "metadata": {},
   "outputs": [],
   "source": [
    "def query_llm(query, context):\n",
    "    llm = OpenAI()\n",
    "    template = \"\"\"\n",
    "    You are an AI assistant specializing in armed conflicts and international relations.\n",
    "    Use the following context to answer the question. If you can't answer based on the context, say \"I don't have enough information to answer that.\"\n",
    "\n",
    "    Context: {context}\n",
    "\n",
    "    Human: {human_input}\n",
    "    AI Assistant: \"\"\"\n",
    "    \n",
    "    prompt = PromptTemplate(template=template, input_variables=[\"context\", \"human_input\"])\n",
    "    llm_chain = LLMChain(prompt=prompt, llm=llm)\n",
    "    response = llm_chain.invoke(context=context, human_input=query)\n",
    "    return response"
   ]
  },
  {
   "cell_type": "code",
   "execution_count": null,
   "metadata": {},
   "outputs": [],
   "source": [
    "def create_timeline(events, vectorstore):\n",
    "    query = \"Create a timeline of important events based on the given information. Format the response as a JSON array of objects, where each object has a 'date' field in 'YYYY-MM-DD' format and a 'description' field.\"\n",
    "    docs = vectorstore.similarity_search(query)\n",
    "    context = \"\\n\".join([doc.page_content for doc in docs])\n",
    "    timeline_json = query_llm(query, context)\n",
    "    \n",
    "    try:\n",
    "        timeline_data = json.loads(timeline_json)\n",
    "        return timeline_data\n",
    "    except json.JSONDecodeError:\n",
    "        st.error(\"Failed to parse timeline data. Please try again.\")\n",
    "        return []\n"
   ]
  },
  {
   "cell_type": "markdown",
   "metadata": {},
   "source": [
    "# the timeline part"
   ]
  },
  {
   "cell_type": "code",
   "execution_count": 27,
   "metadata": {},
   "outputs": [],
   "source": [
    "from langchain_community.llms import OpenAI\n",
    "from langchain_core.prompts import PromptTemplate\n",
    "from langchain.chains import LLMChain\n",
    "from langchain.output_parsers import StructuredOutputParser, ResponseSchema\n",
    "import plotly.express as px\n",
    "import pandas as pd\n",
    "from datetime import datetime\n",
    "import os\n",
    "\n",
    "conflict_schema = ResponseSchema(name=\"conflicts\", description=\"List of conflicts\")\n",
    "conflict_parser = StructuredOutputParser.from_response_schemas([conflict_schema])\n",
    "\n",
    "event_schema = ResponseSchema(name=\"events\", description=\"List of timeline events\")\n",
    "event_parser = StructuredOutputParser.from_response_schemas([event_schema])\n",
    "\n",
    "\n",
    "def query_llm_for_conflicts(country):\n",
    "    llm = OpenAI(temperature=0.7)\n",
    "    template = \"\"\"\n",
    "    You are an AI assistant specializing in armed conflicts and international relations.\n",
    "    Please provide a list of major armed conflicts that have occurred in {country}.\n",
    "    Format your response as a JSON array of objects, where each object has the following fields:\n",
    "    - name: the name of the conflict\n",
    "    - start_year: the year the conflict started (integer)\n",
    "    - end_year: the year the conflict ended, or \"ongoing\" if it's still active (integer or string)\n",
    "\n",
    "    {format_instructions}\n",
    "\n",
    "    Human: List conflicts in {country}\n",
    "    AI Assistant:\"\"\"\n",
    "    \n",
    "    prompt = PromptTemplate(\n",
    "        template=template,\n",
    "        input_variables=[\"country\"],\n",
    "        partial_variables={\"format_instructions\": conflict_parser.get_format_instructions()}\n",
    "    )\n",
    "    llm_chain = LLMChain(prompt=prompt, llm=llm)\n",
    "    response = llm_chain.run(country=country)\n",
    "    return conflict_parser.parse(response)"
   ]
  },
  {
   "cell_type": "code",
   "execution_count": 28,
   "metadata": {},
   "outputs": [],
   "source": [
    "def query_llm_for_timeline(conflict_name, start_year, end_year):\n",
    "    llm = OpenAI(temperature=0.7)\n",
    "    template = \"\"\"\n",
    "    You are an AI assistant specializing in armed conflicts and international relations.\n",
    "    Please provide a timeline of important events for the {conflict_name}, which occurred from {start_year} to {end_year}.\n",
    "    Format your response as a JSON array of objects, where each object has the following fields:\n",
    "    - date: the date of the event in \"YYYY-MM-DD\" format (use an approximate date if the exact date is unknown)\n",
    "    - description: a brief description of the event\n",
    "\n",
    "    {format_instructions}\n",
    "\n",
    "    Human: Create a timeline for {conflict_name}\n",
    "    AI Assistant:\"\"\"\n",
    "    \n",
    "    prompt = PromptTemplate(\n",
    "        template=template,\n",
    "        input_variables=[\"conflict_name\", \"start_year\", \"end_year\"],\n",
    "        partial_variables={\"format_instructions\": event_parser.get_format_instructions()}\n",
    "    )\n",
    "    llm_chain = LLMChain(prompt=prompt, llm=llm)\n",
    "    response = llm_chain.run(conflict_name=conflict_name, start_year=start_year, end_year=end_year)\n",
    "    return event_parser.parse(response)"
   ]
  },
  {
   "cell_type": "code",
   "execution_count": 29,
   "metadata": {},
   "outputs": [],
   "source": [
    "def visualize_timeline(timeline_data):\n",
    "    df = pd.DataFrame(timeline_data)\n",
    "    df['date'] = pd.to_datetime(df['date'])\n",
    "    df = df.sort_values('date')\n",
    "\n",
    "    fig = px.timeline(\n",
    "        df, \n",
    "        x_start=\"date\", \n",
    "        x_end=\"date\",\n",
    "        y=\"description\",\n",
    "        title=\"Timeline of Important Events\"\n",
    "    )\n",
    "\n",
    "    fig.update_yaxes(autorange=\"reversed\")\n",
    "    fig.update_layout(\n",
    "        height=600,\n",
    "        title_x=0.5,\n",
    "        xaxis_title=\"\",\n",
    "        yaxis_title=\"\",\n",
    "        font=dict(size=12)\n",
    "    )\n",
    "\n",
    "    return fig\n"
   ]
  },
  {
   "cell_type": "code",
   "execution_count": 30,
   "metadata": {},
   "outputs": [
    {
     "name": "stdout",
     "output_type": "stream",
     "text": [
      "[{'name': 'Second Sudanese Civil War', 'start_year': 1983, 'end_year': 2005}, {'name': 'Darfur Conflict', 'start_year': 2003, 'end_year': 'ongoing'}]\n"
     ]
    }
   ],
   "source": [
    "country = \"sudan\"\n",
    "conflicts_data = query_llm_for_conflicts(country)\n",
    "conflicts = conflicts_data.get(\"conflicts\", [])\n",
    "print(conflicts)"
   ]
  },
  {
   "cell_type": "code",
   "execution_count": 31,
   "metadata": {},
   "outputs": [
    {
     "name": "stdout",
     "output_type": "stream",
     "text": [
      "timeline events:  [{'date': '1983-03-18', 'description': \"Sudan People's Liberation Army/Movement (SPLA/M) is formed, led by John Garang\"}, {'date': '1983-05-16', 'description': 'The SPLA/M launches its first military action against the Sudanese government'}, {'date': '1989-06-30', 'description': 'Omar al-Bashir takes power in a military coup, beginning his 30-year rule'}, {'date': '1991-08-28', 'description': 'SPLA/M splits into two factions, led by John Garang and Riek Machar'}, {'date': '1995-04-21', 'description': 'SPLA/M signs a peace agreement with the government, but it falls apart within months'}, {'date': '1998-07-30', 'description': 'SPLA/M launches a major offensive'}]\n"
     ]
    }
   ],
   "source": [
    "if conflicts:\n",
    "    # st.subheader(f\"Conflicts in {country}\")\n",
    "    # for conflict in conflicts:\n",
    "    conflict = conflicts[0]\n",
    "    end_year = conflict['end_year'] if conflict['end_year'] != \"ongoing\" else \"Present\"\n",
    "        # if st.button(f\"{conflict['name']}: {conflict['start_year']} – {end_year}\"):\n",
    "            # with st.spinner(\"Generating timeline...\"):\n",
    "    timeline_data = query_llm_for_timeline(conflict['name'], conflict['start_year'], end_year)\n",
    "    timeline_events = timeline_data.get(\"events\", [])\n",
    "            \n",
    "    if timeline_events:\n",
    "        # timeline_fig = visualize_timeline(timeline_events)\n",
    "        print(\"timeline events: \", timeline_events)\n",
    "        # st.plotly_chart(timeline_fig, use_container_width=True)\n",
    "    else:\n",
    "        st.write(\"No timeline data available.\")\n",
    "else:\n",
    "    st.write(\"No conflicts found for the specified country.\")"
   ]
  },
  {
   "cell_type": "code",
   "execution_count": 32,
   "metadata": {},
   "outputs": [
    {
     "data": {
      "text/plain": [
       "[{'date': '1983-03-18',\n",
       "  'description': \"Sudan People's Liberation Army/Movement (SPLA/M) is formed, led by John Garang\"},\n",
       " {'date': '1983-05-16',\n",
       "  'description': 'The SPLA/M launches its first military action against the Sudanese government'},\n",
       " {'date': '1989-06-30',\n",
       "  'description': 'Omar al-Bashir takes power in a military coup, beginning his 30-year rule'},\n",
       " {'date': '1991-08-28',\n",
       "  'description': 'SPLA/M splits into two factions, led by John Garang and Riek Machar'},\n",
       " {'date': '1995-04-21',\n",
       "  'description': 'SPLA/M signs a peace agreement with the government, but it falls apart within months'},\n",
       " {'date': '1998-07-30', 'description': 'SPLA/M launches a major offensive'}]"
      ]
     },
     "execution_count": 32,
     "metadata": {},
     "output_type": "execute_result"
    }
   ],
   "source": [
    "timeline_events = [event for event in timeline_events if event.get('date') and event.get('description')]\n",
    "timeline_events"
   ]
  },
  {
   "cell_type": "code",
   "execution_count": 35,
   "metadata": {},
   "outputs": [
    {
     "name": "stderr",
     "output_type": "stream",
     "text": [
      "2024-06-24 21:43:22.773 WARNING streamlit.runtime.caching.cache_data_api: No runtime found, using MemoryCacheStorageManager\n"
     ]
    },
    {
     "data": {
      "text/plain": [
       "[{'id': 1,\n",
       "  'content': \"Sudan People's Liberation Army/Movement (SPLA/M) is formed, led by John Garang\",\n",
       "  'start': '1983-03-18'},\n",
       " {'id': 2,\n",
       "  'content': 'The SPLA/M launches its first military action against the Sudanese government',\n",
       "  'start': '1983-05-16'},\n",
       " {'id': 3,\n",
       "  'content': 'Omar al-Bashir takes power in a military coup, beginning his 30-year rule',\n",
       "  'start': '1989-06-30'},\n",
       " {'id': 4,\n",
       "  'content': 'SPLA/M splits into two factions, led by John Garang and Riek Machar',\n",
       "  'start': '1991-08-28'},\n",
       " {'id': 5,\n",
       "  'content': 'SPLA/M signs a peace agreement with the government, but it falls apart within months',\n",
       "  'start': '1995-04-21'},\n",
       " {'id': 6,\n",
       "  'content': 'SPLA/M launches a major offensive',\n",
       "  'start': '1998-07-30'}]"
      ]
     },
     "execution_count": 35,
     "metadata": {},
     "output_type": "execute_result"
    }
   ],
   "source": [
    "import streamlit as st\n",
    "from streamlit_timeline import st_timeline\n",
    "\n",
    "st.set_page_config(layout=\"wide\")\n",
    "\n",
    "events = [{'date': '1983-03-18',\n",
    "  'description': \"Sudan People's Liberation Army/Movement (SPLA/M) is formed, led by John Garang\"},\n",
    " {'date': '1983-05-16',\n",
    "  'description': 'The SPLA/M launches its first military action against the Sudanese government'},\n",
    " {'date': '1989-06-30',\n",
    "  'description': 'Omar al-Bashir takes power in a military coup, beginning his 30-year rule'},\n",
    " {'date': '1991-08-28',\n",
    "  'description': 'SPLA/M splits into two factions, led by John Garang and Riek Machar'},\n",
    " {'date': '1995-04-21',\n",
    "  'description': 'SPLA/M signs a peace agreement with the government, but it falls apart within months'},\n",
    " {'date': '1998-07-30', 'description': 'SPLA/M launches a major offensive'}]\n",
    "\n",
    "items = [{\"id\": idx + 1, \"content\": event[\"description\"], \"start\": event[\"date\"]} for idx, event in enumerate(events)]\n",
    "items\n",
    "# items = [\n",
    "#     {\"id\": 1, \"content\": \"2022-10-20\", \"start\": \"2022-10-20\"},\n",
    "#     {\"id\": 2, \"content\": \"2022-10-09\", \"start\": \"2022-10-09\"},\n",
    "#     {\"id\": 3, \"content\": \"2022-10-18\", \"start\": \"2022-10-18\"},\n",
    "#     {\"id\": 4, \"content\": \"2022-10-16\", \"start\": \"2022-10-16\"},\n",
    "#     {\"id\": 5, \"content\": \"2022-10-25\", \"start\": \"2022-10-25\"},\n",
    "#     {\"id\": 6, \"content\": \"2022-10-27\", \"start\": \"2022-10-27\"},\n",
    "# ]\n"
   ]
  },
  {
   "cell_type": "code",
   "execution_count": null,
   "metadata": {},
   "outputs": [],
   "source": [
    "\n",
    "timeline = st_timeline(items, groups=[], options={}, height=\"300px\")\n",
    "st.subheader(\"Selected item\")\n",
    "st.write(timeline)"
   ]
  },
  {
   "cell_type": "code",
   "execution_count": 33,
   "metadata": {},
   "outputs": [
    {
     "data": {
      "application/vnd.plotly.v1+json": {
       "config": {
        "plotlyServerURL": "https://plot.ly"
       },
       "data": [
        {
         "alignmentgroup": "True",
         "base": [
          0,
          0,
          0,
          0,
          0,
          0
         ],
         "hovertemplate": "date=%{x}<br>description=%{y}<extra></extra>",
         "legendgroup": "",
         "marker": {
          "color": "#636efa",
          "pattern": {
           "shape": ""
          }
         },
         "name": "",
         "offsetgroup": "",
         "orientation": "h",
         "showlegend": false,
         "textposition": "auto",
         "type": "bar",
         "x": [
          0,
          0,
          0,
          0,
          0,
          0
         ],
         "xaxis": "x",
         "y": [
          "Sudan People's Liberation Army/Movement (SPLA/M) is formed, led by John Garang",
          "The SPLA/M launches its first military action against the Sudanese government",
          "Omar al-Bashir takes power in a military coup, beginning his 30-year rule",
          "SPLA/M splits into two factions, led by John Garang and Riek Machar",
          "SPLA/M signs a peace agreement with the government, but it falls apart within months",
          "SPLA/M launches a major offensive"
         ],
         "yaxis": "y"
        }
       ],
       "layout": {
        "barmode": "overlay",
        "font": {
         "size": 12
        },
        "height": 600,
        "legend": {
         "tracegroupgap": 0
        },
        "template": {
         "data": {
          "bar": [
           {
            "error_x": {
             "color": "#2a3f5f"
            },
            "error_y": {
             "color": "#2a3f5f"
            },
            "marker": {
             "line": {
              "color": "#E5ECF6",
              "width": 0.5
             },
             "pattern": {
              "fillmode": "overlay",
              "size": 10,
              "solidity": 0.2
             }
            },
            "type": "bar"
           }
          ],
          "barpolar": [
           {
            "marker": {
             "line": {
              "color": "#E5ECF6",
              "width": 0.5
             },
             "pattern": {
              "fillmode": "overlay",
              "size": 10,
              "solidity": 0.2
             }
            },
            "type": "barpolar"
           }
          ],
          "carpet": [
           {
            "aaxis": {
             "endlinecolor": "#2a3f5f",
             "gridcolor": "white",
             "linecolor": "white",
             "minorgridcolor": "white",
             "startlinecolor": "#2a3f5f"
            },
            "baxis": {
             "endlinecolor": "#2a3f5f",
             "gridcolor": "white",
             "linecolor": "white",
             "minorgridcolor": "white",
             "startlinecolor": "#2a3f5f"
            },
            "type": "carpet"
           }
          ],
          "choropleth": [
           {
            "colorbar": {
             "outlinewidth": 0,
             "ticks": ""
            },
            "type": "choropleth"
           }
          ],
          "contour": [
           {
            "colorbar": {
             "outlinewidth": 0,
             "ticks": ""
            },
            "colorscale": [
             [
              0,
              "#0d0887"
             ],
             [
              0.1111111111111111,
              "#46039f"
             ],
             [
              0.2222222222222222,
              "#7201a8"
             ],
             [
              0.3333333333333333,
              "#9c179e"
             ],
             [
              0.4444444444444444,
              "#bd3786"
             ],
             [
              0.5555555555555556,
              "#d8576b"
             ],
             [
              0.6666666666666666,
              "#ed7953"
             ],
             [
              0.7777777777777778,
              "#fb9f3a"
             ],
             [
              0.8888888888888888,
              "#fdca26"
             ],
             [
              1,
              "#f0f921"
             ]
            ],
            "type": "contour"
           }
          ],
          "contourcarpet": [
           {
            "colorbar": {
             "outlinewidth": 0,
             "ticks": ""
            },
            "type": "contourcarpet"
           }
          ],
          "heatmap": [
           {
            "colorbar": {
             "outlinewidth": 0,
             "ticks": ""
            },
            "colorscale": [
             [
              0,
              "#0d0887"
             ],
             [
              0.1111111111111111,
              "#46039f"
             ],
             [
              0.2222222222222222,
              "#7201a8"
             ],
             [
              0.3333333333333333,
              "#9c179e"
             ],
             [
              0.4444444444444444,
              "#bd3786"
             ],
             [
              0.5555555555555556,
              "#d8576b"
             ],
             [
              0.6666666666666666,
              "#ed7953"
             ],
             [
              0.7777777777777778,
              "#fb9f3a"
             ],
             [
              0.8888888888888888,
              "#fdca26"
             ],
             [
              1,
              "#f0f921"
             ]
            ],
            "type": "heatmap"
           }
          ],
          "heatmapgl": [
           {
            "colorbar": {
             "outlinewidth": 0,
             "ticks": ""
            },
            "colorscale": [
             [
              0,
              "#0d0887"
             ],
             [
              0.1111111111111111,
              "#46039f"
             ],
             [
              0.2222222222222222,
              "#7201a8"
             ],
             [
              0.3333333333333333,
              "#9c179e"
             ],
             [
              0.4444444444444444,
              "#bd3786"
             ],
             [
              0.5555555555555556,
              "#d8576b"
             ],
             [
              0.6666666666666666,
              "#ed7953"
             ],
             [
              0.7777777777777778,
              "#fb9f3a"
             ],
             [
              0.8888888888888888,
              "#fdca26"
             ],
             [
              1,
              "#f0f921"
             ]
            ],
            "type": "heatmapgl"
           }
          ],
          "histogram": [
           {
            "marker": {
             "pattern": {
              "fillmode": "overlay",
              "size": 10,
              "solidity": 0.2
             }
            },
            "type": "histogram"
           }
          ],
          "histogram2d": [
           {
            "colorbar": {
             "outlinewidth": 0,
             "ticks": ""
            },
            "colorscale": [
             [
              0,
              "#0d0887"
             ],
             [
              0.1111111111111111,
              "#46039f"
             ],
             [
              0.2222222222222222,
              "#7201a8"
             ],
             [
              0.3333333333333333,
              "#9c179e"
             ],
             [
              0.4444444444444444,
              "#bd3786"
             ],
             [
              0.5555555555555556,
              "#d8576b"
             ],
             [
              0.6666666666666666,
              "#ed7953"
             ],
             [
              0.7777777777777778,
              "#fb9f3a"
             ],
             [
              0.8888888888888888,
              "#fdca26"
             ],
             [
              1,
              "#f0f921"
             ]
            ],
            "type": "histogram2d"
           }
          ],
          "histogram2dcontour": [
           {
            "colorbar": {
             "outlinewidth": 0,
             "ticks": ""
            },
            "colorscale": [
             [
              0,
              "#0d0887"
             ],
             [
              0.1111111111111111,
              "#46039f"
             ],
             [
              0.2222222222222222,
              "#7201a8"
             ],
             [
              0.3333333333333333,
              "#9c179e"
             ],
             [
              0.4444444444444444,
              "#bd3786"
             ],
             [
              0.5555555555555556,
              "#d8576b"
             ],
             [
              0.6666666666666666,
              "#ed7953"
             ],
             [
              0.7777777777777778,
              "#fb9f3a"
             ],
             [
              0.8888888888888888,
              "#fdca26"
             ],
             [
              1,
              "#f0f921"
             ]
            ],
            "type": "histogram2dcontour"
           }
          ],
          "mesh3d": [
           {
            "colorbar": {
             "outlinewidth": 0,
             "ticks": ""
            },
            "type": "mesh3d"
           }
          ],
          "parcoords": [
           {
            "line": {
             "colorbar": {
              "outlinewidth": 0,
              "ticks": ""
             }
            },
            "type": "parcoords"
           }
          ],
          "pie": [
           {
            "automargin": true,
            "type": "pie"
           }
          ],
          "scatter": [
           {
            "fillpattern": {
             "fillmode": "overlay",
             "size": 10,
             "solidity": 0.2
            },
            "type": "scatter"
           }
          ],
          "scatter3d": [
           {
            "line": {
             "colorbar": {
              "outlinewidth": 0,
              "ticks": ""
             }
            },
            "marker": {
             "colorbar": {
              "outlinewidth": 0,
              "ticks": ""
             }
            },
            "type": "scatter3d"
           }
          ],
          "scattercarpet": [
           {
            "marker": {
             "colorbar": {
              "outlinewidth": 0,
              "ticks": ""
             }
            },
            "type": "scattercarpet"
           }
          ],
          "scattergeo": [
           {
            "marker": {
             "colorbar": {
              "outlinewidth": 0,
              "ticks": ""
             }
            },
            "type": "scattergeo"
           }
          ],
          "scattergl": [
           {
            "marker": {
             "colorbar": {
              "outlinewidth": 0,
              "ticks": ""
             }
            },
            "type": "scattergl"
           }
          ],
          "scattermapbox": [
           {
            "marker": {
             "colorbar": {
              "outlinewidth": 0,
              "ticks": ""
             }
            },
            "type": "scattermapbox"
           }
          ],
          "scatterpolar": [
           {
            "marker": {
             "colorbar": {
              "outlinewidth": 0,
              "ticks": ""
             }
            },
            "type": "scatterpolar"
           }
          ],
          "scatterpolargl": [
           {
            "marker": {
             "colorbar": {
              "outlinewidth": 0,
              "ticks": ""
             }
            },
            "type": "scatterpolargl"
           }
          ],
          "scatterternary": [
           {
            "marker": {
             "colorbar": {
              "outlinewidth": 0,
              "ticks": ""
             }
            },
            "type": "scatterternary"
           }
          ],
          "surface": [
           {
            "colorbar": {
             "outlinewidth": 0,
             "ticks": ""
            },
            "colorscale": [
             [
              0,
              "#0d0887"
             ],
             [
              0.1111111111111111,
              "#46039f"
             ],
             [
              0.2222222222222222,
              "#7201a8"
             ],
             [
              0.3333333333333333,
              "#9c179e"
             ],
             [
              0.4444444444444444,
              "#bd3786"
             ],
             [
              0.5555555555555556,
              "#d8576b"
             ],
             [
              0.6666666666666666,
              "#ed7953"
             ],
             [
              0.7777777777777778,
              "#fb9f3a"
             ],
             [
              0.8888888888888888,
              "#fdca26"
             ],
             [
              1,
              "#f0f921"
             ]
            ],
            "type": "surface"
           }
          ],
          "table": [
           {
            "cells": {
             "fill": {
              "color": "#EBF0F8"
             },
             "line": {
              "color": "white"
             }
            },
            "header": {
             "fill": {
              "color": "#C8D4E3"
             },
             "line": {
              "color": "white"
             }
            },
            "type": "table"
           }
          ]
         },
         "layout": {
          "annotationdefaults": {
           "arrowcolor": "#2a3f5f",
           "arrowhead": 0,
           "arrowwidth": 1
          },
          "autotypenumbers": "strict",
          "coloraxis": {
           "colorbar": {
            "outlinewidth": 0,
            "ticks": ""
           }
          },
          "colorscale": {
           "diverging": [
            [
             0,
             "#8e0152"
            ],
            [
             0.1,
             "#c51b7d"
            ],
            [
             0.2,
             "#de77ae"
            ],
            [
             0.3,
             "#f1b6da"
            ],
            [
             0.4,
             "#fde0ef"
            ],
            [
             0.5,
             "#f7f7f7"
            ],
            [
             0.6,
             "#e6f5d0"
            ],
            [
             0.7,
             "#b8e186"
            ],
            [
             0.8,
             "#7fbc41"
            ],
            [
             0.9,
             "#4d9221"
            ],
            [
             1,
             "#276419"
            ]
           ],
           "sequential": [
            [
             0,
             "#0d0887"
            ],
            [
             0.1111111111111111,
             "#46039f"
            ],
            [
             0.2222222222222222,
             "#7201a8"
            ],
            [
             0.3333333333333333,
             "#9c179e"
            ],
            [
             0.4444444444444444,
             "#bd3786"
            ],
            [
             0.5555555555555556,
             "#d8576b"
            ],
            [
             0.6666666666666666,
             "#ed7953"
            ],
            [
             0.7777777777777778,
             "#fb9f3a"
            ],
            [
             0.8888888888888888,
             "#fdca26"
            ],
            [
             1,
             "#f0f921"
            ]
           ],
           "sequentialminus": [
            [
             0,
             "#0d0887"
            ],
            [
             0.1111111111111111,
             "#46039f"
            ],
            [
             0.2222222222222222,
             "#7201a8"
            ],
            [
             0.3333333333333333,
             "#9c179e"
            ],
            [
             0.4444444444444444,
             "#bd3786"
            ],
            [
             0.5555555555555556,
             "#d8576b"
            ],
            [
             0.6666666666666666,
             "#ed7953"
            ],
            [
             0.7777777777777778,
             "#fb9f3a"
            ],
            [
             0.8888888888888888,
             "#fdca26"
            ],
            [
             1,
             "#f0f921"
            ]
           ]
          },
          "colorway": [
           "#636efa",
           "#EF553B",
           "#00cc96",
           "#ab63fa",
           "#FFA15A",
           "#19d3f3",
           "#FF6692",
           "#B6E880",
           "#FF97FF",
           "#FECB52"
          ],
          "font": {
           "color": "#2a3f5f"
          },
          "geo": {
           "bgcolor": "white",
           "lakecolor": "white",
           "landcolor": "#E5ECF6",
           "showlakes": true,
           "showland": true,
           "subunitcolor": "white"
          },
          "hoverlabel": {
           "align": "left"
          },
          "hovermode": "closest",
          "mapbox": {
           "style": "light"
          },
          "paper_bgcolor": "white",
          "plot_bgcolor": "#E5ECF6",
          "polar": {
           "angularaxis": {
            "gridcolor": "white",
            "linecolor": "white",
            "ticks": ""
           },
           "bgcolor": "#E5ECF6",
           "radialaxis": {
            "gridcolor": "white",
            "linecolor": "white",
            "ticks": ""
           }
          },
          "scene": {
           "xaxis": {
            "backgroundcolor": "#E5ECF6",
            "gridcolor": "white",
            "gridwidth": 2,
            "linecolor": "white",
            "showbackground": true,
            "ticks": "",
            "zerolinecolor": "white"
           },
           "yaxis": {
            "backgroundcolor": "#E5ECF6",
            "gridcolor": "white",
            "gridwidth": 2,
            "linecolor": "white",
            "showbackground": true,
            "ticks": "",
            "zerolinecolor": "white"
           },
           "zaxis": {
            "backgroundcolor": "#E5ECF6",
            "gridcolor": "white",
            "gridwidth": 2,
            "linecolor": "white",
            "showbackground": true,
            "ticks": "",
            "zerolinecolor": "white"
           }
          },
          "shapedefaults": {
           "line": {
            "color": "#2a3f5f"
           }
          },
          "ternary": {
           "aaxis": {
            "gridcolor": "white",
            "linecolor": "white",
            "ticks": ""
           },
           "baxis": {
            "gridcolor": "white",
            "linecolor": "white",
            "ticks": ""
           },
           "bgcolor": "#E5ECF6",
           "caxis": {
            "gridcolor": "white",
            "linecolor": "white",
            "ticks": ""
           }
          },
          "title": {
           "x": 0.05
          },
          "xaxis": {
           "automargin": true,
           "gridcolor": "white",
           "linecolor": "white",
           "ticks": "",
           "title": {
            "standoff": 15
           },
           "zerolinecolor": "white",
           "zerolinewidth": 2
          },
          "yaxis": {
           "automargin": true,
           "gridcolor": "white",
           "linecolor": "white",
           "ticks": "",
           "title": {
            "standoff": 15
           },
           "zerolinecolor": "white",
           "zerolinewidth": 2
          }
         }
        },
        "title": {
         "text": "Timeline of Important Events",
         "x": 0.5
        },
        "xaxis": {
         "anchor": "y",
         "domain": [
          0,
          1
         ],
         "title": {
          "text": ""
         },
         "type": "date"
        },
        "yaxis": {
         "anchor": "x",
         "autorange": "reversed",
         "domain": [
          0,
          1
         ],
         "title": {
          "text": ""
         }
        }
       }
      }
     },
     "metadata": {},
     "output_type": "display_data"
    }
   ],
   "source": [
    "visualize_timeline(timeline_events)"
   ]
  },
  {
   "cell_type": "code",
   "execution_count": null,
   "metadata": {},
   "outputs": [],
   "source": []
  }
 ],
 "metadata": {
  "kernelspec": {
   "display_name": "c-network",
   "language": "python",
   "name": "python3"
  },
  "language_info": {
   "codemirror_mode": {
    "name": "ipython",
    "version": 3
   },
   "file_extension": ".py",
   "mimetype": "text/x-python",
   "name": "python",
   "nbconvert_exporter": "python",
   "pygments_lexer": "ipython3",
   "version": "3.12.0"
  }
 },
 "nbformat": 4,
 "nbformat_minor": 2
}
