{
 "cells": [
  {
   "cell_type": "code",
   "execution_count": 18,
   "metadata": {},
   "outputs": [
    {
     "name": "stdout",
     "output_type": "stream",
     "text": [
      "Series info:\n",
      "<class 'pandas.core.series.Series'>\n",
      "MultiIndex: 27504 entries, (469, 1, 0) to (480, 246, 11)\n",
      "Series name: outcome\n",
      "Non-Null Count  Dtype\n",
      "--------------  -----\n",
      "27504 non-null  int32\n",
      "dtypes: int32(1)\n",
      "memory usage: 221.4 KB\n",
      "None\n",
      "\n",
      "Converted to DataFrame:\n",
      "   month_id  country_id  draw  outcome\n",
      "0       469           1     0        0\n",
      "1       469           1     1        0\n",
      "2       469           1     2        0\n",
      "3       469           1     3        0\n",
      "4       469           1     4        0\n",
      "\n",
      "Accessing specific levels:\n",
      "month_id values: Int64Index([469, 470, 471, 472, 473, 474, 475, 476, 477, 478, 479, 480], dtype='int64', name='month_id')\n",
      "country_id values: Int64Index([  1,   2,   3,   4,   5,   6,   7,   8,   9,  10,\n",
      "            ...\n",
      "            232, 233, 234, 235, 237, 242, 243, 244, 245, 246],\n",
      "           dtype='int64', name='country_id', length=191)\n",
      "draw values: Int64Index([0, 1, 2, 3, 4, 5, 6, 7, 8, 9, 10, 11], dtype='int64', name='draw')\n"
     ]
    }
   ],
   "source": [
    "import pandas as pd\n",
    "\n",
    "year = 2019\n",
    "c18 = pd.read_parquet(f\"../../data/views/Conflictology {year}.parquet\")\n",
    "\n",
    "# Parse the 'outcome' series\n",
    "outcome_series = c18['outcome']\n",
    "\n",
    "print(\"Series info:\")\n",
    "print(outcome_series.info())\n",
    "\n",
    "# # Parse the MultiIndex series\n",
    "# print(\"\\nParsing the MultiIndex series:\")\n",
    "# print(\"Index levels:\", outcome_series.index.names)\n",
    "# print(\"Number of entries:\", len(outcome_series))\n",
    "\n",
    "# print(\"\\nFirst few rows:\")\n",
    "# print(outcome_series.head())\n",
    "\n",
    "outcome_df = outcome_series.reset_index()\n",
    "print(\"\\nConverted to DataFrame:\")\n",
    "print(outcome_df.head())\n",
    "outcome_df.to_csv(f\"Conflictology_{year}.csv\")\n",
    "\n",
    "print(\"\\nAccessing specific levels:\")\n",
    "print(\"month_id values:\", outcome_series.index.get_level_values('month_id').unique())\n",
    "print(\"country_id values:\", outcome_series.index.get_level_values('country_id').unique())\n",
    "print(\"draw values:\", outcome_series.index.get_level_values('draw').unique())\n",
    "\n"
   ]
  },
  {
   "cell_type": "code",
   "execution_count": 19,
   "metadata": {},
   "outputs": [],
   "source": [
    "# DRC\n",
    "drc_data = outcome_df[outcome_df['country_id'] == 167]\n",
    "drc_data.to_csv(f\"DRC_Conflictology_{year}.csv\")"
   ]
  },
  {
   "cell_type": "code",
   "execution_count": 29,
   "metadata": {},
   "outputs": [
    {
     "name": "stdout",
     "output_type": "stream",
     "text": [
      "      month_id  country_id  outcome\n",
      "152        469         167       87\n",
      "343        470         167       62\n",
      "534        471         167       53\n",
      "725        472         167       26\n",
      "916        473         167       99\n",
      "1107       474         167       61\n",
      "1298       475         167       23\n",
      "1489       476         167        5\n",
      "1680       477         167       63\n",
      "1871       478         167       29\n",
      "2062       479         167       88\n",
      "2253       480         167      198\n"
     ]
    }
   ],
   "source": [
    "import pandas as pd\n",
    "\n",
    "# Read the parquet file\n",
    "cm_actuals = pd.read_parquet(\"../../data/views/actuals/window=Y2019/cm_actuals_2019.parquet\")\n",
    "cm_actuals_df = cm_actuals.reset_index()\n",
    "\n",
    "country_results = cm_actuals_df[cm_actuals_df['country_id'] == 167]\n",
    "print(country_results)\n",
    "country_results.to_csv(f\"DRC_cm_actuals_{year}.csv\")\n",
    "\n"
   ]
  },
  {
   "cell_type": "code",
   "execution_count": null,
   "metadata": {},
   "outputs": [],
   "source": []
  }
 ],
 "metadata": {
  "kernelspec": {
   "display_name": "c-network",
   "language": "python",
   "name": "python3"
  },
  "language_info": {
   "codemirror_mode": {
    "name": "ipython",
    "version": 3
   },
   "file_extension": ".py",
   "mimetype": "text/x-python",
   "name": "python",
   "nbconvert_exporter": "python",
   "pygments_lexer": "ipython3",
   "version": "3.12.0"
  }
 },
 "nbformat": 4,
 "nbformat_minor": 2
}
