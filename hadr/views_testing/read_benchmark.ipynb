{
 "cells": [
  {
   "cell_type": "code",
   "execution_count": 7,
   "metadata": {},
   "outputs": [
    {
     "name": "stdout",
     "output_type": "stream",
     "text": [
      "Series info:\n",
      "<class 'pandas.core.series.Series'>\n",
      "MultiIndex: 2292000 entries, (469, 1, 0) to (480, 246, 999)\n",
      "Series name: outcome\n",
      "Non-Null Count    Dtype\n",
      "--------------    -----\n",
      "2292000 non-null  int32\n",
      "dtypes: int32(1)\n",
      "memory usage: 19.7 MB\n",
      "None\n",
      "\n",
      "Converted to DataFrame:\n",
      "   month_id  country_id  draw  outcome\n",
      "0       469           1     0        0\n",
      "1       469           1     1        0\n",
      "2       469           1     2        0\n",
      "3       469           1     3        0\n",
      "4       469           1     4        0\n",
      "\n",
      "Accessing specific levels:\n",
      "month_id values: Int64Index([469, 470, 471, 472, 473, 474, 475, 476, 477, 478, 479, 480], dtype='int64', name='month_id')\n",
      "country_id values: Int64Index([  1,   2,   3,   4,   5,   6,   7,   8,   9,  10,\n",
      "            ...\n",
      "            232, 233, 234, 235, 237, 242, 243, 244, 245, 246],\n",
      "           dtype='int64', name='country_id', length=191)\n",
      "draw values: Int64Index([  0,   1,   2,   3,   4,   5,   6,   7,   8,   9,\n",
      "            ...\n",
      "            990, 991, 992, 993, 994, 995, 996, 997, 998, 999],\n",
      "           dtype='int64', name='draw', length=1000)\n"
     ]
    }
   ],
   "source": [
    "import pandas as pd\n",
    "\n",
    "year = 2019\n",
    "type = \"zero\" # \"Conflictology\" or \"last\" \"zero\" \"boot\"\n",
    "c18 = pd.read_parquet(f\"../../data/views/bm/{type} {year}.parquet\")\n",
    "\n",
    "# Parse the 'outcome' series\n",
    "outcome_series = c18['outcome']\n",
    "\n",
    "print(\"Series info:\")\n",
    "print(outcome_series.info())\n",
    "\n",
    "# # Parse the MultiIndex series\n",
    "# print(\"\\nParsing the MultiIndex series:\")\n",
    "# print(\"Index levels:\", outcome_series.index.names)\n",
    "# print(\"Number of entries:\", len(outcome_series))\n",
    "\n",
    "# print(\"\\nFirst few rows:\")\n",
    "# print(outcome_series.head())\n",
    "\n",
    "outcome_df = outcome_series.reset_index()\n",
    "print(\"\\nConverted to DataFrame:\")\n",
    "print(outcome_df.head())\n",
    "outcome_df.to_csv(f\"{type}_{year}.csv\")\n",
    "\n",
    "print(\"\\nAccessing specific levels:\")\n",
    "print(\"month_id values:\", outcome_series.index.get_level_values('month_id').unique())\n",
    "print(\"country_id values:\", outcome_series.index.get_level_values('country_id').unique())\n",
    "print(\"draw values:\", outcome_series.index.get_level_values('draw').unique())\n",
    "\n"
   ]
  },
  {
   "cell_type": "code",
   "execution_count": null,
   "metadata": {},
   "outputs": [],
   "source": [
    "# Import necessary libraries\n",
    "import pandas as pd\n",
    "from IPython.display import display\n",
    "\n",
    "# Assuming outcome_df is already defined from the previous cell\n",
    "# If not, you may need to rerun the code to create it\n",
    "\n",
    "# Create a function to display DataFrame in a scrollable form\n",
    "def display_scrollable(df, rows=10):\n",
    "    return display(df.style.set_table_attributes('style=\"display:block; max-height:300px; overflow-y:scroll;\"'))\n",
    "\n",
    "# Display the DataFrame\n",
    "print(\"Displaying original benchmark in a scrollable form:\")\n",
    "display_scrollable(c18, rows=10)\n",
    "\n"
   ]
  },
  {
   "cell_type": "code",
   "execution_count": 8,
   "metadata": {},
   "outputs": [],
   "source": [
    "# DRC\n",
    "country = \"DRC\"\n",
    "country_id = 167\n",
    "\n",
    "country_data = outcome_df[outcome_df['country_id'] == country_id]\n",
    "country_data.to_csv(f\"{country}_{type}_{year}.csv\")"
   ]
  },
  {
   "cell_type": "code",
   "execution_count": null,
   "metadata": {},
   "outputs": [],
   "source": []
  }
 ],
 "metadata": {
  "kernelspec": {
   "display_name": "c-network",
   "language": "python",
   "name": "python3"
  },
  "language_info": {
   "codemirror_mode": {
    "name": "ipython",
    "version": 3
   },
   "file_extension": ".py",
   "mimetype": "text/x-python",
   "name": "python",
   "nbconvert_exporter": "python",
   "pygments_lexer": "ipython3",
   "version": "3.12.0"
  }
 },
 "nbformat": 4,
 "nbformat_minor": 2
}
