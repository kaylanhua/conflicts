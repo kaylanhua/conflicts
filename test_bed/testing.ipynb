{
 "cells": [
  {
   "cell_type": "code",
   "execution_count": 4,
   "metadata": {},
   "outputs": [
    {
     "data": {
      "text/plain": [
       "[2, 3, 4]"
      ]
     },
     "execution_count": 4,
     "metadata": {},
     "output_type": "execute_result"
    }
   ],
   "source": [
    "first, *middle, last = [1, 2, 3, 4, 5]\n",
    "middle"
   ]
  },
  {
   "cell_type": "code",
   "execution_count": null,
   "metadata": {},
   "outputs": [],
   "source": [
    "# Given a dataset of test scores, write pandas code to return the \n",
    "# cumulative percentage of students that received scores within the \n",
    "# buckets of <50, <75, <90, <100.\n",
    "\n",
    "# Our dataset has user_id, grade, and test_score columns.\n",
    "\n",
    " \n",
    "# You will be writing the function that will use grade and test_score columns.\n",
    "# And display the dataframe with grades, bucket scores, and cumulative \n",
    "# percentage of students getting bucket scores.  "
   ]
  }
 ],
 "metadata": {
  "kernelspec": {
   "display_name": "c-network",
   "language": "python",
   "name": "python3"
  },
  "language_info": {
   "codemirror_mode": {
    "name": "ipython",
    "version": 3
   },
   "file_extension": ".py",
   "mimetype": "text/x-python",
   "name": "python",
   "nbconvert_exporter": "python",
   "pygments_lexer": "ipython3",
   "version": "3.12.0"
  },
  "orig_nbformat": 4
 },
 "nbformat": 4,
 "nbformat_minor": 2
}
