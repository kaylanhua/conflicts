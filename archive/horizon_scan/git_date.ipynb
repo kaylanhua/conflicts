{
 "cells": [
  {
   "cell_type": "code",
   "execution_count": 1,
   "metadata": {},
   "outputs": [
    {
     "name": "stdout",
     "output_type": "stream",
     "text": [
      "Last deployed on 2024/06/26 at 16:54:46  for commit 8954c4101d4ca4e0e0f3c5efab12f5627f27050b\n"
     ]
    }
   ],
   "source": [
    "import subprocess\n",
    "import datetime\n",
    "\n",
    "def get_commit_hash():\n",
    "    try:\n",
    "        commit_hash = subprocess.check_output(['git', 'rev-parse', 'HEAD']).strip().decode('utf-8')\n",
    "        return commit_hash\n",
    "    except Exception as e:\n",
    "        return str(e)\n",
    "\n",
    "def get_deployment_time():\n",
    "    now = datetime.datetime.now()\n",
    "    deployment_time = now.strftime(\"%Y/%m/%d at %H:%M:%S %z\")\n",
    "    return deployment_time\n",
    "\n",
    "def main():\n",
    "    commit_hash = get_commit_hash()\n",
    "    deployment_time = get_deployment_time()\n",
    "    deployment_info = f\"Last deployed on {deployment_time} for commit {commit_hash}\"\n",
    "    print(deployment_info)\n",
    "\n",
    "if __name__ == \"__main__\":\n",
    "    main()\n"
   ]
  },
  {
   "cell_type": "code",
   "execution_count": null,
   "metadata": {},
   "outputs": [],
   "source": []
  }
 ],
 "metadata": {
  "kernelspec": {
   "display_name": "c-network",
   "language": "python",
   "name": "python3"
  },
  "language_info": {
   "codemirror_mode": {
    "name": "ipython",
    "version": 3
   },
   "file_extension": ".py",
   "mimetype": "text/x-python",
   "name": "python",
   "nbconvert_exporter": "python",
   "pygments_lexer": "ipython3",
   "version": "3.12.0"
  }
 },
 "nbformat": 4,
 "nbformat_minor": 2
}
