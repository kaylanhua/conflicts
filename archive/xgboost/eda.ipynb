{
 "cells": [
  {
   "cell_type": "markdown",
   "metadata": {},
   "source": [
    "## exploratory data analysis\n",
    "intended to be used as practice and to get familiar with the darfur acled data set"
   ]
  },
  {
   "cell_type": "code",
   "execution_count": 4,
   "metadata": {},
   "outputs": [
    {
     "name": "stdout",
     "output_type": "stream",
     "text": [
      "              YEAR  TIME_PRECISION       INTER1       INTER2  INTERACTION  \\\n",
      "count  9316.000000     9316.000000  9316.000000  9316.000000  9316.000000   \n",
      "mean   2015.455131        1.127952     2.995921     4.718763    32.556462   \n",
      "std       5.546933        0.386220     1.608347     2.876136    15.733739   \n",
      "min    1997.000000        1.000000     1.000000     0.000000    10.000000   \n",
      "25%    2013.000000        1.000000     1.000000     2.000000    17.000000   \n",
      "50%    2016.000000        1.000000     3.000000     7.000000    37.000000   \n",
      "75%    2020.000000        1.000000     4.000000     7.000000    44.000000   \n",
      "max    2023.000000        3.000000     8.000000     8.000000    88.000000   \n",
      "\n",
      "               ISO     LATITUDE    LONGITUDE  GEO_PRECISION   FATALITIES  \\\n",
      "count  9316.000000  9316.000000  9316.000000    9316.000000  9316.000000   \n",
      "mean    728.997960    12.938265    24.408647       1.454272     4.712216   \n",
      "std       0.045117     0.926513     1.053358       0.556571    24.603386   \n",
      "min     728.000000     9.273000    21.891000       1.000000     0.000000   \n",
      "25%     729.000000    12.056000    23.471000       1.000000     0.000000   \n",
      "50%     729.000000    13.131000    24.666000       1.000000     0.000000   \n",
      "75%     729.000000    13.626000    25.144000       2.000000     2.000000   \n",
      "max     729.000000    19.283000    27.789000       3.000000   700.000000   \n",
      "\n",
      "          TIMESTAMP  \n",
      "count  9.316000e+03  \n",
      "mean   1.637890e+09  \n",
      "std    3.200674e+07  \n",
      "min    1.552577e+09  \n",
      "25%    1.618574e+09  \n",
      "50%    1.632240e+09  \n",
      "75%    1.667259e+09  \n",
      "max    1.696268e+09  \n"
     ]
    }
   ],
   "source": [
    "import xgboost as xgb\n",
    "from sklearn.pipeline import Pipeline\n",
    "from sklearn.model_selection import train_test_split\n",
    "from sklearn.compose import ColumnTransformer\n",
    "from sklearn.preprocessing import StandardScaler, OneHotEncoder\n",
    "import pandas as pd\n",
    "import matplotlib as plt\n",
    "\n",
    "data = pd.read_csv('../data/acled/darfur.csv')\n",
    "print(data.describe()) # or data.info()\n",
    "\n",
    "## these all seem to be coded perfectly / no NAss"
   ]
  },
  {
   "cell_type": "code",
   "execution_count": null,
   "metadata": {},
   "outputs": [],
   "source": []
  }
 ],
 "metadata": {
  "kernelspec": {
   "display_name": "c-network",
   "language": "python",
   "name": "python3"
  },
  "language_info": {
   "codemirror_mode": {
    "name": "ipython",
    "version": 3
   },
   "file_extension": ".py",
   "mimetype": "text/x-python",
   "name": "python",
   "nbconvert_exporter": "python",
   "pygments_lexer": "ipython3",
   "version": "3.12.0"
  }
 },
 "nbformat": 4,
 "nbformat_minor": 2
}
