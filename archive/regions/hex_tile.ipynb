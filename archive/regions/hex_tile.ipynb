{
 "cells": [
  {
   "attachments": {},
   "cell_type": "markdown",
   "metadata": {},
   "source": [
    "## using hex tiles\n",
    "- original [source](https://location.foursquare.com/resources/blog/news/introducing-hex-tiles-our-next-gen-tiling-system/)\n",
    "- carto h3 \n",
    "  - more info [here](https://carto.com/blog/hexagons-for-location-intelligence)\n",
    "- python [implementation](https://python.plainenglish.io/creating-beautiful-hexagon-maps-with-python-25c9291eeeda)"
   ]
  },
  {
   "cell_type": "code",
   "execution_count": 2,
   "metadata": {},
   "outputs": [],
   "source": [
    "import ellipsis\n",
    "import geopandas\n",
    "import h3pandas"
   ]
  },
  {
   "cell_type": "code",
   "execution_count": null,
   "metadata": {},
   "outputs": [],
   "source": []
  }
 ],
 "metadata": {
  "kernelspec": {
   "display_name": "c-network",
   "language": "python",
   "name": "python3"
  },
  "language_info": {
   "codemirror_mode": {
    "name": "ipython",
    "version": 3
   },
   "file_extension": ".py",
   "mimetype": "text/x-python",
   "name": "python",
   "nbconvert_exporter": "python",
   "pygments_lexer": "ipython3",
   "version": "3.12.0"
  },
  "orig_nbformat": 4
 },
 "nbformat": 4,
 "nbformat_minor": 2
}
