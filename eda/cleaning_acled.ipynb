{
 "cells": [
  {
   "cell_type": "code",
   "execution_count": null,
   "metadata": {},
   "outputs": [],
   "source": [
    "import pandas as pd\n",
    "import numpy as np\n",
    "import matplotlib.pyplot as plt\n",
    "from datetime import datetime\n"
   ]
  },
  {
   "cell_type": "code",
   "execution_count": null,
   "metadata": {},
   "outputs": [],
   "source": [
    "def plot_acled(filename, region_name=\"Darfur\"):\n",
    "    fn = '../data/acled/raw/' + filename + '.csv'\n",
    "    acled = pd.read_csv(fn)\n",
    "    \n",
    "    acled[\"event_date\"] = pd.to_datetime(acled[\"event_date\"])\n",
    "    acled_sorted = acled.sort_values(by=\"event_date\")\n",
    "\n",
    "    target = acled_sorted[\"fatalities\"]\n",
    "    dates = acled_sorted[\"event_date\"]\n",
    "\n",
    "    print(f'dates range from {min(dates).date()} to {max(dates).date()}')\n",
    "\n",
    "    plt.figure(figsize=(12, 6))\n",
    "    plt.plot(dates, target, label='Fatalities')\n",
    "    plt.xlabel('Date')\n",
    "    plt.ylabel('Fatalities')\n",
    "\n",
    "    date_range = pd.date_range(start=min(dates), end=max(dates), periods=10)\n",
    "    plt.xticks(ticks=date_range, labels=[date.strftime('%Y-%m') for date in date_range])\n",
    "\n",
    "    plt.title(f'Fatalities Over Time (ACLED {region_name})')\n",
    "    plt.legend()\n",
    "    plt.show()\n",
    "\n"
   ]
  },
  {
   "cell_type": "code",
   "execution_count": null,
   "metadata": {},
   "outputs": [],
   "source": []
  }
 ],
 "metadata": {
  "language_info": {
   "name": "python"
  }
 },
 "nbformat": 4,
 "nbformat_minor": 2
}
