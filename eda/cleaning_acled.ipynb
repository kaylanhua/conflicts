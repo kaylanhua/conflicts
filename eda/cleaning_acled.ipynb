{
 "cells": [
  {
   "cell_type": "markdown",
   "metadata": {},
   "source": [
    "## ACLED\n",
    "- codebook is [here](https://acleddata.com/acleddatanew/wp-content/uploads/dlm_uploads/2023/06/ACLED_Codebook_2023.pdf)"
   ]
  },
  {
   "cell_type": "code",
   "execution_count": null,
   "metadata": {},
   "outputs": [],
   "source": [
    "import pandas as pd\n",
    "import numpy as np\n",
    "import matplotlib.pyplot as plt\n",
    "from datetime import datetime\n"
   ]
  },
  {
   "cell_type": "code",
   "execution_count": 1,
   "metadata": {},
   "outputs": [],
   "source": [
    "class ACLEDCleaner():\n",
    "    def __init__(self, filename):\n",
    "        self.filename = filename\n",
    "        self.data = self.load_data()\n",
    "        self.region_name = filename.split('_')[0]\n",
    "        \n",
    "    def load_data(self):\n",
    "        fn = '../data/acled/raw/' + self.filename + '.csv'\n",
    "        try: acled = pd.read_csv(fn)\n",
    "        except: \n",
    "            try: acled = pd.read_csv(fn, sep=\";\")\n",
    "            except:\n",
    "                print(f'Could not read {fn}')\n",
    "                return\n",
    "\n",
    "        return acled\n",
    "    \n",
    "    def plot(self):\n",
    "        acled = self.data\n",
    "        acled[\"event_date\"] = pd.to_datetime(acled[\"event_date\"])\n",
    "        acled_sorted = acled.sort_values(by=\"event_date\")\n",
    "\n",
    "        target = acled_sorted[\"fatalities\"]\n",
    "        dates = acled_sorted[\"event_date\"]\n",
    "\n",
    "        print(f'dates range from {min(dates).date()} to {max(dates).date()}')\n",
    "\n",
    "        plt.figure(figsize=(12, 6))\n",
    "        plt.plot(dates, target, label='Fatalities')\n",
    "        plt.xlabel('Date')\n",
    "        plt.ylabel('Fatalities')\n",
    "\n",
    "        date_range = pd.date_range(start=min(dates), end=max(dates), periods=10)\n",
    "        plt.xticks(ticks=date_range, labels=[date.strftime('%Y-%m') for date in date_range])\n",
    "\n",
    "        plt.title(f'Fatalities Over Time (ACLED {self.region_name})')\n",
    "        plt.legend()\n",
    "        plt.show()\n"
   ]
  },
  {
   "cell_type": "code",
   "execution_count": null,
   "metadata": {},
   "outputs": [],
   "source": []
  }
 ],
 "metadata": {
  "kernelspec": {
   "display_name": "c-network",
   "language": "python",
   "name": "python3"
  },
  "language_info": {
   "codemirror_mode": {
    "name": "ipython",
    "version": 3
   },
   "file_extension": ".py",
   "mimetype": "text/x-python",
   "name": "python",
   "nbconvert_exporter": "python",
   "pygments_lexer": "ipython3",
   "version": "3.12.0"
  }
 },
 "nbformat": 4,
 "nbformat_minor": 2
}
