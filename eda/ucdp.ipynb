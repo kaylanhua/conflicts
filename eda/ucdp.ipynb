{
 "cells": [
  {
   "cell_type": "code",
   "execution_count": 1,
   "metadata": {},
   "outputs": [],
   "source": [
    "import pandas as pd\n",
    "import numpy as np\n",
    "import matplotlib.pyplot as plt\n",
    "from datetime import datetime\n"
   ]
  },
  {
   "cell_type": "code",
   "execution_count": 34,
   "metadata": {},
   "outputs": [
    {
     "name": "stderr",
     "output_type": "stream",
     "text": [
      "/var/folders/wb/67n5x4vj6qq_n5t85f5bvtww0000gn/T/ipykernel_17625/2897713153.py:1: DtypeWarning: Columns (47) have mixed types. Specify dtype option on import or set low_memory=False.\n",
      "  df = pd.read_csv('../data/ucdp/GEDEvent_v23_1.csv')\n"
     ]
    },
    {
     "name": "stdout",
     "output_type": "stream",
     "text": [
      "['Afghanistan' 'Albania' 'Algeria' 'Angola' 'Argentina' 'Armenia'\n",
      " 'Australia' 'Austria' 'Azerbaijan' 'Bahrain' 'Bangladesh' 'Belgium'\n",
      " 'Benin' 'Bhutan' 'Bolivia' 'Bosnia-Herzegovina' 'Botswana' 'Brazil'\n",
      " 'Burkina Faso' 'Burundi' 'Cambodia (Kampuchea)' 'Cameroon' 'Canada'\n",
      " 'Central African Republic' 'Chad' 'China' 'Colombia' 'Comoros' 'Congo'\n",
      " 'Croatia' 'Djibouti' 'DR Congo (Zaire)' 'Ecuador' 'Egypt' 'El Salvador'\n",
      " 'Eritrea' 'Ethiopia' 'France' 'Gambia' 'Georgia' 'Germany' 'Ghana'\n",
      " 'Guatemala' 'Guinea' 'Guinea-Bissau' 'Guyana' 'Haiti' 'Honduras' 'India'\n",
      " 'Indonesia' 'Iran' 'Iraq' 'Israel' 'Italy' 'Ivory Coast' 'Jamaica'\n",
      " 'Jordan' 'Kenya' 'Kingdom of eSwatini (Swaziland)' 'Kuwait' 'Kyrgyzstan'\n",
      " 'Laos' 'Lebanon' 'Lesotho' 'Liberia' 'Libya' 'Macedonia, FYR'\n",
      " 'Madagascar (Malagasy)' 'Malaysia' 'Mali' 'Malta' 'Mauritania' 'Mexico'\n",
      " 'Moldova' 'Morocco' 'Mozambique' 'Myanmar (Burma)' 'Namibia' 'Nepal'\n",
      " 'Netherlands' 'Nicaragua' 'Niger' 'Nigeria' 'Pakistan' 'Panama'\n",
      " 'Papua New Guinea' 'Paraguay' 'Peru' 'Philippines' 'Poland' 'Qatar'\n",
      " 'Romania' 'Russia (Soviet Union)' 'Rwanda' 'Saudi Arabia' 'Senegal'\n",
      " 'Serbia (Yugoslavia)' 'Sierra Leone' 'Solomon Islands' 'Somalia'\n",
      " 'South Africa' 'South Sudan' 'Spain' 'Sri Lanka' 'Sudan' 'Sweden' 'Syria'\n",
      " 'Tajikistan' 'Tanzania' 'Thailand' 'Togo' 'Trinidad and Tobago' 'Tunisia'\n",
      " 'Turkey' 'Uganda' 'Ukraine' 'United Arab Emirates' 'United Kingdom'\n",
      " 'United States of America' 'Uzbekistan' 'Venezuela' 'Yemen (North Yemen)'\n",
      " 'Zambia' 'Zimbabwe (Rhodesia)']\n"
     ]
    }
   ],
   "source": [
    "df = pd.read_csv('../data/ucdp/GEDEvent_v23_1.csv')\n",
    "# (316818, 49)\n",
    "unique_countries = df['country'].unique()\n",
    "print(unique_countries)\n"
   ]
  },
  {
   "cell_type": "code",
   "execution_count": 33,
   "metadata": {},
   "outputs": [],
   "source": [
    "ethiopia = df[df['country'].str.contains(\"Ethiopia\")]\n",
    "# (3808, 49)\n",
    "ethiopia.to_csv('../data/ucdp/ethiopia.csv', index=False)"
   ]
  },
  {
   "cell_type": "code",
   "execution_count": 19,
   "metadata": {},
   "outputs": [
    {
     "name": "stdout",
     "output_type": "stream",
     "text": [
      "(6444, 49)\n"
     ]
    }
   ],
   "source": [
    "somalia = df[df['country'].str.contains(\"Somalia\")]\n",
    "print(somalia.shape)\n",
    "somalia.to_csv('../data/ucdp/somalia.csv', index=False)"
   ]
  },
  {
   "cell_type": "code",
   "execution_count": 21,
   "metadata": {},
   "outputs": [
    {
     "name": "stdout",
     "output_type": "stream",
     "text": [
      "(974, 49)\n"
     ]
    }
   ],
   "source": [
    "south_sudan = df[df['country'].str.contains(\"South Sudan\")]\n",
    "print(south_sudan.shape)\n",
    "south_sudan.to_csv('../data/ucdp/south_sudan.csv', index=False)"
   ]
  },
  {
   "cell_type": "code",
   "execution_count": 37,
   "metadata": {},
   "outputs": [
    {
     "name": "stdout",
     "output_type": "stream",
     "text": [
      "(7220, 49)\n"
     ]
    }
   ],
   "source": [
    "drc = df[df['country'] == \"DR Congo (Zaire)\"]\n",
    "print(drc.shape)\n",
    "drc.to_csv('../data/ucdp/drc.csv', index=False)"
   ]
  },
  {
   "cell_type": "code",
   "execution_count": 38,
   "metadata": {},
   "outputs": [
    {
     "name": "stdout",
     "output_type": "stream",
     "text": [
      "(1441, 49)\n"
     ]
    }
   ],
   "source": [
    "venezuela = df[df['country'] == \"Venezuela\"]\n",
    "print(venezuela.shape)\n",
    "venezuela.to_csv('../data/ucdp/venezuela.csv', index=False)"
   ]
  },
  {
   "cell_type": "code",
   "execution_count": 39,
   "metadata": {},
   "outputs": [
    {
     "name": "stdout",
     "output_type": "stream",
     "text": [
      "(186, 49)\n"
     ]
    }
   ],
   "source": [
    "el_salvador = df[df['country'] == \"El Salvador\"]\n",
    "print(el_salvador.shape)\n",
    "el_salvador.to_csv('../data/ucdp/el_salvador.csv', index=False)"
   ]
  },
  {
   "cell_type": "code",
   "execution_count": 40,
   "metadata": {},
   "outputs": [
    {
     "name": "stdout",
     "output_type": "stream",
     "text": [
      "(9053, 49)\n"
     ]
    }
   ],
   "source": [
    "colombia = df[df['country'] == \"Colombia\"]\n",
    "print(colombia.shape)\n",
    "colombia.to_csv('../data/ucdp/colombia.csv', index=False)"
   ]
  },
  {
   "cell_type": "code",
   "execution_count": null,
   "metadata": {},
   "outputs": [],
   "source": []
  }
 ],
 "metadata": {
  "kernelspec": {
   "display_name": "c-network",
   "language": "python",
   "name": "python3"
  },
  "language_info": {
   "codemirror_mode": {
    "name": "ipython",
    "version": 3
   },
   "file_extension": ".py",
   "mimetype": "text/x-python",
   "name": "python",
   "nbconvert_exporter": "python",
   "pygments_lexer": "ipython3",
   "version": "3.12.0"
  }
 },
 "nbformat": 4,
 "nbformat_minor": 2
}
