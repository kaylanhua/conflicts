{
 "cells": [
  {
   "cell_type": "markdown",
   "metadata": {},
   "source": [
    "## cleaning ucdp data\n",
    "\n",
    "- code book is [here](https://ucdp.uu.se/downloads/ged/ged231.pdf)"
   ]
  },
  {
   "cell_type": "code",
   "execution_count": 1,
   "metadata": {},
   "outputs": [],
   "source": [
    "import pandas as pd\n",
    "import numpy as np\n",
    "import matplotlib.pyplot as plt\n",
    "from datetime import datetime\n"
   ]
  },
  {
   "cell_type": "code",
   "execution_count": 1,
   "metadata": {},
   "outputs": [],
   "source": [
    "class UCDPCleaner():\n",
    "    def __init__(self, filename, use_high=False):\n",
    "        self.filename = filename\n",
    "        self.data = self.load_data(use_high)\n",
    "        self.region_name = filename.split('_')[0]\n",
    "        \n",
    "    def load_data(self, use_high):\n",
    "        fn = '../data/ucdp/' + self.filename + '.csv'\n",
    "        try: ucdp = pd.read_csv(fn)\n",
    "        except: \n",
    "            print(f'Could not read {fn}')\n",
    "            return\n",
    "        ucdp['date_start'] = pd.to_datetime(ucdp['date_start'])\n",
    "        ucdp_sorted = ucdp.sort_values(by=\"date_start\")\n",
    "        \n",
    "        if use_high:\n",
    "            ucdp_sorted.loc[ucdp_sorted['best'] == 0, 'best'] = ucdp_sorted.loc[ucdp_sorted['best'] == 0, 'high']\n",
    "        \n",
    "        return ucdp_sorted\n",
    "    \n",
    "    def plot(self):\n",
    "        ucdp = self.data \n",
    "        # ucdp['date_start'] = pd.to_datetime(ucdp['date_start'])\n",
    "        # ucdp_sorted = ucdp.sort_values(by=\"date_start\")\n",
    "\n",
    "        dates_ucdp = ucdp[\"date_start\"]\n",
    "        target_ucdp = ucdp[\"best\"]\n",
    "\n",
    "        print(f'dates range from {min(dates_ucdp).date()} to {max(dates_ucdp).date()}')\n",
    "\n",
    "        plt.figure(figsize=(12, 6))\n",
    "        plt.plot(dates_ucdp, target_ucdp, label='UCDP Estimate')  # Changed plot to scatterplot\n",
    "        plt.xlabel('Date')\n",
    "        plt.ylabel('Fatalities')\n",
    "        \n",
    "        plt.title(f'Fatalities Over Time (UCDP {self.region_name})')\n",
    "        plt.legend()\n",
    "        plt.show\n",
    "    \n",
    "    ## use high estimates if best is zero \n",
    "    # figure out conflict iD code duplicates \n",
    "    def duration(self):\n",
    "        data = self.data\n",
    "        data['date_start'] = pd.to_datetime(data['date_start'])\n",
    "        data['date_end'] = pd.to_datetime(data['date_end'])\n",
    "        data['duration'] = data['date_end'] - data['date_start'] \n",
    "        # data.loc[data['best'] == 0, 'best'] = data.loc[data['best'] == 0, 'high'] \n",
    "        \n",
    "        return data\n"
   ]
  },
  {
   "cell_type": "code",
   "execution_count": 24,
   "metadata": {},
   "outputs": [
    {
     "name": "stdout",
     "output_type": "stream",
     "text": [
      "2016-01-01 00:00:00\n"
     ]
    }
   ],
   "source": [
    "cleaner = UCDPCleaner('south_sudan')\n",
    "\n",
    "duration = cleaner.duration()\n",
    "print(duration.iloc[3]['date_start'])"
   ]
  },
  {
   "cell_type": "code",
   "execution_count": 25,
   "metadata": {},
   "outputs": [
    {
     "name": "stdout",
     "output_type": "stream",
     "text": [
      "1\n"
     ]
    }
   ],
   "source": [
    "print(duration.iloc[3]['best'])"
   ]
  },
  {
   "cell_type": "code",
   "execution_count": 31,
   "metadata": {},
   "outputs": [
    {
     "data": {
      "text/plain": [
       "127"
      ]
     },
     "execution_count": 31,
     "metadata": {},
     "output_type": "execute_result"
    }
   ],
   "source": [
    "len(cleaner.data['priogrid_gid'].unique())\n",
    "# split by dyad_new_id or conflict_id\n",
    "# there are 300 data points in the largest conflict area "
   ]
  },
  {
   "cell_type": "code",
   "execution_count": null,
   "metadata": {},
   "outputs": [],
   "source": []
  }
 ],
 "metadata": {
  "kernelspec": {
   "display_name": "c-network",
   "language": "python",
   "name": "python3"
  },
  "language_info": {
   "codemirror_mode": {
    "name": "ipython",
    "version": 3
   },
   "file_extension": ".py",
   "mimetype": "text/x-python",
   "name": "python",
   "nbconvert_exporter": "python",
   "pygments_lexer": "ipython3",
   "version": "3.12.0"
  }
 },
 "nbformat": 4,
 "nbformat_minor": 2
}
