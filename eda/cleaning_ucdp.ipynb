{
 "cells": [
  {
   "cell_type": "markdown",
   "metadata": {},
   "source": [
    "## cleaning ucdp data\n",
    "- there are "
   ]
  },
  {
   "cell_type": "code",
   "execution_count": 1,
   "metadata": {},
   "outputs": [],
   "source": [
    "import pandas as pd\n",
    "import numpy as np\n",
    "import matplotlib.pyplot as plt\n",
    "from datetime import datetime\n"
   ]
  },
  {
   "cell_type": "code",
   "execution_count": 3,
   "metadata": {},
   "outputs": [],
   "source": [
    "def plot_ucdp(filename='../data/ucdp/darfur_113023.csv', region_name=\"Darfur\"):\n",
    "    ucdp = pd.read_csv(filename)\n",
    "    ucdp['date_start'] = pd.to_datetime(ucdp['date_start'])\n",
    "    ucdp_sorted = ucdp.sort_values(by=\"date_start\")\n",
    "\n",
    "    dates_ucdp = ucdp_sorted[\"date_start\"]\n",
    "    target_ucdp = ucdp_sorted[\"best_est\"]\n",
    "\n",
    "    print(f'dates range from {min(dates_ucdp).date()} to {max(dates_ucdp).date()}')\n",
    "\n",
    "    plt.figure(figsize=(12, 6))\n",
    "    plt.plot(dates_ucdp, target_ucdp, label='UCDP Estimate')  # Changed plot to scatterplot\n",
    "    plt.xlabel('Date')\n",
    "    plt.ylabel('Fatalities')\n",
    "    \n",
    "    plt.title(f'Fatalities Over Time (UCDP {region_name})')\n",
    "    plt.legend()\n",
    "    plt.show"
   ]
  },
  {
   "cell_type": "code",
   "execution_count": null,
   "metadata": {},
   "outputs": [],
   "source": []
  }
 ],
 "metadata": {
  "kernelspec": {
   "display_name": "c-network",
   "language": "python",
   "name": "python3"
  },
  "language_info": {
   "codemirror_mode": {
    "name": "ipython",
    "version": 3
   },
   "file_extension": ".py",
   "mimetype": "text/x-python",
   "name": "python",
   "nbconvert_exporter": "python",
   "pygments_lexer": "ipython3",
   "version": "3.12.0"
  }
 },
 "nbformat": 4,
 "nbformat_minor": 2
}
