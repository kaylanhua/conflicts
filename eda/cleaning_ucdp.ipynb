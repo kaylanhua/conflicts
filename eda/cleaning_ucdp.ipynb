{
 "cells": [
  {
   "cell_type": "markdown",
   "metadata": {},
   "source": [
    "## cleaning ucdp data\n",
    "\n",
    "- code book is [here](https://ucdp.uu.se/downloads/ged/ged231.pdf)"
   ]
  },
  {
   "cell_type": "code",
   "execution_count": 1,
   "metadata": {},
   "outputs": [],
   "source": [
    "import pandas as pd\n",
    "import numpy as np\n",
    "import matplotlib.pyplot as plt\n",
    "from datetime import datetime\n"
   ]
  },
  {
   "cell_type": "code",
   "execution_count": 2,
   "metadata": {},
   "outputs": [],
   "source": [
    "class UCDPCleaner():\n",
    "    def __init__(self, filename, use_high=False, full_path=None):\n",
    "        self.filename = filename\n",
    "        self.data = self.load_data(use_high, full_path)\n",
    "        self.region_name = filename.split('_')[0]\n",
    "        self.resampled = None\n",
    "        self.data_war_vars = None\n",
    "        \n",
    "    def load_data(self, use_high, full_path):\n",
    "        fn = '../data/ucdp/' + self.filename + '.csv'\n",
    "        if full_path is not None:\n",
    "            fn = full_path\n",
    "        print(\"Loading data from\", fn)\n",
    "        \n",
    "        try: ucdp = pd.read_csv(fn)\n",
    "        except: \n",
    "            print(f'Could not read {fn}')\n",
    "            return\n",
    "        ucdp['date_start'] = pd.to_datetime(ucdp['date_start'])\n",
    "        ucdp_sorted = ucdp.sort_values(by=\"date_start\")\n",
    "        \n",
    "        ## use high estimates if best is zero \n",
    "        if use_high:\n",
    "            ucdp_sorted.loc[ucdp_sorted['best'] == 0, 'best'] = ucdp_sorted.loc[ucdp_sorted['best'] == 0, 'high']\n",
    "        \n",
    "        return ucdp_sorted\n",
    "    \n",
    "    def plot(self, user_data=None, use_resampled=False):\n",
    "        \n",
    "        ucdp = self.data if not use_resampled else self.resampled\n",
    "        if user_data is not None:\n",
    "            ucdp = user_data\n",
    "        # ucdp['date_start'] = pd.to_datetime(ucdp['date_start'])\n",
    "        # ucdp_sorted = ucdp.sort_values(by=\"date_start\")\n",
    "\n",
    "        dates_ucdp = ucdp[\"date_start\"] if not use_resampled else ucdp.index\n",
    "        target_ucdp = ucdp[\"best\"]\n",
    "\n",
    "        print(f'dates range from {min(dates_ucdp).date()} to {max(dates_ucdp).date()}')\n",
    "\n",
    "        plt.figure(figsize=(12, 6))\n",
    "        plt.plot(dates_ucdp, target_ucdp, label='UCDP Estimate')  # Changed plot to scatterplot\n",
    "        plt.xlabel('Date')\n",
    "        plt.ylabel('Fatalities')\n",
    "        \n",
    "        plt.title(f'Fatalities Over Time (UCDP {self.region_name})')\n",
    "        plt.legend()\n",
    "        plt.show\n",
    "    \n",
    "    def cut_off_end(self, date):\n",
    "        date = datetime.strptime(date, '%m-%d-%Y')\n",
    "        data = self.data\n",
    "        data = data[data['date_start'] < date]\n",
    "        return data \n",
    "    \n",
    "    def set_war_var(self, date_ranges):\n",
    "        # do before resampling\n",
    "        data = self.data\n",
    "        \n",
    "        def in_wartime_and_days_since_start(date):\n",
    "            days_since_start = np.nan\n",
    "            for start, end in date_ranges:\n",
    "                if start <= date:\n",
    "                    days_since_start = (date - start).days\n",
    "                if start <= date <= end:\n",
    "                    return 1, days_since_start\n",
    "            return 0, days_since_start\n",
    "\n",
    "        # Apply the function to the 'date_start' column in the data\n",
    "        data['wartime'], data['since_war_start'] = zip(*data['date_start'].apply(in_wartime_and_days_since_start))\n",
    "        # print(data['wartime'].value_counts(normalize=True))\n",
    "        self.data_war_vars = data\n",
    "        return data\n",
    "\n",
    "            \n",
    "    def duration(self):\n",
    "        data = self.data\n",
    "        data['date_start'] = pd.to_datetime(data['date_start'])\n",
    "        data['date_end'] = pd.to_datetime(data['date_end'])\n",
    "        data['duration'] = data['date_end'] - data['date_start'] \n",
    "        \n",
    "        return data\n",
    "    \n",
    "    def set_data(self, new_data):\n",
    "        self.data = new_data\n",
    "    \n",
    "    def resample(self, time_length, war_var=False):\n",
    "        data = self.data\n",
    "        data_resampled = data.set_index('date_start').resample(time_length).agg({\n",
    "            'best': 'sum', # sum of fatalities\n",
    "            'conflict_new_id': lambda x: x.nunique(), # number of unique conflicts\n",
    "            'duration': 'mean', # average duration of conflict\n",
    "            'id': 'count', # number of events\n",
    "            'wartime': lambda x: 1 if x.mean() > 0.5 else 0, # whether the month is in wartime based on majority vote\n",
    "            'since_war_start': 'mean' # amount of time since the start of the war\n",
    "        }).rename(columns={'conflict_new_id': 'unique_conflicts', 'duration': 'avg_duration', 'id': 'events_count'})\n",
    "        \n",
    "        self.resampled = data_resampled\n",
    "        \n",
    "        return data_resampled\n"
   ]
  },
  {
   "cell_type": "code",
   "execution_count": 24,
   "metadata": {},
   "outputs": [
    {
     "name": "stdout",
     "output_type": "stream",
     "text": [
      "2016-01-01 00:00:00\n"
     ]
    }
   ],
   "source": [
    "# cleaner = UCDPCleaner('south_sudan')\n",
    "\n",
    "# duration = cleaner.duration()\n",
    "# print(duration.iloc[3]['date_start'])"
   ]
  },
  {
   "cell_type": "code",
   "execution_count": 25,
   "metadata": {},
   "outputs": [
    {
     "name": "stdout",
     "output_type": "stream",
     "text": [
      "1\n"
     ]
    }
   ],
   "source": [
    "# print(duration.iloc[3]['best'])"
   ]
  },
  {
   "cell_type": "code",
   "execution_count": 31,
   "metadata": {},
   "outputs": [
    {
     "data": {
      "text/plain": [
       "127"
      ]
     },
     "execution_count": 31,
     "metadata": {},
     "output_type": "execute_result"
    }
   ],
   "source": [
    "# len(cleaner.data['priogrid_gid'].unique())\n",
    "# # split by dyad_new_id or conflict_id\n",
    "# # there are 300 data points in the largest conflict area "
   ]
  },
  {
   "cell_type": "code",
   "execution_count": null,
   "metadata": {},
   "outputs": [],
   "source": []
  }
 ],
 "metadata": {
  "kernelspec": {
   "display_name": "c-network",
   "language": "python",
   "name": "python3"
  },
  "language_info": {
   "codemirror_mode": {
    "name": "ipython",
    "version": 3
   },
   "file_extension": ".py",
   "mimetype": "text/x-python",
   "name": "python",
   "nbconvert_exporter": "python",
   "pygments_lexer": "ipython3",
   "version": "3.12.0"
  }
 },
 "nbformat": 4,
 "nbformat_minor": 2
}
