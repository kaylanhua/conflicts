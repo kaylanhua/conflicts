{
 "cells": [
  {
   "cell_type": "markdown",
   "metadata": {},
   "source": [
    "## testing with any UCDP data \n",
    "\n",
    "(inputs are data and window size)"
   ]
  },
  {
   "cell_type": "code",
   "execution_count": 35,
   "metadata": {},
   "outputs": [],
   "source": [
    "import pandas as pd\n",
    "import numpy as np\n",
    "from sklearn.ensemble import RandomForestRegressor\n",
    "from sklearn.metrics import mean_squared_error\n",
    "from sklearn.model_selection import train_test_split\n",
    "import matplotlib.pyplot as plt\n",
    "import matplotlib.ticker as ticker\n",
    "\n",
    "filename = '../../data/ucdp/somalia.csv'\n",
    "WINDOW_SIZE = 6\n",
    "\n"
   ]
  },
  {
   "cell_type": "code",
   "execution_count": 1,
   "metadata": {},
   "outputs": [],
   "source": [
    "def create_window_with_time(data, timestamps, window_size):\n",
    "    X, y, y_timestamps = [], [], []\n",
    "    for i in range(len(data) - window_size):\n",
    "        X.append(data.iloc[i:(i + window_size)].values)\n",
    "        y.append(data.iloc[i + window_size])\n",
    "        y_timestamps.append(timestamps.iloc[i + window_size])\n",
    "    return np.array(X), np.array(y), np.array(y_timestamps)\n"
   ]
  },
  {
   "cell_type": "code",
   "execution_count": 2,
   "metadata": {},
   "outputs": [],
   "source": [
    "\n",
    "class WindowRandomForest:\n",
    "    def __init__(self, filename, window_size):\n",
    "        self.window_size = window_size\n",
    "        self.filename = filename\n",
    "        self.data = None\n",
    "        self.predictions = None\n",
    "        self.X_test = None\n",
    "        self.y_test = None\n",
    "        self.y_timestamps_test = None\n",
    "        \n",
    "    def load_data(self):\n",
    "        self.data = pd.read_csv(self.filename)\n",
    "        self.data.sort_values(by='date_start', inplace=True)\n",
    "        \n",
    "    def compute_MSE(self): \n",
    "        times = pd.to_datetime(self.data['date_start']).dt.tz_localize('Africa/Juba').dt.tz_convert('UTC')\n",
    "\n",
    "        X, y, y_timestamps = create_window_with_time(self.data['best'], times, self.window_size)\n",
    "\n",
    "        X_train, self.X_test, y_train, self.y_test, y_timestamps_train, self.y_timestamps_test = train_test_split(X, y, y_timestamps, test_size=0.2, random_state=42)\n",
    "       \n",
    "        model = RandomForestRegressor(n_estimators=100, random_state=42)\n",
    "        model.fit(X_train, y_train)\n",
    "        self.predictions = model.predict(self.X_test)\n",
    "\n",
    "        mse = mean_squared_error(self.y_test, self.predictions)\n",
    "        return mse\n",
    "    \n",
    "    def visualize_predictions(self):\n",
    "        # Convert y_timestamps_test to a numpy array for indexing purposes\n",
    "        y_timestamps_test_np = np.array(self.y_timestamps_test)\n",
    "        sorted_indices = np.argsort(y_timestamps_test_np)\n",
    "\n",
    "        # Use the sorted indices to sort X_test, y_test, and y_timestamps_test\n",
    "        X_test_sorted = self.X_test[sorted_indices]\n",
    "        y_test_sorted = self.y_test[sorted_indices]\n",
    "        predictions_sorted = self.predictions[sorted_indices]\n",
    "        y_timestamps_test_sorted = y_timestamps_test_np[sorted_indices]\n",
    "\n",
    "        # Example conversion to a date string if y_timestamps_test is a pandas datetime series\n",
    "        y_timestamps_test_str = [timestamp.strftime('%Y-%m-%d') for timestamp in y_timestamps_test_sorted]\n",
    "\n",
    "        plt.figure(figsize=(10, 6))\n",
    "\n",
    "        indices = range(len(self.y_test))\n",
    "        plt.plot(indices, y_test_sorted, label='Actual', marker='o')\n",
    "        plt.plot(indices, predictions_sorted, label='Predicted', marker='x')\n",
    "\n",
    "        plt.title('Actual vs Predicted Values')\n",
    "        plt.xlabel('Timestamp')\n",
    "        plt.ylabel('Value')\n",
    "        plt.legend()\n",
    "\n",
    "        n = len(self.y_test) // 30\n",
    "        plt.xticks(indices[::n], y_timestamps_test_str[::n], rotation=45, ha=\"right\")\n",
    "\n",
    "        plt.tight_layout()\n",
    "        plt.show()\n"
   ]
  },
  {
   "cell_type": "code",
   "execution_count": null,
   "metadata": {},
   "outputs": [],
   "source": []
  }
 ],
 "metadata": {
  "kernelspec": {
   "display_name": "c-network",
   "language": "python",
   "name": "python3"
  },
  "language_info": {
   "codemirror_mode": {
    "name": "ipython",
    "version": 3
   },
   "file_extension": ".py",
   "mimetype": "text/x-python",
   "name": "python",
   "nbconvert_exporter": "python",
   "pygments_lexer": "ipython3",
   "version": "3.12.0"
  }
 },
 "nbformat": 4,
 "nbformat_minor": 2
}
