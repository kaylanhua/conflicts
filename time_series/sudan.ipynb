{
 "cells": [
  {
   "cell_type": "code",
   "execution_count": 11,
   "metadata": {},
   "outputs": [
    {
     "name": "stderr",
     "output_type": "stream",
     "text": [
      "UsageError: Line magic function `%sudo` not found.\n"
     ]
    }
   ],
   "source": [
    "# %pip install folium\n",
    "# %pip install mplleaflet\n",
    "# %pip install selenium\n",
    "# %pip install kaleido\n",
    "# %pip install geopandas there is some issue with downloading geopandas"
   ]
  },
  {
   "cell_type": "code",
   "execution_count": 2,
   "metadata": {},
   "outputs": [
    {
     "data": {
      "text/plain": [
       "(31716, 31)"
      ]
     },
     "execution_count": 2,
     "metadata": {},
     "output_type": "execute_result"
    }
   ],
   "source": [
    "import pandas as pd\n",
    "import numpy as np\n",
    "\n",
    "## Only run once\n",
    "# df = pd.read_csv('../data/acled/africa.csv')\n",
    "# sudan = df[df[\"COUNTRY\"].str.contains(\"Sudan\")]\n",
    "# sudan.to_csv('../data/acled/sudan.csv', index=False)\n",
    "\n",
    "sudan = pd.read_csv('../data/acled/sudan.csv')\n",
    "sudan.shape"
   ]
  },
  {
   "cell_type": "code",
   "execution_count": 3,
   "metadata": {},
   "outputs": [
    {
     "data": {
      "text/plain": [
       "COUNTRY\n",
       "Sudan          22490\n",
       "South Sudan     9226\n",
       "Name: count, dtype: int64"
      ]
     },
     "execution_count": 3,
     "metadata": {},
     "output_type": "execute_result"
    }
   ],
   "source": [
    "country = sudan['COUNTRY'].value_counts()\n",
    "country"
   ]
  },
  {
   "cell_type": "code",
   "execution_count": 4,
   "metadata": {},
   "outputs": [
    {
     "name": "stdout",
     "output_type": "stream",
     "text": [
      "Static map saved as 'static_map.png'.\n"
     ]
    }
   ],
   "source": [
    "import pandas as pd\n",
    "import plotly.express as px\n",
    "\n",
    "# Create a DataFrame with coordinates inside Sudan and South Sudan\n",
    "data = pd.DataFrame({\n",
    "    'Location': ['Location 1', 'Location 2', 'Location 3'],\n",
    "    'Latitude': [12.6392, 15.5000, 9.1754],  # Example latitude values\n",
    "    'Longitude': [29.4835, 30.0000, 7.1807]  # Example longitude values\n",
    "})\n",
    "\n",
    "# Create a scatter plot using Plotly\n",
    "fig = px.scatter_geo(data, lat='Latitude', lon='Longitude', text='Location')\n",
    "\n",
    "# Update the layout to set the map projection to 'equirectangular' (a static map projection)\n",
    "fig.update_geos(projection_type=\"equirectangular\")\n",
    "\n",
    "# Customize the layout (title, axis labels, etc.) as needed\n",
    "fig.update_layout(\n",
    "    title='Locations in Sudan and South Sudan',\n",
    "    geo=dict(\n",
    "        showland=True,\n",
    "    )\n",
    ")\n",
    "\n",
    "# Save the plot as a static image (e.g., PNG)\n",
    "fig.write_image('static_map.png')\n",
    "\n",
    "print(\"Static map saved as 'static_map.png'.\")\n"
   ]
  },
  {
   "cell_type": "code",
   "execution_count": null,
   "metadata": {},
   "outputs": [],
   "source": []
  }
 ],
 "metadata": {
  "kernelspec": {
   "display_name": "c-time-series",
   "language": "python",
   "name": "python3"
  },
  "language_info": {
   "codemirror_mode": {
    "name": "ipython",
    "version": 3
   },
   "file_extension": ".py",
   "mimetype": "text/x-python",
   "name": "python",
   "nbconvert_exporter": "python",
   "pygments_lexer": "ipython3",
   "version": "3.12.0"
  },
  "orig_nbformat": 4
 },
 "nbformat": 4,
 "nbformat_minor": 2
}
