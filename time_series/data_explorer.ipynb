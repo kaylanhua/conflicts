{
 "cells": [
  {
   "cell_type": "code",
   "execution_count": 75,
   "metadata": {},
   "outputs": [],
   "source": [
    "# %pip install pandas\n",
    "# %pip install numpy\n",
    "# %pip install matplotlib\n",
    "# %pip install openpyxl\n",
    "# %pip install plotly\n",
    "# %pip install nbformat\n",
    "# %pip install seaborn"
   ]
  },
  {
   "cell_type": "code",
   "execution_count": 2,
   "metadata": {},
   "outputs": [
    {
     "name": "stderr",
     "output_type": "stream",
     "text": [
      "/var/folders/wb/67n5x4vj6qq_n5t85f5bvtww0000gn/T/ipykernel_27107/18426582.py:10: DtypeWarning: Columns (20) have mixed types. Specify dtype option on import or set low_memory=False.\n",
      "  df = pd.read_csv('../data/acled/africa.csv')\n"
     ]
    },
    {
     "data": {
      "text/html": [
       "<div>\n",
       "<style scoped>\n",
       "    .dataframe tbody tr th:only-of-type {\n",
       "        vertical-align: middle;\n",
       "    }\n",
       "\n",
       "    .dataframe tbody tr th {\n",
       "        vertical-align: top;\n",
       "    }\n",
       "\n",
       "    .dataframe thead th {\n",
       "        text-align: right;\n",
       "    }\n",
       "</style>\n",
       "<table border=\"1\" class=\"dataframe\">\n",
       "  <thead>\n",
       "    <tr style=\"text-align: right;\">\n",
       "      <th></th>\n",
       "      <th>EVENT_ID_CNTY</th>\n",
       "      <th>EVENT_DATE</th>\n",
       "      <th>YEAR</th>\n",
       "      <th>TIME_PRECISION</th>\n",
       "      <th>DISORDER_TYPE</th>\n",
       "      <th>EVENT_TYPE</th>\n",
       "      <th>SUB_EVENT_TYPE</th>\n",
       "      <th>ACTOR1</th>\n",
       "      <th>ASSOC_ACTOR_1</th>\n",
       "      <th>INTER1</th>\n",
       "      <th>...</th>\n",
       "      <th>LOCATION</th>\n",
       "      <th>LATITUDE</th>\n",
       "      <th>LONGITUDE</th>\n",
       "      <th>GEO_PRECISION</th>\n",
       "      <th>SOURCE</th>\n",
       "      <th>SOURCE_SCALE</th>\n",
       "      <th>NOTES</th>\n",
       "      <th>FATALITIES</th>\n",
       "      <th>TAGS</th>\n",
       "      <th>TIMESTAMP</th>\n",
       "    </tr>\n",
       "  </thead>\n",
       "  <tbody>\n",
       "    <tr>\n",
       "      <th>0</th>\n",
       "      <td>ALG12639</td>\n",
       "      <td>2023-09-26</td>\n",
       "      <td>2023</td>\n",
       "      <td>1</td>\n",
       "      <td>Demonstrations</td>\n",
       "      <td>Protests</td>\n",
       "      <td>Peaceful protest</td>\n",
       "      <td>Protesters (Algeria)</td>\n",
       "      <td>Labor Group (Algeria)</td>\n",
       "      <td>6</td>\n",
       "      <td>...</td>\n",
       "      <td>Guelma</td>\n",
       "      <td>36.462</td>\n",
       "      <td>7.426</td>\n",
       "      <td>1</td>\n",
       "      <td>El Khabar (Algeria)</td>\n",
       "      <td>National</td>\n",
       "      <td>On 26 September 2023, municipal workers affili...</td>\n",
       "      <td>0</td>\n",
       "      <td>crowd size=no report</td>\n",
       "      <td>1696258811</td>\n",
       "    </tr>\n",
       "    <tr>\n",
       "      <th>1</th>\n",
       "      <td>ALG12642</td>\n",
       "      <td>2023-09-26</td>\n",
       "      <td>2023</td>\n",
       "      <td>1</td>\n",
       "      <td>Demonstrations</td>\n",
       "      <td>Protests</td>\n",
       "      <td>Peaceful protest</td>\n",
       "      <td>Protesters (Algeria)</td>\n",
       "      <td>Taxi Drivers (Algeria)</td>\n",
       "      <td>6</td>\n",
       "      <td>...</td>\n",
       "      <td>Blida</td>\n",
       "      <td>36.469</td>\n",
       "      <td>2.829</td>\n",
       "      <td>1</td>\n",
       "      <td>El Khabar (Algeria)</td>\n",
       "      <td>National</td>\n",
       "      <td>On 26 September 2023, dozens of taxi drivers h...</td>\n",
       "      <td>0</td>\n",
       "      <td>crowd size=dozens</td>\n",
       "      <td>1696258811</td>\n",
       "    </tr>\n",
       "    <tr>\n",
       "      <th>2</th>\n",
       "      <td>ALG12635</td>\n",
       "      <td>2023-09-25</td>\n",
       "      <td>2023</td>\n",
       "      <td>1</td>\n",
       "      <td>Demonstrations</td>\n",
       "      <td>Protests</td>\n",
       "      <td>Peaceful protest</td>\n",
       "      <td>Protesters (Algeria)</td>\n",
       "      <td>Farmers (Algeria)</td>\n",
       "      <td>6</td>\n",
       "      <td>...</td>\n",
       "      <td>Bouira</td>\n",
       "      <td>36.380</td>\n",
       "      <td>3.901</td>\n",
       "      <td>1</td>\n",
       "      <td>El Watan (Algeria)</td>\n",
       "      <td>National</td>\n",
       "      <td>On 25 September 2023, dozens of potato produce...</td>\n",
       "      <td>0</td>\n",
       "      <td>crowd size=dozens</td>\n",
       "      <td>1696258811</td>\n",
       "    </tr>\n",
       "    <tr>\n",
       "      <th>3</th>\n",
       "      <td>ALG12637</td>\n",
       "      <td>2023-09-25</td>\n",
       "      <td>2023</td>\n",
       "      <td>1</td>\n",
       "      <td>Demonstrations</td>\n",
       "      <td>Protests</td>\n",
       "      <td>Peaceful protest</td>\n",
       "      <td>Protesters (Algeria)</td>\n",
       "      <td>Health Workers (Algeria)</td>\n",
       "      <td>6</td>\n",
       "      <td>...</td>\n",
       "      <td>Deb Deb</td>\n",
       "      <td>29.985</td>\n",
       "      <td>9.434</td>\n",
       "      <td>1</td>\n",
       "      <td>Echorouk</td>\n",
       "      <td>National</td>\n",
       "      <td>On 25 September 2023, health workers held a pr...</td>\n",
       "      <td>0</td>\n",
       "      <td>crowd size=no report</td>\n",
       "      <td>1696258811</td>\n",
       "    </tr>\n",
       "    <tr>\n",
       "      <th>4</th>\n",
       "      <td>ALG12645</td>\n",
       "      <td>2023-09-25</td>\n",
       "      <td>2023</td>\n",
       "      <td>2</td>\n",
       "      <td>Demonstrations</td>\n",
       "      <td>Protests</td>\n",
       "      <td>Peaceful protest</td>\n",
       "      <td>Protesters (Algeria)</td>\n",
       "      <td>NaN</td>\n",
       "      <td>6</td>\n",
       "      <td>...</td>\n",
       "      <td>Oued Djemaa</td>\n",
       "      <td>36.044</td>\n",
       "      <td>2.361</td>\n",
       "      <td>1</td>\n",
       "      <td>El Watan (Algeria)</td>\n",
       "      <td>National</td>\n",
       "      <td>Around 25 September 2023 (as reported), studen...</td>\n",
       "      <td>0</td>\n",
       "      <td>crowd size=no report</td>\n",
       "      <td>1696258811</td>\n",
       "    </tr>\n",
       "  </tbody>\n",
       "</table>\n",
       "<p>5 rows × 31 columns</p>\n",
       "</div>"
      ],
      "text/plain": [
       "  EVENT_ID_CNTY  EVENT_DATE  YEAR  TIME_PRECISION   DISORDER_TYPE EVENT_TYPE  \\\n",
       "0      ALG12639  2023-09-26  2023               1  Demonstrations   Protests   \n",
       "1      ALG12642  2023-09-26  2023               1  Demonstrations   Protests   \n",
       "2      ALG12635  2023-09-25  2023               1  Demonstrations   Protests   \n",
       "3      ALG12637  2023-09-25  2023               1  Demonstrations   Protests   \n",
       "4      ALG12645  2023-09-25  2023               2  Demonstrations   Protests   \n",
       "\n",
       "     SUB_EVENT_TYPE                ACTOR1             ASSOC_ACTOR_1  INTER1  \\\n",
       "0  Peaceful protest  Protesters (Algeria)     Labor Group (Algeria)       6   \n",
       "1  Peaceful protest  Protesters (Algeria)    Taxi Drivers (Algeria)       6   \n",
       "2  Peaceful protest  Protesters (Algeria)         Farmers (Algeria)       6   \n",
       "3  Peaceful protest  Protesters (Algeria)  Health Workers (Algeria)       6   \n",
       "4  Peaceful protest  Protesters (Algeria)                       NaN       6   \n",
       "\n",
       "   ...     LOCATION LATITUDE  LONGITUDE  GEO_PRECISION               SOURCE  \\\n",
       "0  ...       Guelma   36.462      7.426              1  El Khabar (Algeria)   \n",
       "1  ...        Blida   36.469      2.829              1  El Khabar (Algeria)   \n",
       "2  ...       Bouira   36.380      3.901              1   El Watan (Algeria)   \n",
       "3  ...      Deb Deb   29.985      9.434              1             Echorouk   \n",
       "4  ...  Oued Djemaa   36.044      2.361              1   El Watan (Algeria)   \n",
       "\n",
       "   SOURCE_SCALE                                              NOTES FATALITIES  \\\n",
       "0      National  On 26 September 2023, municipal workers affili...          0   \n",
       "1      National  On 26 September 2023, dozens of taxi drivers h...          0   \n",
       "2      National  On 25 September 2023, dozens of potato produce...          0   \n",
       "3      National  On 25 September 2023, health workers held a pr...          0   \n",
       "4      National  Around 25 September 2023 (as reported), studen...          0   \n",
       "\n",
       "                   TAGS   TIMESTAMP  \n",
       "0  crowd size=no report  1696258811  \n",
       "1     crowd size=dozens  1696258811  \n",
       "2     crowd size=dozens  1696258811  \n",
       "3  crowd size=no report  1696258811  \n",
       "4  crowd size=no report  1696258811  \n",
       "\n",
       "[5 rows x 31 columns]"
      ]
     },
     "execution_count": 2,
     "metadata": {},
     "output_type": "execute_result"
    }
   ],
   "source": [
    "import pandas as pd\n",
    "import numpy as np\n",
    "\n",
    "## Run this once\n",
    "# excel_file_path = '../data/acled/Africa_1997-2023_Sep29.xlsx'\n",
    "# df = pd.read_excel(excel_file_path, engine='openpyxl')\n",
    "# df.to_csv('../data/acled/africa.csv', index=False)\n",
    "\n",
    "## Then run this\n",
    "df = pd.read_csv('../data/acled/africa.csv')\n",
    "df.head()"
   ]
  },
  {
   "cell_type": "code",
   "execution_count": 3,
   "metadata": {},
   "outputs": [
    {
     "data": {
      "text/plain": [
       "Index(['EVENT_ID_CNTY', 'EVENT_DATE', 'YEAR', 'TIME_PRECISION',\n",
       "       'DISORDER_TYPE', 'EVENT_TYPE', 'SUB_EVENT_TYPE', 'ACTOR1',\n",
       "       'ASSOC_ACTOR_1', 'INTER1', 'ACTOR2', 'ASSOC_ACTOR_2', 'INTER2',\n",
       "       'INTERACTION', 'CIVILIAN_TARGETING', 'ISO', 'REGION', 'COUNTRY',\n",
       "       'ADMIN1', 'ADMIN2', 'ADMIN3', 'LOCATION', 'LATITUDE', 'LONGITUDE',\n",
       "       'GEO_PRECISION', 'SOURCE', 'SOURCE_SCALE', 'NOTES', 'FATALITIES',\n",
       "       'TAGS', 'TIMESTAMP'],\n",
       "      dtype='object')"
      ]
     },
     "execution_count": 3,
     "metadata": {},
     "output_type": "execute_result"
    }
   ],
   "source": [
    "# 336525 rows, 31 columns\n",
    "df.shape\n",
    "\n",
    "# want: EVENT_DATE, FATALITIES, \n",
    "df.columns"
   ]
  },
  {
   "cell_type": "code",
   "execution_count": 85,
   "metadata": {},
   "outputs": [
    {
     "name": "stdout",
     "output_type": "stream",
     "text": [
      "Events: EVENT_TYPE\n",
      "Battles                       86360\n",
      "Violence against civilians    82688\n",
      "Protests                      78662\n",
      "Riots                         37022\n",
      "Strategic developments        27061\n",
      "Explosions/Remote violence    24732\n",
      "Name: count, dtype: int64\n",
      "\n",
      "Locations: LOCATION\n",
      "Khartoum             1945\n",
      "Mogadishu            1713\n",
      "Mogadishu - Hodan    1515\n",
      "Cape Town            1430\n",
      "Harare               1405\n",
      "                     ... \n",
      "Obasari                 1\n",
      "Eburu                   1\n",
      "Ryando                  1\n",
      "Namawanga               1\n",
      "Maheba                  1\n",
      "Name: count, Length: 35554, dtype: int64\n"
     ]
    }
   ],
   "source": [
    "events = df['EVENT_TYPE'].value_counts()\n",
    "subevents = df['SUB_EVENT_TYPE'].value_counts()\n",
    "locations = df['LOCATION'].value_counts()\n",
    "\n",
    "print(f\"Events: {events}\\n\")\n",
    "# print(f\"Subevents: {subevents}\")\n",
    "print(f\"Locations: {locations}\")"
   ]
  },
  {
   "cell_type": "code",
   "execution_count": 89,
   "metadata": {},
   "outputs": [
    {
     "name": "stdout",
     "output_type": "stream",
     "text": [
      "(8974, 7)\n",
      "LOCATION\n",
      "Beni            67\n",
      "El Fasher       56\n",
      "Pibor           50\n",
      "Bunia           48\n",
      "Bujumbura       43\n",
      "                ..\n",
      "Beroroha         1\n",
      "Ilambohazo       1\n",
      "Fianarantsoa     1\n",
      "Toamasina        1\n",
      "Chazanga         1\n",
      "Name: count, Length: 4488, dtype: int64\n",
      "(67, 7)\n"
     ]
    }
   ],
   "source": [
    "cdf = df[df['EVENT_TYPE'] == 'Violence against civilians']\n",
    "cdf_filtered = cdf.loc[:, ['EVENT_DATE', 'LOCATION', 'LATITUDE', 'LONGITUDE', 'NOTES', 'FATALITIES', 'TIMESTAMP']]\n",
    "# cdf.head()\n",
    "# cdf_filtered\n",
    "\n",
    "cdf_fatalities = cdf_filtered[cdf_filtered['FATALITIES'] > 4]\n",
    "cdf_fatalities_show = cdf_filtered[cdf_filtered['FATALITIES'] > 100]\n",
    "\n",
    "print(cdf_fatalities.shape)\n",
    "# cdf_fatalities[\"FATALITIES\"].value_counts()\n",
    "\n",
    "countries = cdf_fatalities[\"LOCATION\"].value_counts()\n",
    "print(countries)\n",
    "\n",
    "beni = cdf_fatalities[cdf_fatalities['LOCATION'] == 'Beni']\n",
    "print(beni.shape)"
   ]
  },
  {
   "cell_type": "code",
   "execution_count": 73,
   "metadata": {},
   "outputs": [
    {
     "data": {
      "application/vnd.plotly.v1+json": {
       "config": {
        "plotlyServerURL": "https://plot.ly"
       },
       "data": [
        {
         "lat": [
          35.604,
          35.742,
          35.717,
          36.388,
          35.742,
          36.752,
          36.542,
          -9.283,
          -12.233,
          -12.017,
          -12.017,
          -11.85,
          -11.233,
          -8.6,
          -12.017,
          -12.55,
          -12.333,
          -9.545,
          -9.545,
          -14.467,
          -12.017,
          -12.383,
          -12.383,
          -12.383,
          -12.383,
          -12.383,
          -12.383,
          -12.383,
          -12.383,
          -12.383,
          -5.576,
          -8.9,
          -9.133,
          -8.4,
          -8.75,
          -8.417,
          -12.383,
          -13.567,
          -12.383,
          -14.133,
          -7.4,
          -12.383,
          -12.4,
          -3.08,
          -3.333,
          -3.08,
          -3.377,
          -3.426,
          -3.377,
          -3.219,
          -3.928,
          -3.377,
          -3.377,
          -2.65,
          -2.845,
          -3.27,
          4.674,
          12.183,
          11.033,
          13.983,
          1.669,
          -2.033,
          -7.017,
          -5.35,
          -7.2,
          -4.359,
          -10.717,
          -11.66,
          -2.944,
          3.735,
          3.735,
          3.735,
          2.783,
          4.233,
          4.142,
          4.722,
          -4.325,
          1.758,
          1.758,
          -6.75,
          1.567,
          0.515,
          1.966,
          -4.301,
          1.567,
          -2.7,
          -2.7,
          -2.5,
          -2.5,
          -5.85,
          -3.395,
          -1.693,
          -2.93,
          -4.325,
          -9.017,
          -5.919,
          -10.617,
          -4.985,
          0.047,
          -5.767,
          9.95,
          8.679,
          9.06,
          9.95,
          9.741,
          13.323,
          10.603,
          13.909,
          14.07,
          7.2,
          8.367,
          7.062,
          14.277,
          15.333,
          15.317,
          14.919,
          14.833,
          15.906,
          14.657,
          14.635,
          5.556,
          9.45,
          7.007,
          -0.454,
          31.209,
          14.329,
          14.329,
          14.329,
          13.958,
          16.026,
          13.72,
          9.614,
          11.761,
          13.098,
          13.095,
          12.923,
          13.095,
          13.095,
          13.095,
          12.373,
          9.668,
          11.831,
          10.983,
          11.807,
          9.483,
          9.783,
          9.783,
          9.717,
          9.8,
          9.783,
          9.717,
          12.245,
          8.833,
          8.833,
          7.886,
          8.883,
          -1.673,
          -1.729,
          -1.6,
          -1.701,
          -1.695,
          -1.701,
          -1.629,
          10.105,
          9.226,
          7.3,
          9.252,
          6.209,
          4.855,
          4.855,
          4.868,
          4.855,
          4.88,
          9.252,
          6.798,
          6.798,
          6.798,
          6.798,
          6.798,
          6.798,
          8.042,
          13.441,
          12.056,
          11.014,
          7.751,
          7.779,
          7.779,
          3.885,
          13.626,
          13.7,
          13.626,
          12.056,
          11.522,
          15.233,
          15.233,
          15.233,
          7.779,
          7.779,
          7.779,
          13.441,
          13.401,
          8.786,
          13.441,
          12.908,
          13.2,
          13.441,
          14.206,
          14.206,
          14.206,
          14.206,
          13.183,
          7.74,
          7.74,
          4.851,
          4.174,
          9.085,
          8.99,
          10.779,
          10.559,
          2.433,
          2.243,
          31.019,
          30.467,
          13.72,
          13.376
         ],
         "lon": [
          0.589,
          0.559,
          1.217,
          1.28,
          0.559,
          3.042,
          3.081,
          14.217,
          16.783,
          17.7,
          17.483,
          15.1,
          19.767,
          18,
          16.583,
          16.333,
          16.717,
          16.345,
          16.345,
          16.3,
          17.483,
          16.933,
          16.933,
          16.933,
          16.933,
          16.933,
          16.933,
          16.933,
          16.933,
          16.933,
          12.187,
          17.067,
          18.05,
          17.717,
          17.667,
          20.75,
          16.933,
          13.95,
          16.933,
          14.917,
          21.767,
          16.933,
          22.567,
          29.391,
          29.25,
          29.391,
          29.358,
          29.931,
          29.358,
          30.553,
          29.992,
          29.358,
          29.358,
          30.413,
          30.341,
          29.608,
          21.143,
          21.35,
          20.283,
          20.333,
          30.52,
          16.428,
          21.233,
          21.417,
          22.417,
          15.331,
          25.472,
          27.474,
          25.922,
          29.709,
          29.709,
          29.709,
          28.767,
          28.75,
          27.9,
          27.676,
          15.322,
          30.556,
          30.556,
          26.95,
          30.25,
          25.19,
          30.506,
          28.944,
          30.25,
          28.633,
          28.633,
          28.867,
          28.867,
          14.083,
          29.138,
          29.234,
          28.53,
          15.322,
          26.75,
          28.446,
          22.633,
          29.118,
          18.271,
          13.667,
          36.867,
          35.017,
          36.086,
          36.867,
          40.46,
          39.174,
          36.083,
          39.513,
          36.561,
          38.6,
          33.767,
          38.476,
          39.462,
          38.933,
          39.501,
          37.836,
          39.367,
          36.999,
          39.264,
          38.834,
          -0.197,
          -5.633,
          -7.475,
          39.646,
          16.589,
          -4.599,
          -4.599,
          -4.599,
          -3.571,
          4.357,
          11.3,
          6.557,
          13.268,
          12.495,
          13.823,
          13.561,
          13.823,
          13.823,
          13.823,
          14.207,
          8.458,
          13.152,
          13.343,
          12.491,
          7.683,
          8.283,
          8.283,
          8.85,
          8.95,
          8.817,
          8.85,
          8.901,
          9.633,
          9.633,
          9.459,
          11.367,
          29.813,
          29.86,
          29.383,
          29.263,
          29.35,
          29.263,
          29.636,
          32.084,
          29.167,
          28.442,
          29.795,
          31.559,
          31.58,
          31.58,
          31.547,
          31.58,
          31.562,
          29.795,
          33.131,
          33.131,
          33.131,
          33.131,
          33.131,
          33.131,
          32.029,
          22.445,
          24.891,
          29.729,
          31.409,
          33.002,
          33.002,
          31.667,
          25.356,
          22.15,
          25.356,
          24.891,
          25.067,
          32.583,
          32.583,
          32.583,
          33.002,
          33.002,
          33.002,
          22.445,
          22.765,
          27.401,
          22.445,
          23.471,
          23.183,
          22.445,
          24.65,
          24.65,
          24.65,
          24.65,
          22.45,
          30.26,
          30.26,
          31.582,
          32.753,
          28.435,
          28.303,
          34.795,
          34.284,
          32.933,
          32.891,
          33.01,
          33.784,
          -2.336,
          0.457
         ],
         "marker": {
          "color": "purple",
          "opacity": 0.3,
          "size": [
           5.15,
           16.05,
           6.45,
           6.45,
           6.4,
           15,
           6,
           10,
           12.5,
           20,
           20,
           20,
           5.2,
           15,
           6.25,
           5.75,
           5.05,
           22.5,
           22.5,
           15,
           16.5,
           50,
           50,
           50,
           50,
           50,
           50,
           50,
           50,
           50,
           10,
           7.25,
           10.75,
           9,
           11.8,
           8.75,
           50,
           5.05,
           50,
           15,
           7.5,
           50,
           10,
           15,
           9.45,
           10,
           7.5,
           9.15,
           11.35,
           20,
           7.5,
           15,
           7.5,
           6.1,
           6.3,
           20.2,
           10,
           11,
           9.45,
           5.9,
           7,
           17.4,
           15.5,
           5.8,
           10,
           21,
           5.4,
           5.5,
           5.4,
           7.5,
           7.5,
           8.15,
           8.15,
           8.15,
           8.15,
           8.15,
           12.5,
           7.5,
           7.5,
           5.2,
           5.5,
           7.5,
           22.3,
           21,
           18.5,
           6.25,
           6.25,
           6.25,
           6.25,
           15,
           25,
           13.2,
           10.35,
           20,
           6.25,
           6.25,
           6.25,
           6.25,
           10,
           10,
           5.2,
           7.5,
           16.9,
           7.5,
           15,
           9,
           10.35,
           8.2,
           30,
           8.6,
           10.4,
           6.25,
           46.15,
           8.3,
           8.05,
           46.15,
           46.15,
           46.15,
           46.15,
           46.15,
           6.3,
           7.5,
           10,
           7.4,
           13.35,
           6.45,
           6.45,
           6.5,
           7.85,
           6.3,
           7.5,
           11.25,
           5.05,
           20,
           20,
           20,
           20,
           20,
           20,
           15,
           5.7,
           30,
           5.3,
           7.1,
           16.3,
           14.3,
           11.3,
           8.5,
           8.2,
           5.6,
           8.7,
           50,
           17.5,
           17.5,
           7.5,
           10,
           5.5,
           5.1,
           11.55,
           5.35,
           10,
           6.85,
           6.85,
           9,
           13.5,
           9.6,
           11.5,
           7.05,
           16.65,
           16.65,
           15,
           16.65,
           11.25,
           12.5,
           29.9,
           29.85,
           29.85,
           29.85,
           29.85,
           7.5,
           37.5,
           17.5,
           10,
           25,
           5.1,
           7.5,
           12.5,
           6.8,
           8.5,
           10,
           10,
           5.25,
           7.5,
           6.1,
           6.1,
           6.1,
           6.8,
           6.8,
           6.8,
           8.4,
           8.4,
           6.35,
           7.5,
           10,
           6.8,
           10.5,
           15,
           15,
           15,
           15,
           15,
           10,
           10,
           12,
           15,
           10,
           7.1,
           7.5,
           7.5,
           9.6,
           10,
           15.55,
           11.2,
           6.8,
           8
          ]
         },
         "mode": "markers",
         "type": "scattergeo"
        }
       ],
       "layout": {
        "geo": {
         "coastlinecolor": "Black",
         "landcolor": "rgb(229, 229, 229)",
         "lataxis": {
          "range": [
           -40,
           40
          ]
         },
         "lonaxis": {
          "range": [
           -30,
           60
          ]
         },
         "oceancolor": "rgb(240, 240, 255)",
         "projection": {
          "scale": 1.09
         },
         "scope": "africa",
         "showcoastlines": true,
         "showland": true,
         "showocean": true
        },
        "height": 600,
        "template": {
         "data": {
          "bar": [
           {
            "error_x": {
             "color": "#2a3f5f"
            },
            "error_y": {
             "color": "#2a3f5f"
            },
            "marker": {
             "line": {
              "color": "#E5ECF6",
              "width": 0.5
             },
             "pattern": {
              "fillmode": "overlay",
              "size": 10,
              "solidity": 0.2
             }
            },
            "type": "bar"
           }
          ],
          "barpolar": [
           {
            "marker": {
             "line": {
              "color": "#E5ECF6",
              "width": 0.5
             },
             "pattern": {
              "fillmode": "overlay",
              "size": 10,
              "solidity": 0.2
             }
            },
            "type": "barpolar"
           }
          ],
          "carpet": [
           {
            "aaxis": {
             "endlinecolor": "#2a3f5f",
             "gridcolor": "white",
             "linecolor": "white",
             "minorgridcolor": "white",
             "startlinecolor": "#2a3f5f"
            },
            "baxis": {
             "endlinecolor": "#2a3f5f",
             "gridcolor": "white",
             "linecolor": "white",
             "minorgridcolor": "white",
             "startlinecolor": "#2a3f5f"
            },
            "type": "carpet"
           }
          ],
          "choropleth": [
           {
            "colorbar": {
             "outlinewidth": 0,
             "ticks": ""
            },
            "type": "choropleth"
           }
          ],
          "contour": [
           {
            "colorbar": {
             "outlinewidth": 0,
             "ticks": ""
            },
            "colorscale": [
             [
              0,
              "#0d0887"
             ],
             [
              0.1111111111111111,
              "#46039f"
             ],
             [
              0.2222222222222222,
              "#7201a8"
             ],
             [
              0.3333333333333333,
              "#9c179e"
             ],
             [
              0.4444444444444444,
              "#bd3786"
             ],
             [
              0.5555555555555556,
              "#d8576b"
             ],
             [
              0.6666666666666666,
              "#ed7953"
             ],
             [
              0.7777777777777778,
              "#fb9f3a"
             ],
             [
              0.8888888888888888,
              "#fdca26"
             ],
             [
              1,
              "#f0f921"
             ]
            ],
            "type": "contour"
           }
          ],
          "contourcarpet": [
           {
            "colorbar": {
             "outlinewidth": 0,
             "ticks": ""
            },
            "type": "contourcarpet"
           }
          ],
          "heatmap": [
           {
            "colorbar": {
             "outlinewidth": 0,
             "ticks": ""
            },
            "colorscale": [
             [
              0,
              "#0d0887"
             ],
             [
              0.1111111111111111,
              "#46039f"
             ],
             [
              0.2222222222222222,
              "#7201a8"
             ],
             [
              0.3333333333333333,
              "#9c179e"
             ],
             [
              0.4444444444444444,
              "#bd3786"
             ],
             [
              0.5555555555555556,
              "#d8576b"
             ],
             [
              0.6666666666666666,
              "#ed7953"
             ],
             [
              0.7777777777777778,
              "#fb9f3a"
             ],
             [
              0.8888888888888888,
              "#fdca26"
             ],
             [
              1,
              "#f0f921"
             ]
            ],
            "type": "heatmap"
           }
          ],
          "heatmapgl": [
           {
            "colorbar": {
             "outlinewidth": 0,
             "ticks": ""
            },
            "colorscale": [
             [
              0,
              "#0d0887"
             ],
             [
              0.1111111111111111,
              "#46039f"
             ],
             [
              0.2222222222222222,
              "#7201a8"
             ],
             [
              0.3333333333333333,
              "#9c179e"
             ],
             [
              0.4444444444444444,
              "#bd3786"
             ],
             [
              0.5555555555555556,
              "#d8576b"
             ],
             [
              0.6666666666666666,
              "#ed7953"
             ],
             [
              0.7777777777777778,
              "#fb9f3a"
             ],
             [
              0.8888888888888888,
              "#fdca26"
             ],
             [
              1,
              "#f0f921"
             ]
            ],
            "type": "heatmapgl"
           }
          ],
          "histogram": [
           {
            "marker": {
             "pattern": {
              "fillmode": "overlay",
              "size": 10,
              "solidity": 0.2
             }
            },
            "type": "histogram"
           }
          ],
          "histogram2d": [
           {
            "colorbar": {
             "outlinewidth": 0,
             "ticks": ""
            },
            "colorscale": [
             [
              0,
              "#0d0887"
             ],
             [
              0.1111111111111111,
              "#46039f"
             ],
             [
              0.2222222222222222,
              "#7201a8"
             ],
             [
              0.3333333333333333,
              "#9c179e"
             ],
             [
              0.4444444444444444,
              "#bd3786"
             ],
             [
              0.5555555555555556,
              "#d8576b"
             ],
             [
              0.6666666666666666,
              "#ed7953"
             ],
             [
              0.7777777777777778,
              "#fb9f3a"
             ],
             [
              0.8888888888888888,
              "#fdca26"
             ],
             [
              1,
              "#f0f921"
             ]
            ],
            "type": "histogram2d"
           }
          ],
          "histogram2dcontour": [
           {
            "colorbar": {
             "outlinewidth": 0,
             "ticks": ""
            },
            "colorscale": [
             [
              0,
              "#0d0887"
             ],
             [
              0.1111111111111111,
              "#46039f"
             ],
             [
              0.2222222222222222,
              "#7201a8"
             ],
             [
              0.3333333333333333,
              "#9c179e"
             ],
             [
              0.4444444444444444,
              "#bd3786"
             ],
             [
              0.5555555555555556,
              "#d8576b"
             ],
             [
              0.6666666666666666,
              "#ed7953"
             ],
             [
              0.7777777777777778,
              "#fb9f3a"
             ],
             [
              0.8888888888888888,
              "#fdca26"
             ],
             [
              1,
              "#f0f921"
             ]
            ],
            "type": "histogram2dcontour"
           }
          ],
          "mesh3d": [
           {
            "colorbar": {
             "outlinewidth": 0,
             "ticks": ""
            },
            "type": "mesh3d"
           }
          ],
          "parcoords": [
           {
            "line": {
             "colorbar": {
              "outlinewidth": 0,
              "ticks": ""
             }
            },
            "type": "parcoords"
           }
          ],
          "pie": [
           {
            "automargin": true,
            "type": "pie"
           }
          ],
          "scatter": [
           {
            "fillpattern": {
             "fillmode": "overlay",
             "size": 10,
             "solidity": 0.2
            },
            "type": "scatter"
           }
          ],
          "scatter3d": [
           {
            "line": {
             "colorbar": {
              "outlinewidth": 0,
              "ticks": ""
             }
            },
            "marker": {
             "colorbar": {
              "outlinewidth": 0,
              "ticks": ""
             }
            },
            "type": "scatter3d"
           }
          ],
          "scattercarpet": [
           {
            "marker": {
             "colorbar": {
              "outlinewidth": 0,
              "ticks": ""
             }
            },
            "type": "scattercarpet"
           }
          ],
          "scattergeo": [
           {
            "marker": {
             "colorbar": {
              "outlinewidth": 0,
              "ticks": ""
             }
            },
            "type": "scattergeo"
           }
          ],
          "scattergl": [
           {
            "marker": {
             "colorbar": {
              "outlinewidth": 0,
              "ticks": ""
             }
            },
            "type": "scattergl"
           }
          ],
          "scattermapbox": [
           {
            "marker": {
             "colorbar": {
              "outlinewidth": 0,
              "ticks": ""
             }
            },
            "type": "scattermapbox"
           }
          ],
          "scatterpolar": [
           {
            "marker": {
             "colorbar": {
              "outlinewidth": 0,
              "ticks": ""
             }
            },
            "type": "scatterpolar"
           }
          ],
          "scatterpolargl": [
           {
            "marker": {
             "colorbar": {
              "outlinewidth": 0,
              "ticks": ""
             }
            },
            "type": "scatterpolargl"
           }
          ],
          "scatterternary": [
           {
            "marker": {
             "colorbar": {
              "outlinewidth": 0,
              "ticks": ""
             }
            },
            "type": "scatterternary"
           }
          ],
          "surface": [
           {
            "colorbar": {
             "outlinewidth": 0,
             "ticks": ""
            },
            "colorscale": [
             [
              0,
              "#0d0887"
             ],
             [
              0.1111111111111111,
              "#46039f"
             ],
             [
              0.2222222222222222,
              "#7201a8"
             ],
             [
              0.3333333333333333,
              "#9c179e"
             ],
             [
              0.4444444444444444,
              "#bd3786"
             ],
             [
              0.5555555555555556,
              "#d8576b"
             ],
             [
              0.6666666666666666,
              "#ed7953"
             ],
             [
              0.7777777777777778,
              "#fb9f3a"
             ],
             [
              0.8888888888888888,
              "#fdca26"
             ],
             [
              1,
              "#f0f921"
             ]
            ],
            "type": "surface"
           }
          ],
          "table": [
           {
            "cells": {
             "fill": {
              "color": "#EBF0F8"
             },
             "line": {
              "color": "white"
             }
            },
            "header": {
             "fill": {
              "color": "#C8D4E3"
             },
             "line": {
              "color": "white"
             }
            },
            "type": "table"
           }
          ]
         },
         "layout": {
          "annotationdefaults": {
           "arrowcolor": "#2a3f5f",
           "arrowhead": 0,
           "arrowwidth": 1
          },
          "autotypenumbers": "strict",
          "coloraxis": {
           "colorbar": {
            "outlinewidth": 0,
            "ticks": ""
           }
          },
          "colorscale": {
           "diverging": [
            [
             0,
             "#8e0152"
            ],
            [
             0.1,
             "#c51b7d"
            ],
            [
             0.2,
             "#de77ae"
            ],
            [
             0.3,
             "#f1b6da"
            ],
            [
             0.4,
             "#fde0ef"
            ],
            [
             0.5,
             "#f7f7f7"
            ],
            [
             0.6,
             "#e6f5d0"
            ],
            [
             0.7,
             "#b8e186"
            ],
            [
             0.8,
             "#7fbc41"
            ],
            [
             0.9,
             "#4d9221"
            ],
            [
             1,
             "#276419"
            ]
           ],
           "sequential": [
            [
             0,
             "#0d0887"
            ],
            [
             0.1111111111111111,
             "#46039f"
            ],
            [
             0.2222222222222222,
             "#7201a8"
            ],
            [
             0.3333333333333333,
             "#9c179e"
            ],
            [
             0.4444444444444444,
             "#bd3786"
            ],
            [
             0.5555555555555556,
             "#d8576b"
            ],
            [
             0.6666666666666666,
             "#ed7953"
            ],
            [
             0.7777777777777778,
             "#fb9f3a"
            ],
            [
             0.8888888888888888,
             "#fdca26"
            ],
            [
             1,
             "#f0f921"
            ]
           ],
           "sequentialminus": [
            [
             0,
             "#0d0887"
            ],
            [
             0.1111111111111111,
             "#46039f"
            ],
            [
             0.2222222222222222,
             "#7201a8"
            ],
            [
             0.3333333333333333,
             "#9c179e"
            ],
            [
             0.4444444444444444,
             "#bd3786"
            ],
            [
             0.5555555555555556,
             "#d8576b"
            ],
            [
             0.6666666666666666,
             "#ed7953"
            ],
            [
             0.7777777777777778,
             "#fb9f3a"
            ],
            [
             0.8888888888888888,
             "#fdca26"
            ],
            [
             1,
             "#f0f921"
            ]
           ]
          },
          "colorway": [
           "#636efa",
           "#EF553B",
           "#00cc96",
           "#ab63fa",
           "#FFA15A",
           "#19d3f3",
           "#FF6692",
           "#B6E880",
           "#FF97FF",
           "#FECB52"
          ],
          "font": {
           "color": "#2a3f5f"
          },
          "geo": {
           "bgcolor": "white",
           "lakecolor": "white",
           "landcolor": "#E5ECF6",
           "showlakes": true,
           "showland": true,
           "subunitcolor": "white"
          },
          "hoverlabel": {
           "align": "left"
          },
          "hovermode": "closest",
          "mapbox": {
           "style": "light"
          },
          "paper_bgcolor": "white",
          "plot_bgcolor": "#E5ECF6",
          "polar": {
           "angularaxis": {
            "gridcolor": "white",
            "linecolor": "white",
            "ticks": ""
           },
           "bgcolor": "#E5ECF6",
           "radialaxis": {
            "gridcolor": "white",
            "linecolor": "white",
            "ticks": ""
           }
          },
          "scene": {
           "xaxis": {
            "backgroundcolor": "#E5ECF6",
            "gridcolor": "white",
            "gridwidth": 2,
            "linecolor": "white",
            "showbackground": true,
            "ticks": "",
            "zerolinecolor": "white"
           },
           "yaxis": {
            "backgroundcolor": "#E5ECF6",
            "gridcolor": "white",
            "gridwidth": 2,
            "linecolor": "white",
            "showbackground": true,
            "ticks": "",
            "zerolinecolor": "white"
           },
           "zaxis": {
            "backgroundcolor": "#E5ECF6",
            "gridcolor": "white",
            "gridwidth": 2,
            "linecolor": "white",
            "showbackground": true,
            "ticks": "",
            "zerolinecolor": "white"
           }
          },
          "shapedefaults": {
           "line": {
            "color": "#2a3f5f"
           }
          },
          "ternary": {
           "aaxis": {
            "gridcolor": "white",
            "linecolor": "white",
            "ticks": ""
           },
           "baxis": {
            "gridcolor": "white",
            "linecolor": "white",
            "ticks": ""
           },
           "bgcolor": "#E5ECF6",
           "caxis": {
            "gridcolor": "white",
            "linecolor": "white",
            "ticks": ""
           }
          },
          "title": {
           "x": 0.05
          },
          "xaxis": {
           "automargin": true,
           "gridcolor": "white",
           "linecolor": "white",
           "ticks": "",
           "title": {
            "standoff": 15
           },
           "zerolinecolor": "white",
           "zerolinewidth": 2
          },
          "yaxis": {
           "automargin": true,
           "gridcolor": "white",
           "linecolor": "white",
           "ticks": "",
           "title": {
            "standoff": 15
           },
           "zerolinecolor": "white",
           "zerolinewidth": 2
          }
         }
        },
        "title": {
         "text": "Africa Map"
        },
        "width": 800
       }
      }
     },
     "metadata": {},
     "output_type": "display_data"
    }
   ],
   "source": [
    "import plotly.graph_objs as go\n",
    "\n",
    "fig = go.Figure()\n",
    "\n",
    "fig.add_trace(\n",
    "    go.Scattergeo(\n",
    "        lon=cdf_fatalities_show[\"LONGITUDE\"],\n",
    "        lat=cdf_fatalities_show[\"LATITUDE\"],\n",
    "        mode=\"markers\",\n",
    "        marker=dict(\n",
    "            size=cdf_fatalities_show[\"FATALITIES\"] / 20,  # Specify the size for each data point\n",
    "            opacity=0.3, \n",
    "            color='purple',  \n",
    "        ),\n",
    "    )\n",
    ")\n",
    "\n",
    "fig.update_layout(\n",
    "    geo=dict(\n",
    "        scope=\"africa\",\n",
    "        showcoastlines=True,\n",
    "        coastlinecolor=\"Black\",\n",
    "        showland=True,\n",
    "        landcolor=\"rgb(229, 229, 229)\",\n",
    "        showocean=True,\n",
    "        oceancolor=\"rgb(240, 240, 255)\",\n",
    "    ),\n",
    "    width=800,  # Adjust the width as needed\n",
    "    height=600,  # Adjust the height as needed\n",
    "    title=\"Africa Map\",\n",
    ")\n",
    "\n",
    "fig.update_geos(projection_scale=1.09, lonaxis_range=[-30, 60], lataxis_range=[-40, 40])\n",
    "\n",
    "fig.show()"
   ]
  },
  {
   "cell_type": "code",
   "execution_count": 93,
   "metadata": {},
   "outputs": [
    {
     "data": {
      "image/png": "[encoded data removed]",
      "text/plain": [
       "<Figure size 640x480 with 1 Axes>"
      ]
     },
     "metadata": {},
     "output_type": "display_data"
    }
   ],
   "source": [
    "import matplotlib.pyplot as plt\n",
    "import seaborn as sns\n",
    "from matplotlib.dates import MonthLocator, DateFormatter\n",
    "\n",
    "sns.set(style=\"dark\")\n",
    "sns.scatterplot(data=beni, x=\"EVENT_DATE\", y=\"FATALITIES\", marker='x')\n",
    "\n",
    "ax = plt.gca()\n",
    "ax.xaxis.set_major_locator(MonthLocator(interval=1))  # Show ticks for each month\n",
    "ax.xaxis.set_major_formatter(DateFormatter(\"%b %Y\"))  # Format tick labels as \"Month Year\"\n",
    "\n",
    "\n",
    "plt.title(\"Fatalities Over Time in Beni (Violence Against Civilians)\")\n",
    "plt.xlabel(\"Event Date\")\n",
    "plt.ylabel(\"Fatalities\")\n",
    "plt.xticks(rotation=45)\n",
    "\n",
    "plt.show()"
   ]
  },
  {
   "cell_type": "code",
   "execution_count": null,
   "metadata": {},
   "outputs": [],
   "source": []
  }
 ],
 "metadata": {
  "kernelspec": {
   "display_name": "c-time-series",
   "language": "python",
   "name": "python3"
  },
  "language_info": {
   "codemirror_mode": {
    "name": "ipython",
    "version": 3
   },
   "file_extension": ".py",
   "mimetype": "text/x-python",
   "name": "python",
   "nbconvert_exporter": "python",
   "pygments_lexer": "ipython3",
   "version": "3.12.0"
  },
  "orig_nbformat": 4
 },
 "nbformat": 4,
 "nbformat_minor": 2
}
