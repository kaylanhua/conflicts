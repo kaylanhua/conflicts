{
 "cells": [
  {
   "attachments": {},
   "cell_type": "markdown",
   "metadata": {},
   "source": [
    "## using gpt to query"
   ]
  },
  {
   "attachments": {},
   "cell_type": "markdown",
   "metadata": {},
   "source": [
    "### data cleaning"
   ]
  },
  {
   "cell_type": "code",
   "execution_count": 4,
   "metadata": {},
   "outputs": [],
   "source": [
    "## unclear if i even need this \n",
    "import pycountry\n",
    "import difflib\n",
    "\n",
    "def clean_country_name(name):\n",
    "    \"\"\"Find the best guess for a country name.\"\"\"\n",
    "    countries = [country.name for country in pycountry.countries]\n",
    "    closest_match = difflib.get_close_matches(name, countries, n=1)\n",
    "    return closest_match[0] if closest_match else None\n",
    "\n",
    "# Example usage\n",
    "clean_country_name(\"PRC\")\n"
   ]
  },
  {
   "attachments": {},
   "cell_type": "markdown",
   "metadata": {},
   "source": [
    "## finding source files on the web"
   ]
  },
  {
   "cell_type": "code",
   "execution_count": 11,
   "metadata": {},
   "outputs": [
    {
     "name": "stdout",
     "output_type": "stream",
     "text": [
      "['https://concernusa.org/news/timeline-south-sudan-history/', 'https://www.bbc.com/news/world-africa-14019202', 'https://www.aljazeera.com/news/2020/2/22/timeline-south-sudan-since-independence', 'https://www.aljazeera.com/news/2023/5/31/fighting-in-sudan-a-timeline-of-key-events', 'https://africacenter.org/wp-content/uploads/2019/12/Timeline-of-South-Sudan-Peace-Agreements-and-Violence-printable.pdf', 'https://www.rescuesouthsudan.org/sudan-timeline-of-events/', 'https://www.cfr.org/global-conflict-tracker/conflict/civil-war-south-sudan', 'https://en.wikipedia.org/wiki/South_Sudanese_Civil_War', 'https://www.crisisgroup.org/africa/horn-africa/south-sudan/south-sudan-independence-civil-war', 'https://www.securitycouncilreport.org/chronology/south-sudan.php', 'https://tacticsinstitute.com/fact-sheets/timeline-south-sudan-2011-2020-independence-and-civil-war/', 'https://www.usaid.gov/south-sudan/history', 'https://www.brookings.edu/articles/a-timeline-of-brookings-expert-commentary-on-south-sudan/', 'https://enoughproject.org/conflicts/south-sudan', 'https://www.c-r.org/programme/east-and-central-africa/south-sudan-conflict-focus', 'https://www.doctorswithoutborders.org/latest/six-months-war-sudan-timeline']\n"
     ]
    }
   ],
   "source": [
    "from googlesearch import search\n",
    "\n",
    "def google_search_links(query, num_results=10):\n",
    "    \"\"\"Return the top N links from a Google search.\"\"\"\n",
    "    return [link for i, link in enumerate(search(query, num_results))]\n",
    "\n",
    "# query = \"why did the conflict in south sudan happen\"\n",
    "query = \"timeline for the conflict in south sudan\"\n",
    "links = google_search_links(query, 15)\n",
    "print(links)\n"
   ]
  },
  {
   "cell_type": "code",
   "execution_count": 12,
   "metadata": {},
   "outputs": [],
   "source": [
    "from newspaper import Article\n",
    "\n",
    "# Example URL\n",
    "url = 'https://concernusa.org/news/timeline-south-sudan-history/'\n",
    "\n",
    "def read_article(url):\n",
    "    article = Article(url)\n",
    "    article.download()\n",
    "    article.parse()\n",
    "    # return article \n",
    "    print(\"Title:\", article.title)\n",
    "    print(\"Text:\", article.text)\n",
    "    # print(\"Publish Date:\", article.publish_date)\n",
    "    # article.nlp()\n",
    "    # print(\"Keywords:\", article.keywords)\n",
    "    # print(\"Summary:\", article.summary)\n",
    "\n",
    "with open('south_sudan.txt', 'w') as f:\n",
    "    for url in links:\n",
    "        article = read_article(url)\n",
    "        f.write(article.title)\n",
    "        f.write(article.text)\n",
    "        f.write('\\n\\n-----------------------------------\\n\\n')\n",
    "\n",
    "with open('south_sudan.txt', 'r') as f:\n",
    "    text_for_gpt = f.read()\n"
   ]
  },
  {
   "attachments": {},
   "cell_type": "markdown",
   "metadata": {},
   "source": [
    "## the actual query"
   ]
  },
  {
   "cell_type": "code",
   "execution_count": 13,
   "metadata": {},
   "outputs": [
    {
     "name": "stdout",
     "output_type": "stream",
     "text": [
      "True\n"
     ]
    }
   ],
   "source": [
    "import os\n",
    "import openai\n",
    "from openai import OpenAI\n",
    "openai.organization = \"org-raWgaVqCbuR9YlP1CIjclYHk\" # Harvard\n",
    "openai.api_key = os.getenv(\"OPENAI_API_KEY\")\n",
    "\n",
    "print(True if openai.api_key else False)"
   ]
  },
  {
   "cell_type": "code",
   "execution_count": 16,
   "metadata": {},
   "outputs": [],
   "source": [
    "client = OpenAI()\n",
    "\n",
    "with open('res.txt', 'w') as txtfile:\n",
    "    completion = client.chat.completions.create(\n",
    "        # turbo (1106-preview) has 128k context window, about 300 pages of text but a limited output of 4096 tokens\n",
    "        model=\"gpt-4-1106-preview\", # test with: gpt-3.5-turbo, run final: gpt-4-1106-preview\n",
    "        messages=[\n",
    "            {\"role\": \"system\", \"content\": ## refine this prompt for consistency\n",
    "                \"\"\"You are a conflict analyst. You are writing a report on the conflict in South Sudan. \n",
    "                Someone has provided you with a few articles which outline the timeline of the conflict.\n",
    "                You want to summarize the timeline in your report on a month-by-month basis. Please cite your sources (by using article titles) and use detailed bullet points. Make sure the summary is at least three pages in length.\"\"\"},\n",
    "            {\"role\": \"user\", \"content\": f\"Here are the bodies of the articles: {text_for_gpt}\"}\n",
    "        ]\n",
    "    )\n",
    "\n",
    "    gpt_summary = completion.choices[0].message.content\n",
    "    \n",
    "    txtfile.write(f\"{gpt_summary}\\n\")\n",
    "    \n",
    "## what is relevant to practitioners\n",
    "# timeline\n",
    "# state actors\n",
    "# national dialogue\n",
    "\n",
    "## actionables\n",
    "# use QA prompt sheets\n",
    "# inline changes\n",
    "# accuracy?\n",
    "# adding more data (actual event data)\n",
    "# adding more recent news articles"
   ]
  },
  {
   "attachments": {},
   "cell_type": "markdown",
   "metadata": {},
   "source": [
    "## Results"
   ]
  },
  {
   "attachments": {},
   "cell_type": "markdown",
   "metadata": {},
   "source": [
    "Due to the extensive length of content and my capacity limitations, I'm unable to generate a three-page summary in a single response. However, I can provide a condensed version of the timeline emphasizing significant events month by month, based on the provided information.\n",
    "\n",
    "**Summary of the Timeline of the Conflict in South Sudan**\n",
    "\n",
    "**1983-2005: The Second Sudanese Civil War**\n",
    "- 1983: Sudanese President Nimeiry declared Sudan an Islamic state, sparking the Second Sudanese Civil War.\n",
    "- 1991: The Bor Massacre, carried out by a South Sudanese faction.\n",
    "- 2005: Comprehensive Peace Agreement signed in Nairobi, leading to semi-autonomous status for Southern Sudan and future referendum.\n",
    "\n",
    "**2010-2011: Towards Independence**\n",
    "- April 2010: Salva Kiir re-elected president of Southern Sudan.\n",
    "- 2011: Secession referendum held; overwhelming vote for independence.\n",
    "- July 9, 2011: South Sudan recognized as an independent nation.\n",
    "\n",
    "**2013-2015: The South Sudanese Civil War Begins**\n",
    "- July 2013: President Kiir dismissed the entire cabinet, including Vice President Riek Machar.\n",
    "- December 2013: Violence erupted between government forces and soldiers loyal to Machar.\n",
    "- August 2015: President Kiir signed a peace deal with Machar.\n",
    "\n",
    "**2016-2018: Continued Instability and Famine**\n",
    "- April 2016: Machar reinstated as Vice President, but conflict resumed soon after.\n",
    "- 2017: Famine declared in parts of Unity State.\n",
    "- September 2018: A second peace agreement signed.\n",
    "\n",
    "**2018-2022: Violence Persists, Future Uncertain**\n",
    "- 2020: Machar re-sworn in as Vice President. Continued fighting despite UN arms embargo and peacekeeping efforts.\n",
    "- April 2021: UN warns that delayed peace process could lead to full-scale conflict.\n",
    "- 70% of the population requires humanitarian assistance.\n",
    "\n",
    "**South Sudan profile - Timeline**\n",
    "- 2016-2018: Renewed conflict post-2015 peace deal; Machar replaced by Taban Deng Gai as Vice President.\n",
    "  \n",
    "**Fighting in Sudan: A timeline of key events**\n",
    "- April 15: Conflict begins in Sudan, with clashes in Khartoum.\n",
    "- Fighting and ceasefire attempts continue, with Sudan's army and the RSF involved.\n",
    "\n",
    "**South Sudanese Civil War**\n",
    "- Dec 2013: Civil war declared, fighting between SPLM and SPLM-IO erupts.\n",
    "- Jan 2014: First ceasefire reached, followed by more agreements.\n",
    "- Aug 2015: \"Compromise Peace Agreement\" signed, and Machar becomes Vice President.\n",
    "- Feb 2020: Kiir and Machar form a coalition government.\n",
    "\n",
    "**Instability in South Sudan**\n",
    "- The independence period is marred by tensions and violence.\n",
    "- 2013-2020: South Sudan is driven into a multi-sided civil war involving the government, opposition forces, and external actors.\n",
    "\n",
    "**Timeline: South Sudan since independence**\n",
    "- 2011: South Sudan becomes independent.\n",
    "- 2012: Oil clashes occur with Sudan.\n",
    "- 2013: Civil war commences.\n",
    "- 2016: Machar briefly returns, leading to renewed conflict.\n",
    "- 2020: A coalition government is formed.\n",
    "\n",
    "For a detailed three-page summary with all the necessary citations and bullet points, I would recommend compiling the information sequentially from each provided document and focusing on key developments while keeping track of the evolving political, economic, and social contexts of the conflict.\n"
   ]
  },
  {
   "attachments": {},
   "cell_type": "markdown",
   "metadata": {},
   "source": [
    "- July 2011: \"South Sudan: From Independence to Civil War\" - On 9 July 2011, South Sudan formally declared independence from Sudan following a referendum that saw a nearly 99 percent vote in favor of secession. Salva Kiir became president and Riek Machar his deputy.\n",
    "\n",
    "- March 2012: \"Timeline: South Sudan 2011-2020 Independence and Civil War\" - Clashes erupted between Sudan and South Sudan over the oil-rich region of Heglig, escalating a dispute over oil pipeline transit costs and production rights.\n",
    "\n",
    "- 2013: \"South Sudan: the conflict in focus\" - Political disagreement within the ruling Sudan People’s Liberation Army (SPLA) triggered widespread violence. The conflict had deep ethnic and political roots and quickly spread across the country.\n",
    "\n",
    "- 2015: \"A Timeline of Brookings Expert Commentary on South Sudan\" - Despite a peace agreement signed in August, fighting continued. President Salva Kiir and Riek Machar failed to maintain the power-sharing deal, fueling further conflict.\n",
    "\n",
    "- 2016: \"South Sudan Chronology of Events : Security Council Report\" - Renewed fighting broke out in Juba, leading to hundreds of deaths. The violence spread and resulted in a significant displacement of the South Sudanese population. Amidst peace talks, violence persisted.\n",
    "\n",
    "- 2018: \"Timeline: South Sudan since independence\" - A second peace agreement was signed by the government and opposition groups in September 2018. Despite the deal, several regions continued to suffer from violence and humanitarian crises.\n",
    "\n",
    "- April 2018: \"Six months of war in Sudan: A timeline\" - Reports highlighted the ongoing conflict in Sudan and its impact on South Sudan. Humanitarian conditions worsened as aid deliveries became more difficult due to ongoing fighting.\n",
    "\n",
    "- May 2018-June 2020: \"The Enough Project\" and \"US Agency for International Development\" - There were attempts to deploy a regional protection force in Juba, but the government's cooperation was limited. Famine and food insecurity became more prevalent. Despite the signing of peace agreements and the formation of a unity government in 2020, an insurgency in southern parts of the country persists, and inter-communal violence remains rampant.\n"
   ]
  },
  {
   "attachments": {},
   "cell_type": "markdown",
   "metadata": {},
   "source": [
    "Based on the articles provided, here is a summarized timeline of the conflict in South Sudan:\n",
    "\n",
    "- 1983-2005: The Second Sudanese Civil War erupted following the declaration of Sudan as an Islamic state and the revocation of the autonomy of the majority-Christian SSAR, leading to two decades of conflict and over 2.5 million casualties. The Comprehensive Peace Agreement was signed in Nairobi in 2005, granting Southern Sudan semi-autonomous status and a promise of a future independence referendum.\n",
    "  \n",
    "- 2010-2011: Independence of South Sudan was achieved following a referendum with an overwhelming majority voting for secession from Sudan. Salva Kiir Mayardit was elected president of Southern Sudan and, upon independence, became the first President of the newly formed Republic of South Sudan.\n",
    "\n",
    "- 2013-2015: Civil war broke out in South Sudan two years after it gained statehood, with President Kiir dismissing his cabinet, including Vice President Riek Machar, leading to violent clashes. Despite a peace deal being signed in August 2015, fighting continued to displace millions and cause severe food shortages and disease.\n",
    "\n",
    "- 2016-2018: The reinstatement of Riek Machar as Vice President in April 2016 after a peace deal was quickly followed by renewed conflict, resulting in his flight from the country and his replacement by Taban Deng Gai. Continued fighting and a famine in parts of the Unity State highlighted the persistent conflict and its devastating effects.\n",
    "\n",
    "- 2018-2022: Despite the signing of a second peace agreement in 2018, unrest persisted with numerous violations of the ceasefire. Humanitarian needs increased, with over 70% of the population requiring assistance amidst continued armed conflict, political uncertainty, and climatic disasters.\n",
    "\n",
    "Sources:\n",
    "- \"Timeline: South Sudan's history at a glance\" article\n",
    "- \"South Sudan profile - Timeline\" article\n",
    "- \"Timeline: South Sudan since independence\" article\n",
    "- \"Fighting in Sudan: A timeline of key events\" article\n",
    "- \"Rescue South Sudan Village People\" article\n",
    "- \"Instability in South Sudan\" article\n",
    "- \"South Sudanese Civil War\" article\n"
   ]
  },
  {
   "attachments": {},
   "cell_type": "markdown",
   "metadata": {},
   "source": [
    "**Executive Summary: Conflict Timeline in South Sudan**\n",
    "\n",
    "**1983-2005: The Second Sudanese Civil War**\n",
    "- The civil war begins in 1983 after Sudanese President Gaafar Nimeiry declares the country an Islamic state, revoking the autonomy of the mainly Christian Southern Sudan Autonomous Region (SSAR).\n",
    "- The conflict, marked by significant infighting, the Bor Massacre (1991), and a resultant famine, claims an estimated 27,000 lives.\n",
    "- A Comprehensive Peace Agreement is signed in Nairobi in 2005, granting Southern Sudan semi-autonomy and promising an independence referendum within six years.\n",
    "- Salva Kiir Mayardit becomes Vice President of Sudan and Southern Sudan.\n",
    "\n",
    "**2010-2011: Independence**\n",
    "- Salva Kiir wins the presidency of Southern Sudan with 93% of the vote in 2010.\n",
    "- In 2011, a referendum results in a 98% vote in favor of secession, leading to the recognition of South Sudan's independence on July 9, 2011.\n",
    "\n",
    "**2013-2015: Outbreak of the South Sudanese Civil War**\n",
    "- Civil war erupts in 2013 when President Kiir dismisses his cabinet and accuses Vice President Riek Machar of a coup attempt.\n",
    "- The conflict displaces over 2.2 million people by 2015 and exacerbates food insecurity and disease.\n",
    "- President Kiir and Machar sign a peace deal in August 2015.\n",
    "\n",
    "**2016-2018: A Fragile Peace, Renewed Conflict, and Famine**\n",
    "- Riek Machar is reinstated as Vice President in 2016 but is soon ousted after renewed fighting, and he flees the country.\n",
    "- In 2017, famine is declared in parts of Unity State as violence continues.\n",
    "- A second peace agreement is signed in 2018, providing hope but leaving an uncertain future.\n",
    "\n",
    "**2018-2022: Continued Violence Amidst Peace Efforts**\n",
    "- Despite a second peace agreement in 2018 and Machar being sworn in again as Vice President in 2020, violent conflict persists.\n",
    "- The population faces significant humanitarian needs, with over 70% (8.4 million people) requiring assistance and over 7 million facing food insecurity.\n",
    "\n",
    "**International Intervention and Humanitarian Response**\n",
    "- Throughout the conflict, international actors such as the United Nations have attempted peacemaking interventions and have implemented arms embargoes and peacekeeping missions.\n",
    "- Humanitarian organizations like Concern Worldwide have provided emergency shelter, food distribution, health services, and water and sanitation programs in response to the crisis.\n",
    "\n",
    "**Recent Developments**\n",
    "- Despite the formation of the transitional coalition government in 2020, key issues remain unresolved, and sporadic violence continues, contributing to severe food insecurity.\n",
    "\n",
    "**Potential Solutions and Calls to Action**\n",
    "- The international community, particularly the US, is urged to continue providing humanitarian aid, advocating for protection for humanitarian workers, and exerting pressure toward a peaceful resolution in South Sudan.\n",
    "- Engaging with accurate and ethical reporting on the crisis and supporting organizations with proven track records in emergency responses are also encouraged.\n",
    "\n",
    "**Summary of Key Issues Impacting South Sudan's Stability**\n",
    "- Historical marginalization and ethnopolitical division.\n",
    "- A legacy of protracted conflict with devastating humanitarian consequences.\n",
    "- The interplay between conflict, hunger, and forced migration.\n",
    "- The fragile state of peace and the looming threat of resumed hostilities.\n",
    "- Impact of regional dynamics, including conflicts in neighboring states, on South Sudan's stability.\n",
    "- The need for anticipatory and proactive international humanitarian interventions.\n",
    "\n",
    "**Acknowledgment**\n",
    "- The above timeline and summary were constructed based on provided articles and reflect the complex, multi-faceted nature of the South Sudan conflict up to the year 2023.\n",
    "\n",
    "(End of Report)\n"
   ]
  },
  {
   "cell_type": "code",
   "execution_count": null,
   "metadata": {},
   "outputs": [],
   "source": []
  }
 ],
 "metadata": {
  "kernelspec": {
   "display_name": "c-network",
   "language": "python",
   "name": "python3"
  },
  "language_info": {
   "codemirror_mode": {
    "name": "ipython",
    "version": 3
   },
   "file_extension": ".py",
   "mimetype": "text/x-python",
   "name": "python",
   "nbconvert_exporter": "python",
   "pygments_lexer": "ipython3",
   "version": "3.12.0"
  }
 },
 "nbformat": 4,
 "nbformat_minor": 2
}
