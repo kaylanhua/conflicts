{
 "cells": [
  {
   "cell_type": "code",
   "execution_count": 50,
   "metadata": {},
   "outputs": [],
   "source": [
    "from sklearn.pipeline import Pipeline\n",
    "from sklearn.model_selection import train_test_split, RepeatedKFold, GridSearchCV\n",
    "from sklearn.compose import ColumnTransformer\n",
    "from sklearn.preprocessing import StandardScaler, OneHotEncoder\n",
    "from sklearn.linear_model import LinearRegression, Lasso, Ridge, RidgeCV, ElasticNet, ElasticNetCV, MultiTaskElasticNet\n",
    "from sklearn.ensemble import RandomForestRegressor\n",
    "from sklearn.neural_network import MLPRegressor\n",
    "import pandas as pd\n",
    "import numpy as np\n",
    "import matplotlib as plt\n",
    "from sklearn.metrics import mean_squared_error, mean_absolute_error, r2_score, mean_absolute_percentage_error\n",
    "\n",
    "from sklearn.decomposition import PCA, TruncatedSVD\n",
    "from sklearn.manifold import TSNE\n",
    "\n"
   ]
  },
  {
   "cell_type": "code",
   "execution_count": 74,
   "metadata": {},
   "outputs": [],
   "source": [
    "acled_df = pd.read_csv('../data/acled/south_sudan.csv') \n",
    "acled_df = acled_df.drop(['SOURCE', 'SOURCE_SCALE', 'TAGS', 'EVENT_DATE', 'YEAR', 'GEO_PRECISION'], axis=1)\n",
    "\n",
    "data = acled_df\n",
    "X = data.drop('FATALITIES', axis=1)\n",
    "\n",
    "# vector = np.array(data['FATALITIES'])\n",
    "# y = np.where(vector > 0, np.log(vector), 0)\n",
    "y = data['FATALITIES']\n"
   ]
  },
  {
   "cell_type": "code",
   "execution_count": 75,
   "metadata": {},
   "outputs": [],
   "source": [
    "categorical_features = X.select_dtypes(include=['object']).columns.tolist()\n",
    "numeric_features = X.select_dtypes(include=['int64', 'float64']).columns.tolist()\n",
    "\n",
    "numeric_transformer = StandardScaler()\n",
    "categorical_transformer = OneHotEncoder(handle_unknown='ignore')\n",
    "\n",
    "# Create a column transformer to apply different preprocessing to different columns\n",
    "preprocessor = ColumnTransformer(\n",
    "    transformers=[\n",
    "        ('num', numeric_transformer, numeric_features),\n",
    "        ('cat', categorical_transformer, categorical_features)\n",
    "    ])\n",
    "\n",
    "X = preprocessor.fit_transform(X)\n",
    "\n",
    "## SVD does not work very well\n",
    "# truncatedSVD=TruncatedSVD(20)\n",
    "# X = truncatedSVD.fit_transform(X)\n"
   ]
  },
  {
   "cell_type": "code",
   "execution_count": 76,
   "metadata": {},
   "outputs": [
    {
     "name": "stdout",
     "output_type": "stream",
     "text": [
      "0.01\n"
     ]
    }
   ],
   "source": [
    "X_train, X_test, y_train, y_test = train_test_split(X, y, test_size=0.2, random_state=42)\n",
    "\n",
    "cv = RepeatedKFold(n_splits=10, n_repeats=3, random_state=1)\n",
    "model = RidgeCV(alphas=np.arange(0.01, 1, 0.1), cv=cv, scoring='neg_mean_absolute_error')\n",
    "\n",
    "model.fit(X_train, y_train)\n",
    "\n",
    "print(model.alpha_)"
   ]
  },
  {
   "cell_type": "code",
   "execution_count": 78,
   "metadata": {},
   "outputs": [
    {
     "name": "stdout",
     "output_type": "stream",
     "text": [
      "Mean Absolute Error: 0.02322991032613606\n"
     ]
    }
   ],
   "source": [
    "y_pred_train = model.predict(X_train)\n",
    "mae = mean_absolute_error(y_train, y_pred_train)\n",
    "print(\"Mean Absolute Error:\", mae)\n",
    "\n",
    "## SVD: 5.799\n",
    "## Ridge: 0.023"
   ]
  },
  {
   "cell_type": "code",
   "execution_count": 79,
   "metadata": {},
   "outputs": [
    {
     "name": "stdout",
     "output_type": "stream",
     "text": [
      "Mean Absolute Error: 5.482602426749992\n",
      "Mean Squared Error: 284.5993788017796\n",
      "R-squared: 0.48320824865133005\n",
      "Mean Absolute Percentage Error: 9857729264887162.0\n"
     ]
    }
   ],
   "source": [
    "y_pred = model.predict(X_test)\n",
    "y_pred_zero = np.where(model.predict(X_test) < 0, 0, model.predict(X_test))\n",
    "\n",
    "mae = mean_absolute_error(y_test, y_pred)\n",
    "print(\"Mean Absolute Error:\", mae)\n",
    "\n",
    "mse = mean_squared_error(y_test, y_pred)\n",
    "print(f\"Mean Squared Error: {mse}\")\n",
    "\n",
    "# very low r2 for svd, means that there is very little correlation between variables \n",
    "r2 = r2_score(y_test, y_pred)\n",
    "print(f\"R-squared: {r2}\")\n",
    "\n",
    "# should not use MAPE if i have a lot of zeros\n",
    "mape = mean_absolute_percentage_error(y_test, y_pred)\n",
    "print(f\"Mean Absolute Percentage Error: {mape}\")"
   ]
  },
  {
   "cell_type": "code",
   "execution_count": 58,
   "metadata": {},
   "outputs": [
    {
     "data": {
      "text/plain": [
       "0.5589956249665272"
      ]
     },
     "execution_count": 58,
     "metadata": {},
     "output_type": "execute_result"
    }
   ],
   "source": [
    "## PCA doesn't work, data too sparse\n",
    "## trying Truncated SVD, which provides a low rank approximation for high dimensional \n",
    "## reference: https://rukshanpramoditha.medium.com/truncated-svd-for-dimensionality-reduction-in-sparse-feature-matrices-c083b4af7ddc#:~:text=Just%20like%20normal%20SVD%2C%20truncated,Truncated%20SVD%20accepts%20sparse%20matrices.\n",
    "\n",
    "truncatedSVD=TruncatedSVD(10)\n",
    "X_truncated = truncatedSVD.fit_transform(X)\n",
    "\n",
    "# Percentage of variance explained by each of the selected components.\n",
    "truncatedSVD.explained_variance_ratio_.sum()\n"
   ]
  },
  {
   "cell_type": "markdown",
   "metadata": {},
   "source": [
    "**raw fatality numbers**\n",
    "\n",
    "Mean Absolute Error: 5.482602426749992\n",
    "Mean Squared Error: 284.5993788017796\n",
    "R-squared: 0.48320824865133005\n",
    "Mean Absolute Percentage Error: 9857729264887162.0\n",
    "\n",
    "**log percentage errors**\n",
    "\n",
    "Mean Absolute Error: 0.6384085004082225\n",
    "Mean Squared Error: 0.785817688746483\n",
    "R-squared: 0.2814913864849885\n",
    "Mean Absolute Percentage Error: 1470050233078672.5"
   ]
  },
  {
   "cell_type": "markdown",
   "metadata": {},
   "source": []
  }
 ],
 "metadata": {
  "kernelspec": {
   "display_name": "c-network",
   "language": "python",
   "name": "python3"
  },
  "language_info": {
   "codemirror_mode": {
    "name": "ipython",
    "version": 3
   },
   "file_extension": ".py",
   "mimetype": "text/x-python",
   "name": "python",
   "nbconvert_exporter": "python",
   "pygments_lexer": "ipython3",
   "version": "3.12.0"
  }
 },
 "nbformat": 4,
 "nbformat_minor": 2
}
