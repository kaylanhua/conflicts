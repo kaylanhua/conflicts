{
 "cells": [
  {
   "cell_type": "code",
   "execution_count": 1,
   "metadata": {},
   "outputs": [],
   "source": [
    "from sklearn.ensemble import RandomForestRegressor\n",
    "from sklearn.pipeline import Pipeline\n",
    "from sklearn.model_selection import train_test_split, RepeatedKFold, GridSearchCV\n",
    "from sklearn.compose import ColumnTransformer\n",
    "from sklearn.preprocessing import StandardScaler, OneHotEncoder\n",
    "from sklearn.linear_model import LinearRegression, Lasso, Ridge, RidgeCV, ElasticNet, ElasticNetCV, MultiTaskElasticNet\n",
    "from sklearn.ensemble import RandomForestRegressor\n",
    "from sklearn.neural_network import MLPRegressor\n",
    "import pandas as pd\n",
    "import numpy as np\n",
    "import matplotlib as plt\n",
    "from sklearn.metrics import mean_squared_error, mean_absolute_error, r2_score, mean_absolute_percentage_error\n",
    "\n",
    "from sklearn.decomposition import PCA, TruncatedSVD\n",
    "from sklearn.manifold import TSNE"
   ]
  },
  {
   "cell_type": "code",
   "execution_count": 10,
   "metadata": {},
   "outputs": [
    {
     "name": "stdout",
     "output_type": "stream",
     "text": [
      "Index(['id', 'relid', 'year', 'active_year', 'code_status', 'type_of_violence',\n",
      "       'conflict_dset_id', 'conflict_new_id', 'conflict_name', 'dyad_dset_id',\n",
      "       'dyad_new_id', 'dyad_name', 'side_a_dset_id', 'side_a_new_id', 'side_a',\n",
      "       'side_b_dset_id', 'side_b_new_id', 'side_b', 'where_prec',\n",
      "       'where_coordinates', 'where_description', 'adm_1', 'adm_2', 'latitude',\n",
      "       'longitude', 'geom_wkt', 'priogrid_gid', 'country', 'country_id',\n",
      "       'region', 'event_clarity', 'date_prec', 'date_start', 'date_end',\n",
      "       'best_est', 'COORDS'],\n",
      "      dtype='object')\n"
     ]
    }
   ],
   "source": [
    "# acled_df = pd.read_csv('../data/acled/south_sudan.csv') \n",
    "# # acled_df = acled_df.drop(['SOURCE', 'SOURCE_SCALE', 'TAGS', 'EVENT_DATE', 'YEAR', 'GEO_PRECISION'], axis=1)\n",
    "# data = acled_df\n",
    "# X = data.drop('FATALITIES', axis=1)\n",
    "# y = data['FATALITIES']\n",
    "\n",
    "ucdp_df = pd.read_csv(\"../data/ucdp/darfur_113023.csv\").drop('low_est', axis=1) ## 1669 entries, 48 cols\n",
    "ucdp_df = ucdp_df.drop(['deaths_a', 'deaths_b', 'deaths_civilians', 'deaths_unknown', 'high_est', 'number_of_sources', 'source_date', 'source_office', 'source_headline', 'source_article', 'source_original'], axis=1)\n",
    "\n",
    "# print(ucdp_df.info()) \n",
    "print(ucdp_df.columns)\n",
    "ucdp_df.dropna(inplace=True)\n",
    "\n",
    "data = ucdp_df\n",
    "X = data.drop('best_est', axis=1)\n",
    "y = data['best_est']\n",
    "\n",
    "\n",
    "categorical_features = X.select_dtypes(include=['object']).columns.tolist()\n",
    "numeric_features = X.select_dtypes(include=['int64', 'float64']).columns.tolist()\n",
    "\n",
    "numeric_transformer = StandardScaler()\n",
    "categorical_transformer = OneHotEncoder(handle_unknown='ignore')\n",
    "\n",
    "# Create a column transformer to apply different preprocessing to different columns\n",
    "preprocessor = ColumnTransformer(\n",
    "    transformers=[\n",
    "        ('num', numeric_transformer, numeric_features),\n",
    "        ('cat', categorical_transformer, categorical_features)\n",
    "    ])\n",
    "\n",
    "X = preprocessor.fit_transform(X)"
   ]
  },
  {
   "cell_type": "code",
   "execution_count": 13,
   "metadata": {},
   "outputs": [
    {
     "data": {
      "text/plain": [
       "8505.836048050072"
      ]
     },
     "execution_count": 13,
     "metadata": {},
     "output_type": "execute_result"
    }
   ],
   "source": [
    "variance = np.var(y, axis=0)\n",
    "variance"
   ]
  },
  {
   "cell_type": "code",
   "execution_count": 11,
   "metadata": {},
   "outputs": [
    {
     "name": "stdout",
     "output_type": "stream",
     "text": [
      "[-1.58542042e+01 -6.26873991e+00 -2.36514630e+00 -2.28000950e+00\n",
      " -1.11841684e+00 -8.61333411e-01 -8.60583338e-01 -8.37594178e-01\n",
      " -6.51264295e-01 -5.73285334e-01 -5.41301519e-01 -2.39470521e-01\n",
      " -2.18867259e-01 -1.89350059e-01 -1.80230797e-01 -1.80023300e-01\n",
      " -1.37527810e-01 -6.59737544e-02 -5.71641292e-02 -5.70106012e-02\n",
      " -1.67423267e-02  0.00000000e+00  1.45227603e-01  1.45227613e-01\n",
      "  1.88136894e-01  1.88139591e-01  1.93472946e-01  1.93472947e-01\n",
      "  2.54860936e-01  3.56429895e-01  3.81531691e-01  3.81532035e-01\n",
      "  3.81532094e-01  3.86106628e-01  3.86106673e-01  3.87541763e-01\n",
      "  4.11770358e-01  4.11770370e-01  4.11770448e-01  4.11770504e-01\n",
      "  4.11772353e-01  6.20228557e-01  6.99896776e-01  7.21424353e-01\n",
      "  8.07168880e-01  8.22273608e-01  8.22274103e-01  8.22274103e-01\n",
      "  1.16110758e+00  1.24679534e+00  1.27327957e+00  1.27327962e+00\n",
      "  1.58830905e+00  1.72911750e+00  1.86587254e+00  1.86587397e+00\n",
      "  1.99408533e+00  1.99408533e+00  1.99408538e+00  1.99408538e+00\n",
      "  1.99408538e+00  1.99408538e+00  1.99408564e+00  2.01001741e+00\n",
      "  2.26010499e+00  2.40052663e+00  2.40052664e+00  2.40052664e+00\n",
      "  2.40052690e+00  2.43042297e+00  2.43042333e+00  2.43042346e+00\n",
      "  2.67433190e+00  7.55403804e+00  8.63533625e+00  8.69025191e+00\n",
      "  1.79022854e+01]\n",
      "score: 0.11540188349196911\n"
     ]
    }
   ],
   "source": [
    "X_train, X_test, y_train, y_test = train_test_split(X, y, test_size=0.2, random_state=42)\n",
    "\n",
    "# model = ElasticNetCV(cv=2, random_state=0)\n",
    "model = ElasticNet(random_state=0)\n",
    "model.fit(X_train, y_train)\n",
    "\n",
    "print(np.unique(model.coef_))\n",
    "print(f'score: {model.score(X_test, y_test)}')"
   ]
  },
  {
   "cell_type": "code",
   "execution_count": 12,
   "metadata": {},
   "outputs": [
    {
     "name": "stdout",
     "output_type": "stream",
     "text": [
      "Mean Squared Error: 3048.124686120759\n"
     ]
    }
   ],
   "source": [
    "y_pred = model.predict(X_test)\n",
    "yp=y_pred\n",
    "\n",
    "mse = mean_squared_error(y_test, yp)\n",
    "print(f\"Mean Squared Error: {mse}\")"
   ]
  },
  {
   "cell_type": "code",
   "execution_count": null,
   "metadata": {},
   "outputs": [],
   "source": []
  }
 ],
 "metadata": {
  "kernelspec": {
   "display_name": "c-network",
   "language": "python",
   "name": "python3"
  },
  "language_info": {
   "codemirror_mode": {
    "name": "ipython",
    "version": 3
   },
   "file_extension": ".py",
   "mimetype": "text/x-python",
   "name": "python",
   "nbconvert_exporter": "python",
   "pygments_lexer": "ipython3",
   "version": "3.12.0"
  }
 },
 "nbformat": 4,
 "nbformat_minor": 2
}
