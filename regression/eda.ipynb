{
 "cells": [
  {
   "cell_type": "markdown",
   "metadata": {},
   "source": [
    "## eda + prelim linear regression \n",
    "on acled and ucdp data"
   ]
  },
  {
   "cell_type": "code",
   "execution_count": 38,
   "metadata": {},
   "outputs": [],
   "source": [
    "import xgboost as xgb\n",
    "from sklearn.pipeline import Pipeline\n",
    "from sklearn.model_selection import train_test_split\n",
    "from sklearn.compose import ColumnTransformer\n",
    "from sklearn.preprocessing import StandardScaler, OneHotEncoder\n",
    "from sklearn.linear_model import LinearRegression, Lasso, Ridge, ElasticNet, ElasticNetCV, MultiTaskElasticNet\n",
    "from sklearn.ensemble import RandomForestRegressor\n",
    "from sklearn.neural_network import MLPRegressor\n",
    "import pandas as pd\n",
    "import numpy as np\n",
    "import matplotlib as plt\n",
    "\n"
   ]
  },
  {
   "cell_type": "code",
   "execution_count": 30,
   "metadata": {},
   "outputs": [
    {
     "name": "stdout",
     "output_type": "stream",
     "text": [
      "Index(['EVENT_ID_CNTY', 'TIME_PRECISION', 'DISORDER_TYPE', 'EVENT_TYPE',\n",
      "       'SUB_EVENT_TYPE', 'ACTOR1', 'ASSOC_ACTOR_1', 'INTER1', 'ACTOR2',\n",
      "       'ASSOC_ACTOR_2', 'INTER2', 'INTERACTION', 'CIVILIAN_TARGETING', 'ISO',\n",
      "       'REGION', 'COUNTRY', 'ADMIN1', 'ADMIN2', 'ADMIN3', 'LOCATION',\n",
      "       'LATITUDE', 'LONGITUDE', 'NOTES', 'FATALITIES', 'TIMESTAMP'],\n",
      "      dtype='object')\n"
     ]
    }
   ],
   "source": [
    "\n",
    "acled_df = pd.read_csv('../data/acled/south_sudan.csv') \n",
    "acled_df = acled_df.drop(['SOURCE', 'SOURCE_SCALE', 'TAGS', 'EVENT_DATE', 'YEAR', 'GEO_PRECISION'], axis=1)\n",
    "\n",
    "## darfur: 9316 entries, 32 cols\n",
    "# print(acled_df.info()) \n",
    "print(acled_df.columns)\n",
    "# acled_df['FATALITIES']\n",
    "\n",
    "\n",
    "# ucdp_df = pd.read_csv(\"../data/ucdp/darfur_113023.csv\").drop('low_est', axis=1) ## 1669 entries, 48 cols\n",
    "# # print(ucdp_df.info()) \n",
    "# print(ucdp_df.columns)\n",
    "# ucdp_df.dropna(inplace=True)\n",
    "# ucdp_df"
   ]
  },
  {
   "cell_type": "code",
   "execution_count": 31,
   "metadata": {},
   "outputs": [
    {
     "name": "stdout",
     "output_type": "stream",
     "text": [
      "Model score: 0.501\n"
     ]
    }
   ],
   "source": [
    "data = acled_df\n",
    "X = data.drop('FATALITIES', axis=1)\n",
    "y = data['FATALITIES']\n",
    "\n",
    "# data = ucdp_df\n",
    "# X = data.drop('best_est', axis=1)\n",
    "# y = data['best_est']\n",
    "\n",
    "X_train, X_test, y_train, y_test = train_test_split(X, y, test_size=0.2, random_state=42)\n",
    "\n",
    "# Define categorical and numerical features\n",
    "categorical_features = X.select_dtypes(include=['object']).columns.tolist()\n",
    "numeric_features = X.select_dtypes(include=['int64', 'float64']).columns.tolist()\n",
    "\n",
    "# Create transformers for numeric and categorical features\n",
    "## could use Imputer() from sklearn.preprocessing\n",
    "numeric_transformer = StandardScaler()\n",
    "categorical_transformer = OneHotEncoder(handle_unknown='ignore')\n",
    "\n",
    "# Create a column transformer to apply different preprocessing to different columns\n",
    "preprocessor = ColumnTransformer(\n",
    "    transformers=[\n",
    "        ('num', numeric_transformer, numeric_features),\n",
    "        ('cat', categorical_transformer, categorical_features)\n",
    "    ])\n",
    "\n",
    "# Create a pipeline with the preprocessor and a linear regression classifier\n",
    "model = Pipeline(steps=[\n",
    "    ('preprocessor', preprocessor),\n",
    "    ('classifier', Ridge(alpha=1))\n",
    "])\n",
    "\n",
    "# Train the model\n",
    "model.fit(X_train, y_train)\n",
    "\n",
    "# Evaluate the model (you can use appropriate metrics for your problem)\n",
    "## 1 is the best, r^2 score\n",
    "print(\"Model score: %.3f\" % model.score(X_test, y_test))\n"
   ]
  },
  {
   "cell_type": "code",
   "execution_count": 32,
   "metadata": {},
   "outputs": [],
   "source": [
    "# Predict the values using the trained model\n",
    "y_pred = model.predict(X_test)\n",
    "y_pred_zero = np.where(model.predict(X_test) < 0, 0, model.predict(X_test))"
   ]
  },
  {
   "cell_type": "code",
   "execution_count": 34,
   "metadata": {},
   "outputs": [
    {
     "name": "stdout",
     "output_type": "stream",
     "text": [
      "Mean Squared Error: 272.7223605070876\n"
     ]
    }
   ],
   "source": [
    "## evaluating the model \n",
    "from sklearn.metrics import mean_squared_error\n",
    "\n",
    "y_pred = model.predict(X_test)\n",
    "mse = mean_squared_error(y_test, y_pred_zero)\n",
    "print(f\"Mean Squared Error: {mse}\")\n"
   ]
  },
  {
   "cell_type": "code",
   "execution_count": 35,
   "metadata": {},
   "outputs": [
    {
     "name": "stdout",
     "output_type": "stream",
     "text": [
      "R-squared: 0.501236384649717\n"
     ]
    }
   ],
   "source": [
    "from sklearn.metrics import r2_score\n",
    "\n",
    "## the closer to 1 the better\n",
    "r2 = r2_score(y_test, y_pred)\n",
    "print(f\"R-squared: {r2}\")\n"
   ]
  },
  {
   "cell_type": "code",
   "execution_count": 36,
   "metadata": {},
   "outputs": [
    {
     "name": "stdout",
     "output_type": "stream",
     "text": [
      "Best Model score: 0.483\n",
      "Best alpha value: 0\n"
     ]
    }
   ],
   "source": [
    "from sklearn.model_selection import GridSearchCV\n",
    "\n",
    "# Define the parameter grid for Ridge\n",
    "param_grid = {'classifier__alpha': [0, 0.05, 0.1, 0.2, 1, 2, 10]}  # Define the alpha values you want to test\n",
    "\n",
    "# Create a GridSearchCV object\n",
    "grid_search = GridSearchCV(model, param_grid, cv=5, scoring='r2')  # cv is the number of folds for cross-validation\n",
    "\n",
    "# Fit the GridSearchCV object\n",
    "grid_search.fit(X_train, y_train)\n",
    "\n",
    "# Get the best estimator\n",
    "best_model = grid_search.best_estimator_\n",
    "\n",
    "# Evaluate the best model\n",
    "print(\"Best Model score: %.3f\" % best_model.score(X_test, y_test))\n",
    "print(f\"Best alpha value: {best_model.named_steps['classifier'].alpha}\")\n"
   ]
  },
  {
   "cell_type": "code",
   "execution_count": 37,
   "metadata": {},
   "outputs": [
    {
     "data": {
      "text/html": [
       "<div>\n",
       "<style scoped>\n",
       "    .dataframe tbody tr th:only-of-type {\n",
       "        vertical-align: middle;\n",
       "    }\n",
       "\n",
       "    .dataframe tbody tr th {\n",
       "        vertical-align: top;\n",
       "    }\n",
       "\n",
       "    .dataframe thead th {\n",
       "        text-align: right;\n",
       "    }\n",
       "</style>\n",
       "<table border=\"1\" class=\"dataframe\">\n",
       "  <thead>\n",
       "    <tr style=\"text-align: right;\">\n",
       "      <th></th>\n",
       "      <th>mean_fit_time</th>\n",
       "      <th>std_fit_time</th>\n",
       "      <th>mean_score_time</th>\n",
       "      <th>std_score_time</th>\n",
       "      <th>param_classifier__alpha</th>\n",
       "      <th>params</th>\n",
       "      <th>split0_test_score</th>\n",
       "      <th>split1_test_score</th>\n",
       "      <th>split2_test_score</th>\n",
       "      <th>split3_test_score</th>\n",
       "      <th>split4_test_score</th>\n",
       "      <th>mean_test_score</th>\n",
       "      <th>std_test_score</th>\n",
       "      <th>rank_test_score</th>\n",
       "    </tr>\n",
       "  </thead>\n",
       "  <tbody>\n",
       "    <tr>\n",
       "      <th>0</th>\n",
       "      <td>0.072074</td>\n",
       "      <td>0.004487</td>\n",
       "      <td>0.013476</td>\n",
       "      <td>0.000546</td>\n",
       "      <td>0</td>\n",
       "      <td>{'classifier__alpha': 0}</td>\n",
       "      <td>0.069296</td>\n",
       "      <td>0.623248</td>\n",
       "      <td>0.262334</td>\n",
       "      <td>0.427347</td>\n",
       "      <td>-0.039043</td>\n",
       "      <td>0.268636</td>\n",
       "      <td>0.238906</td>\n",
       "      <td>1</td>\n",
       "    </tr>\n",
       "    <tr>\n",
       "      <th>1</th>\n",
       "      <td>0.070672</td>\n",
       "      <td>0.002546</td>\n",
       "      <td>0.014280</td>\n",
       "      <td>0.000311</td>\n",
       "      <td>0.05</td>\n",
       "      <td>{'classifier__alpha': 0.05}</td>\n",
       "      <td>0.069427</td>\n",
       "      <td>0.618783</td>\n",
       "      <td>0.260589</td>\n",
       "      <td>0.424452</td>\n",
       "      <td>-0.038455</td>\n",
       "      <td>0.266959</td>\n",
       "      <td>0.237032</td>\n",
       "      <td>2</td>\n",
       "    </tr>\n",
       "    <tr>\n",
       "      <th>2</th>\n",
       "      <td>0.068758</td>\n",
       "      <td>0.002147</td>\n",
       "      <td>0.013975</td>\n",
       "      <td>0.000387</td>\n",
       "      <td>0.1</td>\n",
       "      <td>{'classifier__alpha': 0.1}</td>\n",
       "      <td>0.069540</td>\n",
       "      <td>0.614338</td>\n",
       "      <td>0.258852</td>\n",
       "      <td>0.421563</td>\n",
       "      <td>-0.037921</td>\n",
       "      <td>0.265274</td>\n",
       "      <td>0.235182</td>\n",
       "      <td>3</td>\n",
       "    </tr>\n",
       "    <tr>\n",
       "      <th>3</th>\n",
       "      <td>0.065013</td>\n",
       "      <td>0.001184</td>\n",
       "      <td>0.012954</td>\n",
       "      <td>0.000091</td>\n",
       "      <td>0.2</td>\n",
       "      <td>{'classifier__alpha': 0.2}</td>\n",
       "      <td>0.069693</td>\n",
       "      <td>0.605499</td>\n",
       "      <td>0.255409</td>\n",
       "      <td>0.415848</td>\n",
       "      <td>-0.036943</td>\n",
       "      <td>0.261901</td>\n",
       "      <td>0.231539</td>\n",
       "      <td>4</td>\n",
       "    </tr>\n",
       "    <tr>\n",
       "      <th>4</th>\n",
       "      <td>0.057078</td>\n",
       "      <td>0.000576</td>\n",
       "      <td>0.013084</td>\n",
       "      <td>0.000195</td>\n",
       "      <td>1</td>\n",
       "      <td>{'classifier__alpha': 1}</td>\n",
       "      <td>0.069414</td>\n",
       "      <td>0.540305</td>\n",
       "      <td>0.230107</td>\n",
       "      <td>0.373898</td>\n",
       "      <td>-0.032674</td>\n",
       "      <td>0.236210</td>\n",
       "      <td>0.205713</td>\n",
       "      <td>5</td>\n",
       "    </tr>\n",
       "    <tr>\n",
       "      <th>5</th>\n",
       "      <td>0.052759</td>\n",
       "      <td>0.000974</td>\n",
       "      <td>0.012949</td>\n",
       "      <td>0.000167</td>\n",
       "      <td>2</td>\n",
       "      <td>{'classifier__alpha': 2}</td>\n",
       "      <td>0.067621</td>\n",
       "      <td>0.475277</td>\n",
       "      <td>0.204963</td>\n",
       "      <td>0.332070</td>\n",
       "      <td>-0.030787</td>\n",
       "      <td>0.209829</td>\n",
       "      <td>0.180858</td>\n",
       "      <td>6</td>\n",
       "    </tr>\n",
       "    <tr>\n",
       "      <th>6</th>\n",
       "      <td>0.041890</td>\n",
       "      <td>0.000420</td>\n",
       "      <td>0.012819</td>\n",
       "      <td>0.000118</td>\n",
       "      <td>10</td>\n",
       "      <td>{'classifier__alpha': 10}</td>\n",
       "      <td>0.058618</td>\n",
       "      <td>0.264898</td>\n",
       "      <td>0.122099</td>\n",
       "      <td>0.193828</td>\n",
       "      <td>-0.021937</td>\n",
       "      <td>0.123501</td>\n",
       "      <td>0.100302</td>\n",
       "      <td>7</td>\n",
       "    </tr>\n",
       "  </tbody>\n",
       "</table>\n",
       "</div>"
      ],
      "text/plain": [
       "   mean_fit_time  std_fit_time  mean_score_time  std_score_time  \\\n",
       "0       0.072074      0.004487         0.013476        0.000546   \n",
       "1       0.070672      0.002546         0.014280        0.000311   \n",
       "2       0.068758      0.002147         0.013975        0.000387   \n",
       "3       0.065013      0.001184         0.012954        0.000091   \n",
       "4       0.057078      0.000576         0.013084        0.000195   \n",
       "5       0.052759      0.000974         0.012949        0.000167   \n",
       "6       0.041890      0.000420         0.012819        0.000118   \n",
       "\n",
       "  param_classifier__alpha                       params  split0_test_score  \\\n",
       "0                       0     {'classifier__alpha': 0}           0.069296   \n",
       "1                    0.05  {'classifier__alpha': 0.05}           0.069427   \n",
       "2                     0.1   {'classifier__alpha': 0.1}           0.069540   \n",
       "3                     0.2   {'classifier__alpha': 0.2}           0.069693   \n",
       "4                       1     {'classifier__alpha': 1}           0.069414   \n",
       "5                       2     {'classifier__alpha': 2}           0.067621   \n",
       "6                      10    {'classifier__alpha': 10}           0.058618   \n",
       "\n",
       "   split1_test_score  split2_test_score  split3_test_score  split4_test_score  \\\n",
       "0           0.623248           0.262334           0.427347          -0.039043   \n",
       "1           0.618783           0.260589           0.424452          -0.038455   \n",
       "2           0.614338           0.258852           0.421563          -0.037921   \n",
       "3           0.605499           0.255409           0.415848          -0.036943   \n",
       "4           0.540305           0.230107           0.373898          -0.032674   \n",
       "5           0.475277           0.204963           0.332070          -0.030787   \n",
       "6           0.264898           0.122099           0.193828          -0.021937   \n",
       "\n",
       "   mean_test_score  std_test_score  rank_test_score  \n",
       "0         0.268636        0.238906                1  \n",
       "1         0.266959        0.237032                2  \n",
       "2         0.265274        0.235182                3  \n",
       "3         0.261901        0.231539                4  \n",
       "4         0.236210        0.205713                5  \n",
       "5         0.209829        0.180858                6  \n",
       "6         0.123501        0.100302                7  "
      ]
     },
     "execution_count": 37,
     "metadata": {},
     "output_type": "execute_result"
    }
   ],
   "source": [
    "best = pd.DataFrame(grid_search.cv_results_)\n",
    "best"
   ]
  },
  {
   "cell_type": "markdown",
   "metadata": {},
   "source": [
    "## raw results\n",
    "\n",
    "on acled, darfur data:\n",
    "\n",
    "test size: .2\n",
    "- linear: LinearRegression()[0.1], Ridge() [0.147], Lasso()[0.052], ElasticNet()[0.05]\n",
    "- trees: XGBRegressor()[0.25], RandomForestRegressor()[0.356, but takes a long time]\n",
    "- neural network: MLPRegressor()[-5.803]\n",
    "- also something called MultiTaskElasticNet() that doesn't work on sparse data \n",
    "- ElasticNetCV() does not run \n",
    "\n",
    "test size: .3\n",
    "- LinearRegression() [0.304], Ridge() [0.300], Lasso and EN both [0.047]\n",
    "- Ridge alpha CV: 0.01 best, basically Ridge << LinearRegression"
   ]
  },
  {
   "cell_type": "markdown",
   "metadata": {},
   "source": [
    "## skewness\n",
    "conflict data, at least in the ACLED format, is incredible skewed (i.e. most values are under 10 and very few are above)\n",
    "\n",
    "options\n",
    "- undersampling\n",
    "- oversampling \n",
    "- SMOTE (mainly a tactic in classification used to oversample the minority class)\n",
    "- log transformation: transform skewed distribution to a normal distribution\n"
   ]
  },
  {
   "cell_type": "code",
   "execution_count": 72,
   "metadata": {},
   "outputs": [
    {
     "name": "stderr",
     "output_type": "stream",
     "text": [
      "/var/folders/wb/67n5x4vj6qq_n5t85f5bvtww0000gn/T/ipykernel_53408/2496623449.py:13: RuntimeWarning: divide by zero encountered in log\n",
      "  log_vector = np.where(vector > 0, np.log(vector), 0)  # Or another value for zero entries\n"
     ]
    },
    {
     "data": {
      "image/png": "[encoded data removed]",
      "text/plain": [
       "<Figure size 640x480 with 1 Axes>"
      ]
     },
     "metadata": {},
     "output_type": "display_data"
    }
   ],
   "source": [
    "# Make a histogram of values in y\n",
    "import matplotlib.pyplot as plt\n",
    "\n",
    "def plot_y(data, title=\"Histogram of fatalities\"):\n",
    "    bins = range(0, 30, 1)\n",
    "    plt.hist(data, bins=bins)\n",
    "    plt.title('Histogram of fatalities')\n",
    "    plt.xlabel('Value')\n",
    "    plt.ylabel('Frequency')\n",
    "    plt.show()\n",
    "\n",
    "vector = np.array(y_test)\n",
    "log_vector = np.where(vector > 0, np.log(vector), 0)  # Or another value for zero entries\n",
    "\n",
    "plot_y(log_vector)\n",
    "## for printing\n",
    "# for t in zip(log_vector, y_test): print(t)\n",
    "\n"
   ]
  },
  {
   "cell_type": "code",
   "execution_count": 73,
   "metadata": {},
   "outputs": [
    {
     "data": {
      "text/html": [
       "<div>\n",
       "<style scoped>\n",
       "    .dataframe tbody tr th:only-of-type {\n",
       "        vertical-align: middle;\n",
       "    }\n",
       "\n",
       "    .dataframe tbody tr th {\n",
       "        vertical-align: top;\n",
       "    }\n",
       "\n",
       "    .dataframe thead th {\n",
       "        text-align: right;\n",
       "    }\n",
       "</style>\n",
       "<table border=\"1\" class=\"dataframe\">\n",
       "  <thead>\n",
       "    <tr style=\"text-align: right;\">\n",
       "      <th></th>\n",
       "      <th>0</th>\n",
       "    </tr>\n",
       "  </thead>\n",
       "  <tbody>\n",
       "    <tr>\n",
       "      <th>count</th>\n",
       "      <td>1846.000000</td>\n",
       "    </tr>\n",
       "    <tr>\n",
       "      <th>mean</th>\n",
       "      <td>0.600310</td>\n",
       "    </tr>\n",
       "    <tr>\n",
       "      <th>std</th>\n",
       "      <td>1.046074</td>\n",
       "    </tr>\n",
       "    <tr>\n",
       "      <th>min</th>\n",
       "      <td>0.000000</td>\n",
       "    </tr>\n",
       "    <tr>\n",
       "      <th>25%</th>\n",
       "      <td>0.000000</td>\n",
       "    </tr>\n",
       "    <tr>\n",
       "      <th>50%</th>\n",
       "      <td>0.000000</td>\n",
       "    </tr>\n",
       "    <tr>\n",
       "      <th>75%</th>\n",
       "      <td>1.098612</td>\n",
       "    </tr>\n",
       "    <tr>\n",
       "      <th>max</th>\n",
       "      <td>6.391917</td>\n",
       "    </tr>\n",
       "  </tbody>\n",
       "</table>\n",
       "</div>"
      ],
      "text/plain": [
       "                 0\n",
       "count  1846.000000\n",
       "mean      0.600310\n",
       "std       1.046074\n",
       "min       0.000000\n",
       "25%       0.000000\n",
       "50%       0.000000\n",
       "75%       1.098612\n",
       "max       6.391917"
      ]
     },
     "execution_count": 73,
     "metadata": {},
     "output_type": "execute_result"
    }
   ],
   "source": [
    "describe = pd.DataFrame(log_vector)\n",
    "describe.describe()"
   ]
  },
  {
   "cell_type": "code",
   "execution_count": 55,
   "metadata": {},
   "outputs": [
    {
     "data": {
      "image/png": "[encoded data removed]",
      "text/plain": [
       "<Figure size 640x480 with 1 Axes>"
      ]
     },
     "metadata": {},
     "output_type": "display_data"
    }
   ],
   "source": [
    "plt.scatter(X_test['TIMESTAMP'], y_test, color='blue', label='true values')\n",
    "plt.scatter(X_test['TIMESTAMP'], y_pred_zero, color='red', label='predicted values')\n",
    "plt.ylim(0, 30)\n",
    "plt.title('Timestamp vs. y_test and y_pred_zero')\n",
    "plt.xlabel('Timestamp')\n",
    "plt.ylabel('Values')\n",
    "plt.legend()\n",
    "plt.show()\n"
   ]
  },
  {
   "cell_type": "code",
   "execution_count": null,
   "metadata": {},
   "outputs": [],
   "source": []
  }
 ],
 "metadata": {
  "kernelspec": {
   "display_name": "c-network",
   "language": "python",
   "name": "python3"
  },
  "language_info": {
   "codemirror_mode": {
    "name": "ipython",
    "version": 3
   },
   "file_extension": ".py",
   "mimetype": "text/x-python",
   "name": "python",
   "nbconvert_exporter": "python",
   "pygments_lexer": "ipython3",
   "version": "3.12.0"
  }
 },
 "nbformat": 4,
 "nbformat_minor": 2
}
