{
 "cells": [
  {
   "cell_type": "markdown",
   "metadata": {},
   "source": [
    "## eda + prelim linear regression \n",
    "on acled and ucdp data"
   ]
  },
  {
   "cell_type": "code",
   "execution_count": 64,
   "metadata": {},
   "outputs": [],
   "source": [
    "import xgboost as xgb\n",
    "from sklearn.pipeline import Pipeline\n",
    "from sklearn.model_selection import train_test_split\n",
    "from sklearn.compose import ColumnTransformer\n",
    "from sklearn.preprocessing import StandardScaler, OneHotEncoder\n",
    "from sklearn.linear_model import LinearRegression, Lasso, Ridge, ElasticNet, ElasticNetCV, MultiTaskElasticNet\n",
    "from sklearn.ensemble import RandomForestRegressor\n",
    "from sklearn.neural_network import MLPRegressor\n",
    "import pandas as pd\n",
    "import matplotlib as plt\n"
   ]
  },
  {
   "cell_type": "code",
   "execution_count": 43,
   "metadata": {},
   "outputs": [],
   "source": [
    "\n",
    "acled_df = pd.read_csv('../data/acled/darfur.csv') ## 9316 entries, 32 cols\n",
    "# print(acled_df.info()) \n",
    "# print(acled_df.columns)\n",
    "# acled_df['FATALITIES']\n",
    "\n",
    "\n",
    "# ucdp_df = pd.read_csv(\"../data/ucdp/darfur_113023.csv\").drop('low_est', axis=1) ## 1669 entries, 48 cols\n",
    "# # print(ucdp_df.info()) \n",
    "# print(ucdp_df.columns)\n",
    "# ucdp_df.dropna(inplace=True)\n",
    "# ucdp_df"
   ]
  },
  {
   "cell_type": "code",
   "execution_count": 161,
   "metadata": {},
   "outputs": [
    {
     "name": "stdout",
     "output_type": "stream",
     "text": [
      "Model score: 0.306\n"
     ]
    }
   ],
   "source": [
    "data = acled_df\n",
    "X = data.drop('FATALITIES', axis=1)\n",
    "y = data['FATALITIES']\n",
    "\n",
    "# data = ucdp_df\n",
    "# X = data.drop('best_est', axis=1)\n",
    "# y = data['best_est']\n",
    "\n",
    "X_train, X_test, y_train, y_test = train_test_split(X, y, test_size=0.3, random_state=42)\n",
    "\n",
    "# Define categorical and numerical features\n",
    "categorical_features = X.select_dtypes(include=['object']).columns.tolist()\n",
    "numeric_features = X.select_dtypes(include=['int64', 'float64']).columns.tolist()\n",
    "\n",
    "# Create transformers for numeric and categorical features\n",
    "## could use Imputer() from sklearn.preprocessing\n",
    "numeric_transformer = StandardScaler()\n",
    "categorical_transformer = OneHotEncoder(handle_unknown='ignore')\n",
    "\n",
    "# Create a column transformer to apply different preprocessing to different columns\n",
    "preprocessor = ColumnTransformer(\n",
    "    transformers=[\n",
    "        ('num', numeric_transformer, numeric_features),\n",
    "        ('cat', categorical_transformer, categorical_features)\n",
    "    ])\n",
    "\n",
    "# Create a pipeline with the preprocessor and a linear regression classifier\n",
    "model = Pipeline(steps=[\n",
    "    ('preprocessor', preprocessor),\n",
    "    ('classifier', Ridge(alpha=0.1))\n",
    "])\n",
    "\n",
    "# Train the model\n",
    "model.fit(X_train, y_train)\n",
    "\n",
    "# Evaluate the model (you can use appropriate metrics for your problem)\n",
    "## 1 is the best, r^2 score\n",
    "print(\"Model score: %.3f\" % model.score(X_test, y_test))\n"
   ]
  },
  {
   "cell_type": "code",
   "execution_count": 162,
   "metadata": {},
   "outputs": [
    {
     "name": "stdout",
     "output_type": "stream",
     "text": [
      "Mean Squared Error: 407.3995578664573\n"
     ]
    }
   ],
   "source": [
    "## evaluating the model \n",
    "from sklearn.metrics import mean_squared_error\n",
    "\n",
    "y_pred = model.predict(X_test)\n",
    "mse = mean_squared_error(y_test, y_pred)\n",
    "print(f\"Mean Squared Error: {mse}\")\n"
   ]
  },
  {
   "cell_type": "code",
   "execution_count": 163,
   "metadata": {},
   "outputs": [
    {
     "name": "stdout",
     "output_type": "stream",
     "text": [
      "R-squared: 0.3058689696478991\n"
     ]
    }
   ],
   "source": [
    "from sklearn.metrics import r2_score\n",
    "\n",
    "## the closer to 1 the better\n",
    "r2 = r2_score(y_test, y_pred)\n",
    "print(f\"R-squared: {r2}\")\n"
   ]
  },
  {
   "cell_type": "code",
   "execution_count": 152,
   "metadata": {},
   "outputs": [
    {
     "name": "stdout",
     "output_type": "stream",
     "text": [
      "Best Model score: 0.233\n",
      "Best alpha value: 10\n"
     ]
    }
   ],
   "source": [
    "from sklearn.model_selection import GridSearchCV\n",
    "\n",
    "# Define the parameter grid for Ridge\n",
    "param_grid = {'classifier__alpha': [0, 0.05, 0.1, 0.2, 1, 10]}  # Define the alpha values you want to test\n",
    "\n",
    "# Create a GridSearchCV object\n",
    "grid_search = GridSearchCV(model, param_grid, cv=5, scoring='r2')  # cv is the number of folds for cross-validation\n",
    "\n",
    "# Fit the GridSearchCV object\n",
    "grid_search.fit(X_train, y_train)\n",
    "\n",
    "# Get the best estimator\n",
    "best_model = grid_search.best_estimator_\n",
    "\n",
    "# Evaluate the best model\n",
    "print(\"Best Model score: %.3f\" % best_model.score(X_test, y_test))\n",
    "print(f\"Best alpha value: {best_model.named_steps['classifier'].alpha}\")\n"
   ]
  },
  {
   "cell_type": "code",
   "execution_count": 153,
   "metadata": {},
   "outputs": [
    {
     "data": {
      "text/html": [
       "<div>\n",
       "<style scoped>\n",
       "    .dataframe tbody tr th:only-of-type {\n",
       "        vertical-align: middle;\n",
       "    }\n",
       "\n",
       "    .dataframe tbody tr th {\n",
       "        vertical-align: top;\n",
       "    }\n",
       "\n",
       "    .dataframe thead th {\n",
       "        text-align: right;\n",
       "    }\n",
       "</style>\n",
       "<table border=\"1\" class=\"dataframe\">\n",
       "  <thead>\n",
       "    <tr style=\"text-align: right;\">\n",
       "      <th></th>\n",
       "      <th>mean_fit_time</th>\n",
       "      <th>std_fit_time</th>\n",
       "      <th>mean_score_time</th>\n",
       "      <th>std_score_time</th>\n",
       "      <th>param_classifier__alpha</th>\n",
       "      <th>params</th>\n",
       "      <th>split0_test_score</th>\n",
       "      <th>split1_test_score</th>\n",
       "      <th>split2_test_score</th>\n",
       "      <th>split3_test_score</th>\n",
       "      <th>split4_test_score</th>\n",
       "      <th>mean_test_score</th>\n",
       "      <th>std_test_score</th>\n",
       "      <th>rank_test_score</th>\n",
       "    </tr>\n",
       "  </thead>\n",
       "  <tbody>\n",
       "    <tr>\n",
       "      <th>0</th>\n",
       "      <td>0.091854</td>\n",
       "      <td>0.005392</td>\n",
       "      <td>0.016234</td>\n",
       "      <td>0.000815</td>\n",
       "      <td>0</td>\n",
       "      <td>{'classifier__alpha': 0}</td>\n",
       "      <td>0.070326</td>\n",
       "      <td>0.100108</td>\n",
       "      <td>0.049574</td>\n",
       "      <td>-0.609154</td>\n",
       "      <td>-0.051657</td>\n",
       "      <td>-0.088161</td>\n",
       "      <td>0.265443</td>\n",
       "      <td>6</td>\n",
       "    </tr>\n",
       "    <tr>\n",
       "      <th>1</th>\n",
       "      <td>0.089239</td>\n",
       "      <td>0.006120</td>\n",
       "      <td>0.016586</td>\n",
       "      <td>0.000675</td>\n",
       "      <td>0.05</td>\n",
       "      <td>{'classifier__alpha': 0.05}</td>\n",
       "      <td>0.071620</td>\n",
       "      <td>0.100164</td>\n",
       "      <td>0.050300</td>\n",
       "      <td>-0.601663</td>\n",
       "      <td>-0.049235</td>\n",
       "      <td>-0.085763</td>\n",
       "      <td>0.262807</td>\n",
       "      <td>5</td>\n",
       "    </tr>\n",
       "    <tr>\n",
       "      <th>2</th>\n",
       "      <td>0.087318</td>\n",
       "      <td>0.005872</td>\n",
       "      <td>0.015923</td>\n",
       "      <td>0.000318</td>\n",
       "      <td>0.1</td>\n",
       "      <td>{'classifier__alpha': 0.1}</td>\n",
       "      <td>0.072829</td>\n",
       "      <td>0.100210</td>\n",
       "      <td>0.051006</td>\n",
       "      <td>-0.594431</td>\n",
       "      <td>-0.046911</td>\n",
       "      <td>-0.083459</td>\n",
       "      <td>0.260257</td>\n",
       "      <td>4</td>\n",
       "    </tr>\n",
       "    <tr>\n",
       "      <th>3</th>\n",
       "      <td>0.083552</td>\n",
       "      <td>0.005357</td>\n",
       "      <td>0.015405</td>\n",
       "      <td>0.000407</td>\n",
       "      <td>0.2</td>\n",
       "      <td>{'classifier__alpha': 0.2}</td>\n",
       "      <td>0.074946</td>\n",
       "      <td>0.100267</td>\n",
       "      <td>0.052340</td>\n",
       "      <td>-0.580684</td>\n",
       "      <td>-0.042550</td>\n",
       "      <td>-0.079136</td>\n",
       "      <td>0.255383</td>\n",
       "      <td>3</td>\n",
       "    </tr>\n",
       "    <tr>\n",
       "      <th>4</th>\n",
       "      <td>0.070775</td>\n",
       "      <td>0.004081</td>\n",
       "      <td>0.014927</td>\n",
       "      <td>0.000164</td>\n",
       "      <td>1</td>\n",
       "      <td>{'classifier__alpha': 1}</td>\n",
       "      <td>0.084717</td>\n",
       "      <td>0.100042</td>\n",
       "      <td>0.060771</td>\n",
       "      <td>-0.497609</td>\n",
       "      <td>-0.016477</td>\n",
       "      <td>-0.053711</td>\n",
       "      <td>0.225539</td>\n",
       "      <td>2</td>\n",
       "    </tr>\n",
       "    <tr>\n",
       "      <th>5</th>\n",
       "      <td>0.049193</td>\n",
       "      <td>0.000359</td>\n",
       "      <td>0.014720</td>\n",
       "      <td>0.000133</td>\n",
       "      <td>10</td>\n",
       "      <td>{'classifier__alpha': 10}</td>\n",
       "      <td>0.102640</td>\n",
       "      <td>0.096749</td>\n",
       "      <td>0.087248</td>\n",
       "      <td>-0.247968</td>\n",
       "      <td>0.055480</td>\n",
       "      <td>0.018830</td>\n",
       "      <td>0.134388</td>\n",
       "      <td>1</td>\n",
       "    </tr>\n",
       "  </tbody>\n",
       "</table>\n",
       "</div>"
      ],
      "text/plain": [
       "   mean_fit_time  std_fit_time  mean_score_time  std_score_time  \\\n",
       "0       0.091854      0.005392         0.016234        0.000815   \n",
       "1       0.089239      0.006120         0.016586        0.000675   \n",
       "2       0.087318      0.005872         0.015923        0.000318   \n",
       "3       0.083552      0.005357         0.015405        0.000407   \n",
       "4       0.070775      0.004081         0.014927        0.000164   \n",
       "5       0.049193      0.000359         0.014720        0.000133   \n",
       "\n",
       "  param_classifier__alpha                       params  split0_test_score  \\\n",
       "0                       0     {'classifier__alpha': 0}           0.070326   \n",
       "1                    0.05  {'classifier__alpha': 0.05}           0.071620   \n",
       "2                     0.1   {'classifier__alpha': 0.1}           0.072829   \n",
       "3                     0.2   {'classifier__alpha': 0.2}           0.074946   \n",
       "4                       1     {'classifier__alpha': 1}           0.084717   \n",
       "5                      10    {'classifier__alpha': 10}           0.102640   \n",
       "\n",
       "   split1_test_score  split2_test_score  split3_test_score  split4_test_score  \\\n",
       "0           0.100108           0.049574          -0.609154          -0.051657   \n",
       "1           0.100164           0.050300          -0.601663          -0.049235   \n",
       "2           0.100210           0.051006          -0.594431          -0.046911   \n",
       "3           0.100267           0.052340          -0.580684          -0.042550   \n",
       "4           0.100042           0.060771          -0.497609          -0.016477   \n",
       "5           0.096749           0.087248          -0.247968           0.055480   \n",
       "\n",
       "   mean_test_score  std_test_score  rank_test_score  \n",
       "0        -0.088161        0.265443                6  \n",
       "1        -0.085763        0.262807                5  \n",
       "2        -0.083459        0.260257                4  \n",
       "3        -0.079136        0.255383                3  \n",
       "4        -0.053711        0.225539                2  \n",
       "5         0.018830        0.134388                1  "
      ]
     },
     "execution_count": 153,
     "metadata": {},
     "output_type": "execute_result"
    }
   ],
   "source": [
    "best = pd.DataFrame(grid_search.cv_results_)\n",
    "best"
   ]
  },
  {
   "cell_type": "markdown",
   "metadata": {},
   "source": [
    "## raw results\n",
    "\n",
    "on acled, darfur data:\n",
    "\n",
    "test size: .2\n",
    "- linear: LinearRegression()[0.1], Ridge() [0.147], Lasso()[0.052], ElasticNet()[0.05]\n",
    "- trees: XGBRegressor()[0.25], RandomForestRegressor()[0.356, but takes a long time]\n",
    "- neural network: MLPRegressor()[-5.803]\n",
    "- also something called MultiTaskElasticNet() that doesn't work on sparse data \n",
    "- ElasticNetCV() does not run \n",
    "\n",
    "test size: .3\n",
    "- LinearRegression() [0.304], Ridge() [0.300], Lasso and EN both [0.047]\n",
    "- Ridge alpha CV: 71 best for MSE [450 ish], 80 best for R2[0.154] (not a thorough check)"
   ]
  },
  {
   "cell_type": "code",
   "execution_count": null,
   "metadata": {},
   "outputs": [],
   "source": []
  },
  {
   "cell_type": "code",
   "execution_count": null,
   "metadata": {},
   "outputs": [],
   "source": []
  }
 ],
 "metadata": {
  "kernelspec": {
   "display_name": "c-network",
   "language": "python",
   "name": "python3"
  },
  "language_info": {
   "codemirror_mode": {
    "name": "ipython",
    "version": 3
   },
   "file_extension": ".py",
   "mimetype": "text/x-python",
   "name": "python",
   "nbconvert_exporter": "python",
   "pygments_lexer": "ipython3",
   "version": "3.12.0"
  }
 },
 "nbformat": 4,
 "nbformat_minor": 2
}
