{
 "cells": [
  {
   "attachments": {},
   "cell_type": "markdown",
   "metadata": {},
   "source": [
    "# sampling under class imbalance\n",
    "two kinds:\n",
    "- Synthetic Minority Over-Sampling Technique (SMOTE), in imblearn\n",
    "    - More information about SMOTE [here](https://machinelearningmastery.com/smote-oversampling-for-imbalanced-classification/)\n",
    "- Random Over-Sampling Examples (ROSE)"
   ]
  },
  {
   "cell_type": "code",
   "execution_count": 5,
   "metadata": {},
   "outputs": [
    {
     "name": "stdout",
     "output_type": "stream",
     "text": [
      "   LATITUDE  LONGITUDE  FATALITIES   TIMESTAMP  y_true\n",
      "0     9.616     27.499           2  1687837306       0\n",
      "1     9.616     27.499          11  1673906973       1\n",
      "2     9.604     27.734          15  1649110873       1\n",
      "3     9.616     27.499           5  1673906973       0\n",
      "4     9.616     27.499           1  1673906973       0\n"
     ]
    }
   ],
   "source": [
    "import pandas as pd\n",
    "df = pd.read_csv(\"../data/acled/darfur.csv\")\n",
    "df.columns\n",
    "\n",
    "selected_columns = ['LATITUDE', 'LONGITUDE', 'FATALITIES', 'TIMESTAMP']\n",
    "df_short = df[selected_columns].copy()\n",
    "df_short[\"y_true\"] = (df[\"FATALITIES\"] > 5).astype(int)\n",
    "print(df_short.head())"
   ]
  },
  {
   "cell_type": "code",
   "execution_count": null,
   "metadata": {},
   "outputs": [],
   "source": []
  }
 ],
 "metadata": {
  "kernelspec": {
   "display_name": "c-modal",
   "language": "python",
   "name": "python3"
  },
  "language_info": {
   "codemirror_mode": {
    "name": "ipython",
    "version": 3
   },
   "file_extension": ".py",
   "mimetype": "text/x-python",
   "name": "python",
   "nbconvert_exporter": "python",
   "pygments_lexer": "ipython3",
   "version": "3.10.13"
  },
  "orig_nbformat": 4
 },
 "nbformat": 4,
 "nbformat_minor": 2
}
