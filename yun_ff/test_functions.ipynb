{
 "cells": [
  {
   "cell_type": "code",
   "execution_count": 1,
   "metadata": {},
   "outputs": [],
   "source": [
    "%run ./enums.py"
   ]
  },
  {
   "cell_type": "markdown",
   "metadata": {},
   "source": [
    "# fuzzy match"
   ]
  },
  {
   "cell_type": "code",
   "execution_count": 7,
   "metadata": {},
   "outputs": [],
   "source": [
    "from difflib import get_close_matches\n",
    "\n",
    "def fuzzy_match(input):\n",
    "    \"\"\"\n",
    "    input: string given by user in search\n",
    "    \"\"\"\n",
    "    closest_match = get_close_matches(input, supported_countries, n=1, cutoff=0.6)\n",
    "    return closest_match[0] if closest_match else None\n"
   ]
  },
  {
   "cell_type": "code",
   "execution_count": 9,
   "metadata": {},
   "outputs": [
    {
     "name": "stdout",
     "output_type": "stream",
     "text": [
      "None\n"
     ]
    }
   ],
   "source": [
    "print(fuzzy_match(\"eritrea\"))"
   ]
  },
  {
   "cell_type": "code",
   "execution_count": 1,
   "metadata": {},
   "outputs": [
    {
     "name": "stdout",
     "output_type": "stream",
     "text": [
      "Collecting mpld3\n",
      "  Downloading mpld3-0.5.10-py3-none-any.whl.metadata (5.1 kB)\n",
      "Requirement already satisfied: jinja2 in /Users/kaylahuang/opt/anaconda3/envs/c-network/lib/python3.12/site-packages (from mpld3) (3.1.2)\n",
      "Requirement already satisfied: matplotlib in /Users/kaylahuang/opt/anaconda3/envs/c-network/lib/python3.12/site-packages (from mpld3) (3.8.1)\n",
      "Requirement already satisfied: MarkupSafe>=2.0 in /Users/kaylahuang/opt/anaconda3/envs/c-network/lib/python3.12/site-packages (from jinja2->mpld3) (2.1.3)\n",
      "Requirement already satisfied: contourpy>=1.0.1 in /Users/kaylahuang/opt/anaconda3/envs/c-network/lib/python3.12/site-packages (from matplotlib->mpld3) (1.2.0)\n",
      "Requirement already satisfied: cycler>=0.10 in /Users/kaylahuang/opt/anaconda3/envs/c-network/lib/python3.12/site-packages (from matplotlib->mpld3) (0.12.1)\n",
      "Requirement already satisfied: fonttools>=4.22.0 in /Users/kaylahuang/opt/anaconda3/envs/c-network/lib/python3.12/site-packages (from matplotlib->mpld3) (4.44.0)\n",
      "Requirement already satisfied: kiwisolver>=1.3.1 in /Users/kaylahuang/opt/anaconda3/envs/c-network/lib/python3.12/site-packages (from matplotlib->mpld3) (1.4.5)\n",
      "Requirement already satisfied: numpy<2,>=1.21 in /Users/kaylahuang/opt/anaconda3/envs/c-network/lib/python3.12/site-packages (from matplotlib->mpld3) (1.26.1)\n",
      "Requirement already satisfied: packaging>=20.0 in /Users/kaylahuang/opt/anaconda3/envs/c-network/lib/python3.12/site-packages (from matplotlib->mpld3) (23.2)\n",
      "Requirement already satisfied: pillow>=8 in /Users/kaylahuang/opt/anaconda3/envs/c-network/lib/python3.12/site-packages (from matplotlib->mpld3) (10.1.0)\n",
      "Requirement already satisfied: pyparsing>=2.3.1 in /Users/kaylahuang/opt/anaconda3/envs/c-network/lib/python3.12/site-packages (from matplotlib->mpld3) (3.1.1)\n",
      "Requirement already satisfied: python-dateutil>=2.7 in /Users/kaylahuang/opt/anaconda3/envs/c-network/lib/python3.12/site-packages (from matplotlib->mpld3) (2.8.2)\n",
      "Requirement already satisfied: six>=1.5 in /Users/kaylahuang/opt/anaconda3/envs/c-network/lib/python3.12/site-packages (from python-dateutil>=2.7->matplotlib->mpld3) (1.16.0)\n",
      "Downloading mpld3-0.5.10-py3-none-any.whl (202 kB)\n",
      "\u001b[2K   \u001b[90m━━━━━━━━━━━━━━━━━━━━━━━━━━━━━━━━━━━━━━━━\u001b[0m \u001b[32m202.6/202.6 kB\u001b[0m \u001b[31m73.4 kB/s\u001b[0m eta \u001b[36m0:00:00\u001b[0ma \u001b[36m0:00:01\u001b[0m\n",
      "\u001b[?25hInstalling collected packages: mpld3\n",
      "Successfully installed mpld3-0.5.10\n",
      "\n",
      "\u001b[1m[\u001b[0m\u001b[34;49mnotice\u001b[0m\u001b[1;39;49m]\u001b[0m\u001b[39;49m A new release of pip is available: \u001b[0m\u001b[31;49m23.3.1\u001b[0m\u001b[39;49m -> \u001b[0m\u001b[32;49m24.0\u001b[0m\n",
      "\u001b[1m[\u001b[0m\u001b[34;49mnotice\u001b[0m\u001b[1;39;49m]\u001b[0m\u001b[39;49m To update, run: \u001b[0m\u001b[32;49mpip install --upgrade pip\u001b[0m\n",
      "Note: you may need to restart the kernel to use updated packages.\n"
     ]
    }
   ],
   "source": [
    "%pip install mpld3"
   ]
  },
  {
   "cell_type": "code",
   "execution_count": null,
   "metadata": {},
   "outputs": [],
   "source": []
  }
 ],
 "metadata": {
  "kernelspec": {
   "display_name": "c-network",
   "language": "python",
   "name": "python3"
  },
  "language_info": {
   "codemirror_mode": {
    "name": "ipython",
    "version": 3
   },
   "file_extension": ".py",
   "mimetype": "text/x-python",
   "name": "python",
   "nbconvert_exporter": "python",
   "pygments_lexer": "ipython3",
   "version": "3.12.0"
  }
 },
 "nbformat": 4,
 "nbformat_minor": 2
}
